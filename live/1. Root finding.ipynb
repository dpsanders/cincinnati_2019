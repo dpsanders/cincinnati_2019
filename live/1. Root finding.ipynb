{
 "cells": [
  {
   "cell_type": "markdown",
   "metadata": {},
   "source": [
    "# Intermediate Julia for scientific computing"
   ]
  },
  {
   "cell_type": "markdown",
   "metadata": {},
   "source": [
    "This workshop is designed to introduce two fundamental concepts in Julia: **types** and **metaprogramming**.\n",
    "\n",
    "In order to cover various key uses of types in Julia, we have chosen to frame the discussion around a concrete topic in scientific computing, namely **root-finding**. \n",
    "The goal is *not* to learn algorithms for root finding *per se*, but rather to have a (pseudo-)real context in which to explore various concepts centered around types and how they arise naturally in real applications of Julia, in particular applications of **multiple dispatch**, which is one of the core choices in Julia that differentiate it from other common languages.\n",
    "\n",
    "We will implement a couple of root-finding algorithms just to have something to work with. These will just be toy implementations that are far away from the best implementations. \n",
    "\n",
    "Instead we should use one of the high-quality packages that are available in Julia for this purpose. The large number of them shows the importance of root finding. The ones that I am aware of are the following (in alphabetical order):"
   ]
  },
  {
   "cell_type": "markdown",
   "metadata": {},
   "source": [
    "- Single root of a nonlinear function:\n",
    "    - [`NLsolve.jl`](https://github.com/JuliaNLSolvers/NLsolve.jl)\n",
    "    - [`Roots.jl`](https://github.com/JuliaMath/Roots.jl)\n",
    "\n",
    "- All roots of polynomial:\n",
    "    - [`HomotopyContinuation.jl`](https://www.juliahomotopycontinuation.org)\n",
    "    - [`PolynomialRoots.jl`](https://github.com/giordano/PolynomialRoots.jl)\n",
    "    - [`Polynomials.jl`](https://github.com/JuliaMath/Polynomials.jl)\n",
    "    \n",
    "- All roots of a nonlinear function:\n",
    "    - [`ApproxFun.jl`](https://github.com/JuliaApproximation/ApproxFun.jl)\n",
    "    - [`IntervalRootFinding.jl`](https://github.com/JuliaIntervals/IntervalRootFinding.jl)\n",
    "    - [`MDBM.jl`](https://github.com/bachrathyd/MDBM.jl)\n",
    "    - [`Roots.jl`](https://github.com/JuliaMath/Roots.jl)"
   ]
  },
  {
   "cell_type": "markdown",
   "metadata": {},
   "source": [
    "Each of these uses different techniques, with different advantages and disadvantages."
   ]
  },
  {
   "cell_type": "markdown",
   "metadata": {},
   "source": [
    "The challenge exercise for the workshop is: develop a package which integrates all of these disparate packages into a coherent whole!"
   ]
  },
  {
   "cell_type": "markdown",
   "metadata": {},
   "source": [
    "### Logistics of the workshop"
   ]
  },
  {
   "cell_type": "markdown",
   "metadata": {},
   "source": [
    "The workshop is based around a series of exercises to be done during the workshop. We will pause to work on the exercises and then I will discuss possible solutions during the workshop."
   ]
  },
  {
   "cell_type": "markdown",
   "metadata": {},
   "source": [
    "These techniques are useful for both users and developers; indeed, in Julia the distinction between users and developers is not useful, since it's much easier than in other languages to join the two categories together."
   ]
  },
  {
   "cell_type": "markdown",
   "metadata": {},
   "source": [
    "### Outline"
   ]
  },
  {
   "cell_type": "markdown",
   "metadata": {},
   "source": [
    "We will start by quickly reviewing roots of functions and quickly reviewing one of the standard algorithms, **Newton's algorithm**. We will restrict to finding roots of 1D functions for simplicity.\n",
    "\n",
    "Newton's algorithm requires the calculation of derivatives, for which several choices of algorithm are available. We will see how to encode the choice of algorithm using dispatch.\n",
    "\n",
    "Then we will define types which will contain all information about a root-finding problem."
   ]
  },
  {
   "cell_type": "markdown",
   "metadata": {},
   "source": [
    "## Roots"
   ]
  },
  {
   "cell_type": "markdown",
   "metadata": {},
   "source": [
    "Given a function $f: \\mathbb{R} \\to \\mathbb{R}$ (i.e. that accepts a single real number as argument and returns another real number), recall that a **root** or **zero** of the function is a number $x^*$ such that\n",
    "\n",
    "$$ f(x^*) = 0, $$\n",
    "\n",
    "i.e. it is a solution of the equation $f(x) = 0$.\n",
    "\n",
    "In general it is impossible to solve this equation exactly for $x^*$, so we use iterative numerical algorithms instead."
   ]
  },
  {
   "cell_type": "markdown",
   "metadata": {},
   "source": [
    "#### Example"
   ]
  },
  {
   "cell_type": "markdown",
   "metadata": {},
   "source": [
    "Recall that the function $f$ given by $f(x) := x^2 - 2$ has exactly two roots, at $x^*_1 = +\\sqrt{2}$ and $x^*_2 = -\\sqrt{2}$. Note that it is impossible to represent these values exactly using floating-point arithmetic."
   ]
  },
  {
   "cell_type": "markdown",
   "metadata": {},
   "source": [
    "## Newton algorithm"
   ]
  },
  {
   "cell_type": "markdown",
   "metadata": {},
   "source": [
    "The Newton algorithm for (possibly) finding a root of a nonlinear function $f(x)$ in 1D is the following iteration:"
   ]
  },
  {
   "cell_type": "markdown",
   "metadata": {},
   "source": [
    "$$x_{n+1} = x_n - \\frac{f(x_n)}{f'(x_n)},$$\n",
    "\n",
    "where $f'$ is the derivative of $f$. We start from an initial guess $x_0$ that can be almost anything (except points for which $f'(x_0) = 0$)."
   ]
  },
  {
   "cell_type": "markdown",
   "metadata": {},
   "source": [
    "#### Exercise 1"
   ]
  },
  {
   "cell_type": "markdown",
   "metadata": {},
   "source": [
    "1. Implement the Newton algorithm for a fixed number $n$ of steps in a function `newton`, starting from a given starting point $x_0$.  \n",
    "\n",
    "    Hint: Which information does the function require?\n",
    "\n",
    "\n",
    "2. Does your function work with other number types, such as `BigFloat`? What do you need in order to run it with those types? Use it to calculate $\\sqrt{2}$. How many decimal places are correct with the standard precision of `BigFloat`?"
   ]
  },
  {
   "cell_type": "markdown",
   "metadata": {},
   "source": [
    "Want to find roots of some Julia function. How can we define a function in Julia?"
   ]
  },
  {
   "cell_type": "code",
   "execution_count": 5,
   "metadata": {},
   "outputs": [
    {
     "data": {
      "text/plain": [
       "f (generic function with 1 method)"
      ]
     },
     "execution_count": 5,
     "metadata": {},
     "output_type": "execute_result"
    }
   ],
   "source": [
    "function f(x)\n",
    "    \n",
    "    @show x   # prints out the value of x\n",
    "    \n",
    "    y = x^2 - 2\n",
    "    \n",
    "    @show y\n",
    "\n",
    "    return y   # always return information from a function\n",
    "end"
   ]
  },
  {
   "cell_type": "code",
   "execution_count": 6,
   "metadata": {},
   "outputs": [
    {
     "data": {
      "text/plain": [
       "f2 (generic function with 1 method)"
      ]
     },
     "execution_count": 6,
     "metadata": {},
     "output_type": "execute_result"
    }
   ],
   "source": [
    "f2(x) = x^2 - 2"
   ]
  },
  {
   "cell_type": "code",
   "execution_count": 7,
   "metadata": {},
   "outputs": [
    {
     "name": "stdout",
     "output_type": "stream",
     "text": [
      "x = 10\n",
      "y = 98\n"
     ]
    },
    {
     "data": {
      "text/plain": [
       "98"
      ]
     },
     "execution_count": 7,
     "metadata": {},
     "output_type": "execute_result"
    }
   ],
   "source": [
    "f(10)"
   ]
  },
  {
   "cell_type": "markdown",
   "metadata": {},
   "source": [
    "The notebook automatically shows you the value that was returned."
   ]
  },
  {
   "cell_type": "code",
   "execution_count": 8,
   "metadata": {},
   "outputs": [
    {
     "name": "stdout",
     "output_type": "stream",
     "text": [
      "x = 10\n",
      "y = 98\n"
     ]
    },
    {
     "data": {
      "text/plain": [
       "98"
      ]
     },
     "execution_count": 8,
     "metadata": {},
     "output_type": "execute_result"
    }
   ],
   "source": [
    "result = f(10)"
   ]
  },
  {
   "cell_type": "code",
   "execution_count": 9,
   "metadata": {},
   "outputs": [
    {
     "data": {
      "text/plain": [
       "98"
      ]
     },
     "execution_count": 9,
     "metadata": {},
     "output_type": "execute_result"
    }
   ],
   "source": [
    "result"
   ]
  },
  {
   "cell_type": "code",
   "execution_count": 10,
   "metadata": {},
   "outputs": [
    {
     "data": {
      "text/plain": [
       "98"
      ]
     },
     "execution_count": 10,
     "metadata": {},
     "output_type": "execute_result"
    }
   ],
   "source": [
    "f2(10)"
   ]
  },
  {
   "cell_type": "code",
   "execution_count": 11,
   "metadata": {},
   "outputs": [
    {
     "data": {
      "text/plain": [
       "g (generic function with 1 method)"
      ]
     },
     "execution_count": 11,
     "metadata": {},
     "output_type": "execute_result"
    }
   ],
   "source": [
    "function g(x, y)\n",
    "   \n",
    "    return (x + y, x - y)\n",
    "    \n",
    "end"
   ]
  },
  {
   "cell_type": "code",
   "execution_count": 12,
   "metadata": {},
   "outputs": [
    {
     "data": {
      "text/plain": [
       "(3, -1)"
      ]
     },
     "execution_count": 12,
     "metadata": {},
     "output_type": "execute_result"
    }
   ],
   "source": [
    "g(1, 2)"
   ]
  },
  {
   "cell_type": "code",
   "execution_count": 13,
   "metadata": {},
   "outputs": [
    {
     "data": {
      "text/plain": [
       "π = 3.1415926535897..."
      ]
     },
     "execution_count": 13,
     "metadata": {},
     "output_type": "execute_result"
    }
   ],
   "source": [
    "π"
   ]
  },
  {
   "cell_type": "code",
   "execution_count": 14,
   "metadata": {},
   "outputs": [
    {
     "data": {
      "text/plain": [
       "volume_sphere (generic function with 1 method)"
      ]
     },
     "execution_count": 14,
     "metadata": {},
     "output_type": "execute_result"
    }
   ],
   "source": [
    "function volume_sphere(r)\n",
    "    return (4/3) * π * r^3\n",
    "end"
   ]
  },
  {
   "cell_type": "code",
   "execution_count": 15,
   "metadata": {},
   "outputs": [
    {
     "data": {
      "text/plain": [
       "33.510321638291124"
      ]
     },
     "execution_count": 15,
     "metadata": {},
     "output_type": "execute_result"
    }
   ],
   "source": [
    "volume_sphere(2.0)"
   ]
  },
  {
   "cell_type": "code",
   "execution_count": 35,
   "metadata": {},
   "outputs": [
    {
     "data": {
      "text/plain": [
       "33.510321638291124"
      ]
     },
     "execution_count": 35,
     "metadata": {},
     "output_type": "execute_result"
    }
   ],
   "source": [
    "volume_sphere(2)"
   ]
  },
  {
   "cell_type": "code",
   "execution_count": 36,
   "metadata": {},
   "outputs": [
    {
     "data": {
      "text/plain": [
       "8"
      ]
     },
     "execution_count": 36,
     "metadata": {},
     "output_type": "execute_result"
    }
   ],
   "source": [
    "2^3"
   ]
  },
  {
   "cell_type": "code",
   "execution_count": 37,
   "metadata": {},
   "outputs": [
    {
     "data": {
      "text/plain": [
       "0.125"
      ]
     },
     "execution_count": 37,
     "metadata": {},
     "output_type": "execute_result"
    }
   ],
   "source": []
  },
  {
   "cell_type": "code",
   "execution_count": 38,
   "metadata": {},
   "outputs": [
    {
     "data": {
      "text/plain": [
       "-0.125"
      ]
     },
     "execution_count": 38,
     "metadata": {},
     "output_type": "execute_result"
    }
   ],
   "source": []
  },
  {
   "cell_type": "code",
   "execution_count": null,
   "metadata": {},
   "outputs": [],
   "source": []
  },
  {
   "cell_type": "code",
   "execution_count": 16,
   "metadata": {},
   "outputs": [
    {
     "data": {
      "text/plain": [
       "2"
      ]
     },
     "execution_count": 16,
     "metadata": {},
     "output_type": "execute_result"
    }
   ],
   "source": [
    "x = 2"
   ]
  },
  {
   "cell_type": "code",
   "execution_count": 17,
   "metadata": {},
   "outputs": [
    {
     "data": {
      "text/plain": [
       "2"
      ]
     },
     "execution_count": 17,
     "metadata": {},
     "output_type": "execute_result"
    }
   ],
   "source": [
    "x"
   ]
  },
  {
   "cell_type": "markdown",
   "metadata": {},
   "source": [
    "What \"kind of thing\" is the value 2?  The technical word for \"kind of thing\" is \"type\"."
   ]
  },
  {
   "cell_type": "code",
   "execution_count": 18,
   "metadata": {},
   "outputs": [
    {
     "data": {
      "text/plain": [
       "Int64"
      ]
     },
     "execution_count": 18,
     "metadata": {},
     "output_type": "execute_result"
    }
   ],
   "source": [
    "typeof(x)"
   ]
  },
  {
   "cell_type": "markdown",
   "metadata": {},
   "source": [
    "\"64-bit integer\""
   ]
  },
  {
   "cell_type": "code",
   "execution_count": 19,
   "metadata": {},
   "outputs": [
    {
     "data": {
      "text/plain": [
       "\"0000000000000000000000000000000000000000000000000000000000000010\""
      ]
     },
     "execution_count": 19,
     "metadata": {},
     "output_type": "execute_result"
    }
   ],
   "source": [
    "bitstring(x)"
   ]
  },
  {
   "cell_type": "code",
   "execution_count": 20,
   "metadata": {},
   "outputs": [
    {
     "data": {
      "text/plain": [
       "2.0"
      ]
     },
     "execution_count": 20,
     "metadata": {},
     "output_type": "execute_result"
    }
   ],
   "source": [
    "y = Float64(x)"
   ]
  },
  {
   "cell_type": "code",
   "execution_count": 21,
   "metadata": {},
   "outputs": [
    {
     "data": {
      "text/plain": [
       "Float64"
      ]
     },
     "execution_count": 21,
     "metadata": {},
     "output_type": "execute_result"
    }
   ],
   "source": [
    "typeof(y)"
   ]
  },
  {
   "cell_type": "markdown",
   "metadata": {},
   "source": [
    "\"64-bit floating-point number\" -- approximation of a real number."
   ]
  },
  {
   "cell_type": "markdown",
   "metadata": {},
   "source": [
    "3.14 is a \"real number\""
   ]
  },
  {
   "cell_type": "code",
   "execution_count": 22,
   "metadata": {},
   "outputs": [
    {
     "data": {
      "text/plain": [
       "\"0100000000000000000000000000000000000000000000000000000000000000\""
      ]
     },
     "execution_count": 22,
     "metadata": {},
     "output_type": "execute_result"
    }
   ],
   "source": [
    "bitstring(y)"
   ]
  },
  {
   "cell_type": "code",
   "execution_count": 23,
   "metadata": {},
   "outputs": [
    {
     "data": {
      "text/plain": [
       "\"0100000000001000000000000000000000000000000000000000000000000000\""
      ]
     },
     "execution_count": 23,
     "metadata": {},
     "output_type": "execute_result"
    }
   ],
   "source": [
    "bitstring(3.0)"
   ]
  },
  {
   "cell_type": "code",
   "execution_count": 24,
   "metadata": {},
   "outputs": [
    {
     "data": {
      "text/plain": [
       "\"0000000000000000000000000000000000000000000000000000000000000011\""
      ]
     },
     "execution_count": 24,
     "metadata": {},
     "output_type": "execute_result"
    }
   ],
   "source": [
    "bitstring(3)"
   ]
  },
  {
   "cell_type": "code",
   "execution_count": 25,
   "metadata": {},
   "outputs": [
    {
     "data": {
      "text/plain": [
       "3.0"
      ]
     },
     "execution_count": 25,
     "metadata": {},
     "output_type": "execute_result"
    }
   ],
   "source": [
    "6 / 2"
   ]
  },
  {
   "cell_type": "code",
   "execution_count": 27,
   "metadata": {},
   "outputs": [
    {
     "data": {
      "text/plain": [
       "3.5"
      ]
     },
     "execution_count": 27,
     "metadata": {},
     "output_type": "execute_result"
    }
   ],
   "source": [
    "7 / 2"
   ]
  },
  {
   "cell_type": "code",
   "execution_count": 28,
   "metadata": {},
   "outputs": [
    {
     "data": {
      "text/plain": [
       "3"
      ]
     },
     "execution_count": 28,
     "metadata": {},
     "output_type": "execute_result"
    }
   ],
   "source": [
    "div(7, 2)"
   ]
  },
  {
   "cell_type": "code",
   "execution_count": 29,
   "metadata": {},
   "outputs": [
    {
     "data": {
      "text/plain": [
       "3"
      ]
     },
     "execution_count": 29,
     "metadata": {},
     "output_type": "execute_result"
    }
   ],
   "source": [
    "7 ÷ 2   # \\div -- integer division, returns an integer (whole number) result"
   ]
  },
  {
   "cell_type": "code",
   "execution_count": 30,
   "metadata": {},
   "outputs": [
    {
     "data": {
      "text/plain": [
       "3.5"
      ]
     },
     "execution_count": 30,
     "metadata": {},
     "output_type": "execute_result"
    }
   ],
   "source": [
    "7 / 2"
   ]
  },
  {
   "cell_type": "code",
   "execution_count": 31,
   "metadata": {},
   "outputs": [
    {
     "data": {
      "text/plain": [
       "3.0"
      ]
     },
     "execution_count": 31,
     "metadata": {},
     "output_type": "execute_result"
    }
   ],
   "source": [
    "6 / 2"
   ]
  },
  {
   "cell_type": "code",
   "execution_count": 26,
   "metadata": {},
   "outputs": [
    {
     "data": {
      "text/plain": [
       "6"
      ]
     },
     "execution_count": 26,
     "metadata": {},
     "output_type": "execute_result"
    }
   ],
   "source": [
    "6"
   ]
  },
  {
   "cell_type": "code",
   "execution_count": null,
   "metadata": {},
   "outputs": [],
   "source": [
    "6.0"
   ]
  },
  {
   "cell_type": "code",
   "execution_count": 32,
   "metadata": {},
   "outputs": [
    {
     "data": {
      "text/plain": [
       "12"
      ]
     },
     "execution_count": 32,
     "metadata": {},
     "output_type": "execute_result"
    }
   ],
   "source": [
    "6 * 2"
   ]
  },
  {
   "cell_type": "code",
   "execution_count": 33,
   "metadata": {},
   "outputs": [
    {
     "data": {
      "text/plain": [
       "g (generic function with 2 methods)"
      ]
     },
     "execution_count": 33,
     "metadata": {},
     "output_type": "execute_result"
    }
   ],
   "source": [
    "g(x) = (x / 2) * 2"
   ]
  },
  {
   "cell_type": "code",
   "execution_count": 34,
   "metadata": {},
   "outputs": [
    {
     "data": {
      "text/plain": [
       "10.0"
      ]
     },
     "execution_count": 34,
     "metadata": {},
     "output_type": "execute_result"
    }
   ],
   "source": [
    "g(10)"
   ]
  },
  {
   "cell_type": "code",
   "execution_count": 40,
   "metadata": {},
   "outputs": [
    {
     "data": {
      "text/plain": [
       "CodeInfo(\n",
       "\u001b[90m1 ─\u001b[39m %1 = x / 2\n",
       "\u001b[90m│  \u001b[39m %2 = %1 * 2\n",
       "\u001b[90m└──\u001b[39m      return %2\n",
       ")"
      ]
     },
     "execution_count": 40,
     "metadata": {},
     "output_type": "execute_result"
    }
   ],
   "source": [
    "@code_lowered g(10)"
   ]
  },
  {
   "cell_type": "code",
   "execution_count": 39,
   "metadata": {},
   "outputs": [
    {
     "name": "stdout",
     "output_type": "stream",
     "text": [
      "Body\u001b[36m::Float64\u001b[39m\n",
      "\u001b[90m1 ─\u001b[39m %1 = (Base.sitofp)(Float64, x)\u001b[36m::Float64\u001b[39m\n",
      "\u001b[90m│  \u001b[39m %2 = (Base.div_float)(%1, 2.0)\u001b[36m::Float64\u001b[39m\n",
      "\u001b[90m│  \u001b[39m %3 = (Base.mul_float)(%2, 2.0)\u001b[36m::Float64\u001b[39m\n",
      "\u001b[90m└──\u001b[39m      return %3\n"
     ]
    }
   ],
   "source": [
    "@code_warntype g(10)"
   ]
  },
  {
   "cell_type": "code",
   "execution_count": 41,
   "metadata": {},
   "outputs": [
    {
     "name": "stdout",
     "output_type": "stream",
     "text": [
      "\n",
      ";  @ In[33]:1 within `g'\n",
      "define double @julia_g_12960(i64) {\n",
      "top:\n",
      "; ┌ @ int.jl:59 within `/'\n",
      "; │┌ @ float.jl:271 within `float'\n",
      "; ││┌ @ float.jl:256 within `Type' @ float.jl:60\n",
      "     %1 = sitofp i64 %0 to double\n",
      "; │└└\n",
      "; │ @ int.jl:59 within `/' @ float.jl:401\n",
      "   %2 = fmul double %1, 5.000000e-01\n",
      "; └\n",
      "; ┌ @ promotion.jl:314 within `*' @ float.jl:399\n",
      "   %3 = fmul double %2, 2.000000e+00\n",
      "; └\n",
      "  ret double %3\n",
      "}\n"
     ]
    }
   ],
   "source": [
    "@code_llvm g(10)"
   ]
  },
  {
   "cell_type": "code",
   "execution_count": 42,
   "metadata": {
    "scrolled": true
   },
   "outputs": [
    {
     "name": "stdout",
     "output_type": "stream",
     "text": [
      "\t.section\t__TEXT,__text,regular,pure_instructions\n",
      "; ┌ @ In[33]:1 within `g'\n",
      "; │┌ @ int.jl:59 within `/'\n",
      "; ││┌ @ float.jl:271 within `float'\n",
      "; │││┌ @ float.jl:256 within `Type' @ In[33]:1\n",
      "\tvcvtsi2sdl\t%edi, %xmm0, %xmm0\n",
      "\tdecl\t%eax\n",
      "\tmovl\t$269143752, %eax        ## imm = 0x100ACEC8\n",
      "\taddl\t%eax, (%eax)\n",
      "\taddb\t%al, (%eax)\n",
      "; │└└└\n",
      "; │┌ @ float.jl:401 within `/'\n",
      "\tvmulsd\t(%eax), %xmm0, %xmm0\n",
      "; │└\n",
      "; │┌ @ promotion.jl:314 within `*' @ float.jl:399\n",
      "\tvaddsd\t%xmm0, %xmm0, %xmm0\n",
      "; │└\n",
      "\tretl\n",
      "\tnopl\t(%eax,%eax)\n",
      "; └\n"
     ]
    }
   ],
   "source": [
    "@code_native g(10)"
   ]
  },
  {
   "cell_type": "code",
   "execution_count": null,
   "metadata": {},
   "outputs": [],
   "source": []
  },
  {
   "cell_type": "code",
   "execution_count": 43,
   "metadata": {},
   "outputs": [
    {
     "data": {
      "text/plain": [
       "f (generic function with 1 method)"
      ]
     },
     "execution_count": 43,
     "metadata": {},
     "output_type": "execute_result"
    }
   ],
   "source": [
    "f(x) = x^2 - 2"
   ]
  },
  {
   "cell_type": "code",
   "execution_count": 44,
   "metadata": {},
   "outputs": [
    {
     "data": {
      "text/plain": [
       "df (generic function with 1 method)"
      ]
     },
     "execution_count": 44,
     "metadata": {},
     "output_type": "execute_result"
    }
   ],
   "source": [
    "df(x) = 2x"
   ]
  },
  {
   "cell_type": "markdown",
   "metadata": {},
   "source": [
    "## Loops"
   ]
  },
  {
   "cell_type": "code",
   "execution_count": 47,
   "metadata": {},
   "outputs": [
    {
     "name": "stdout",
     "output_type": "stream",
     "text": [
      "i = 1\n",
      "i ^ 2 = 1\n",
      "y = -2\n",
      "\n",
      "i = 2\n",
      "i ^ 2 = 4\n",
      "y = -1\n",
      "\n",
      "i = 3\n",
      "i ^ 2 = 9\n",
      "y = 0\n",
      "\n",
      "i = 4\n",
      "i ^ 2 = 16\n",
      "y = 1\n",
      "\n",
      "i = 5\n",
      "i ^ 2 = 25\n",
      "y = 2\n",
      "\n",
      "i = 6\n",
      "i ^ 2 = 36\n",
      "y = 3\n",
      "\n",
      "i = 7\n",
      "i ^ 2 = 49\n",
      "y = 4\n",
      "\n",
      "i = 8\n",
      "i ^ 2 = 64\n",
      "y = 5\n",
      "\n",
      "i = 9\n",
      "i ^ 2 = 81\n",
      "y = 6\n",
      "\n",
      "i = 10\n",
      "i ^ 2 = 100\n",
      "y = 7\n",
      "\n"
     ]
    }
   ],
   "source": [
    "for i in 1:10\n",
    "    @show i\n",
    "    @show i^2\n",
    "    y = i - 3\n",
    "    @show y\n",
    "    \n",
    "    println()\n",
    "end"
   ]
  },
  {
   "cell_type": "markdown",
   "metadata": {},
   "source": [
    "Newton method:"
   ]
  },
  {
   "cell_type": "markdown",
   "metadata": {},
   "source": [
    "$$x_{n+1} = x_n - \\frac{f(x_n)}{f'(x_n)}$$\n",
    "\n",
    "$$x_{\\text{new}} = x_{\\text{current}} - \\frac{f(x_{\\text{current}})}{f'(x_{\\text{current}})}$$"
   ]
  },
  {
   "cell_type": "code",
   "execution_count": 49,
   "metadata": {},
   "outputs": [
    {
     "data": {
      "text/plain": [
       "3-element Array{Int64,1}:\n",
       " 1\n",
       " 2\n",
       " 6"
      ]
     },
     "execution_count": 49,
     "metadata": {},
     "output_type": "execute_result"
    }
   ],
   "source": [
    "[1, 2, 6]"
   ]
  },
  {
   "cell_type": "code",
   "execution_count": 52,
   "metadata": {},
   "outputs": [
    {
     "data": {
      "text/plain": [
       "1.4142135623730951"
      ]
     },
     "execution_count": 52,
     "metadata": {},
     "output_type": "execute_result"
    }
   ],
   "source": [
    "sqrt(2.0)"
   ]
  },
  {
   "cell_type": "code",
   "execution_count": 57,
   "metadata": {},
   "outputs": [
    {
     "data": {
      "text/plain": [
       "1.0"
      ]
     },
     "execution_count": 57,
     "metadata": {},
     "output_type": "execute_result"
    }
   ],
   "source": [
    "x0 = 1.0"
   ]
  },
  {
   "cell_type": "markdown",
   "metadata": {},
   "source": [
    "x is the current value of x"
   ]
  },
  {
   "cell_type": "code",
   "execution_count": 58,
   "metadata": {},
   "outputs": [
    {
     "data": {
      "text/plain": [
       "-1.0"
      ]
     },
     "execution_count": 58,
     "metadata": {},
     "output_type": "execute_result"
    }
   ],
   "source": [
    "f(x0)"
   ]
  },
  {
   "cell_type": "code",
   "execution_count": 59,
   "metadata": {},
   "outputs": [
    {
     "data": {
      "text/plain": [
       "2.0"
      ]
     },
     "execution_count": 59,
     "metadata": {},
     "output_type": "execute_result"
    }
   ],
   "source": [
    "df(x0)"
   ]
  },
  {
   "cell_type": "code",
   "execution_count": 60,
   "metadata": {},
   "outputs": [
    {
     "data": {
      "text/plain": [
       "1.5"
      ]
     },
     "execution_count": 60,
     "metadata": {},
     "output_type": "execute_result"
    }
   ],
   "source": [
    "x_new = x0 - ( f(x0) / df(x0) )"
   ]
  },
  {
   "cell_type": "code",
   "execution_count": 61,
   "metadata": {},
   "outputs": [
    {
     "data": {
      "text/plain": [
       "1.5"
      ]
     },
     "execution_count": 61,
     "metadata": {},
     "output_type": "execute_result"
    }
   ],
   "source": [
    "x1 = x0 - ( f(x0) / df(x0) )"
   ]
  },
  {
   "cell_type": "code",
   "execution_count": 62,
   "metadata": {},
   "outputs": [
    {
     "data": {
      "text/plain": [
       "1.4166666666666667"
      ]
     },
     "execution_count": 62,
     "metadata": {},
     "output_type": "execute_result"
    }
   ],
   "source": [
    "x2 = x1 - ( f(x1) / df(x1) )"
   ]
  },
  {
   "cell_type": "code",
   "execution_count": 63,
   "metadata": {},
   "outputs": [
    {
     "data": {
      "text/plain": [
       "1.4142156862745099"
      ]
     },
     "execution_count": 63,
     "metadata": {},
     "output_type": "execute_result"
    }
   ],
   "source": [
    "x3 = x2 - ( f(x2) / df(x2) )"
   ]
  },
  {
   "cell_type": "code",
   "execution_count": 64,
   "metadata": {},
   "outputs": [
    {
     "data": {
      "text/plain": [
       "1.4142135623746899"
      ]
     },
     "execution_count": 64,
     "metadata": {},
     "output_type": "execute_result"
    }
   ],
   "source": [
    "x4 = x3 - ( f(x3) / df(x3) )"
   ]
  },
  {
   "cell_type": "code",
   "execution_count": 65,
   "metadata": {},
   "outputs": [
    {
     "data": {
      "text/plain": [
       "newton_step (generic function with 1 method)"
      ]
     },
     "execution_count": 65,
     "metadata": {},
     "output_type": "execute_result"
    }
   ],
   "source": [
    "newton_step(x) = x - ( f(x) / df(x) )"
   ]
  },
  {
   "cell_type": "code",
   "execution_count": 66,
   "metadata": {},
   "outputs": [
    {
     "data": {
      "text/plain": [
       "1.0"
      ]
     },
     "execution_count": 66,
     "metadata": {},
     "output_type": "execute_result"
    }
   ],
   "source": [
    "x0 = 1.0"
   ]
  },
  {
   "cell_type": "code",
   "execution_count": 67,
   "metadata": {},
   "outputs": [
    {
     "data": {
      "text/plain": [
       "1.5"
      ]
     },
     "execution_count": 67,
     "metadata": {},
     "output_type": "execute_result"
    }
   ],
   "source": [
    "x1 = newton_step(x0)"
   ]
  },
  {
   "cell_type": "code",
   "execution_count": 68,
   "metadata": {},
   "outputs": [
    {
     "data": {
      "text/plain": [
       "1.4166666666666667"
      ]
     },
     "execution_count": 68,
     "metadata": {},
     "output_type": "execute_result"
    }
   ],
   "source": [
    "x2 = newton_step(x1)"
   ]
  },
  {
   "cell_type": "code",
   "execution_count": 69,
   "metadata": {},
   "outputs": [
    {
     "name": "stdout",
     "output_type": "stream",
     "text": [
      "(x, x_new) = (1.0, 1.5)\n",
      "(x, x_new) = (1.0, 1.5)\n",
      "(x, x_new) = (1.0, 1.5)\n",
      "(x, x_new) = (1.0, 1.5)\n"
     ]
    }
   ],
   "source": [
    "x0 = 1.0\n",
    "\n",
    "x = x0\n",
    "\n",
    "for i in 1:4\n",
    "    x_new = newton_step(x)\n",
    "    \n",
    "    @show x, x_new\n",
    "    \n",
    "end"
   ]
  },
  {
   "cell_type": "code",
   "execution_count": 70,
   "metadata": {},
   "outputs": [
    {
     "name": "stdout",
     "output_type": "stream",
     "text": [
      "(x, x_new) = (1.0, 1.5)\n",
      "(x, x_new) = (1.5, 1.4166666666666667)\n",
      "(x, x_new) = (1.4166666666666667, 1.4142156862745099)\n",
      "(x, x_new) = (1.4142156862745099, 1.4142135623746899)\n"
     ]
    }
   ],
   "source": [
    "x0 = 1.0\n",
    "\n",
    "x = x0\n",
    "\n",
    "for i in 1:4\n",
    "    x_new = newton_step(x)\n",
    "    \n",
    "    @show x, x_new\n",
    "    \n",
    "    x = x_new\n",
    "    \n",
    "end"
   ]
  },
  {
   "cell_type": "code",
   "execution_count": 72,
   "metadata": {},
   "outputs": [
    {
     "name": "stdout",
     "output_type": "stream",
     "text": [
      "(x, x_new) = (1.0, 1.5)\n",
      "(x, x_new) = (1.5, 1.4166666666666667)\n",
      "(x, x_new) = (1.4166666666666667, 1.4142156862745099)\n",
      "(x, x_new) = (1.4142156862745099, 1.4142135623746899)\n",
      "(x, x_new) = (1.4142135623746899, 1.4142135623730951)\n",
      "(x, x_new) = (1.4142135623730951, 1.414213562373095)\n",
      "(x, x_new) = (1.414213562373095, 1.4142135623730951)\n",
      "(x, x_new) = (1.4142135623730951, 1.414213562373095)\n",
      "(x, x_new) = (1.414213562373095, 1.4142135623730951)\n",
      "(x, x_new) = (1.4142135623730951, 1.414213562373095)\n",
      "(x, x_new) = (1.414213562373095, 1.4142135623730951)\n",
      "(x, x_new) = (1.4142135623730951, 1.414213562373095)\n",
      "(x, x_new) = (1.414213562373095, 1.4142135623730951)\n",
      "(x, x_new) = (1.4142135623730951, 1.414213562373095)\n",
      "(x, x_new) = (1.414213562373095, 1.4142135623730951)\n",
      "(x, x_new) = (1.4142135623730951, 1.414213562373095)\n",
      "(x, x_new) = (1.414213562373095, 1.4142135623730951)\n",
      "(x, x_new) = (1.4142135623730951, 1.414213562373095)\n",
      "(x, x_new) = (1.414213562373095, 1.4142135623730951)\n",
      "(x, x_new) = (1.4142135623730951, 1.414213562373095)\n"
     ]
    }
   ],
   "source": [
    "x0 = 1.0\n",
    "\n",
    "x = x0\n",
    "\n",
    "for i in 1:20\n",
    "    x_new = newton_step(x)\n",
    "    \n",
    "    @show x, x_new\n",
    "    \n",
    "    x = x_new\n",
    "    \n",
    "end"
   ]
  },
  {
   "cell_type": "markdown",
   "metadata": {},
   "source": [
    "Exercise: Use a `while` loop instead to stop the iteration when $f(x)$ is close to $0$."
   ]
  },
  {
   "cell_type": "markdown",
   "metadata": {},
   "source": [
    "Stop the loop when $f(x)$ is close to 0:"
   ]
  },
  {
   "cell_type": "code",
   "execution_count": 74,
   "metadata": {},
   "outputs": [
    {
     "data": {
      "text/plain": [
       "1.0e-10"
      ]
     },
     "execution_count": 74,
     "metadata": {},
     "output_type": "execute_result"
    }
   ],
   "source": [
    "tolerance = 1e-10  # 10^(-10)"
   ]
  },
  {
   "cell_type": "code",
   "execution_count": 76,
   "metadata": {},
   "outputs": [
    {
     "name": "stdout",
     "output_type": "stream",
     "text": [
      "(i, x_new) = (1, 1.5)\n",
      "(i, x_new) = (2, 1.4166666666666667)\n",
      "(i, x_new) = (3, 1.4142156862745099)\n",
      "(i, x_new) = (4, 1.4142135623746899)\n"
     ]
    }
   ],
   "source": [
    "x0 = 1.0\n",
    "\n",
    "x = x0\n",
    "\n",
    "for i in 1:20\n",
    "    x_new = newton_step(x)\n",
    "    \n",
    "    @show i, x_new\n",
    "    \n",
    "    x = x_new\n",
    "    \n",
    "    if abs(f(x)) < tolerance   # distance of f(x) from 0\n",
    "        break  # jump out of the loop\n",
    "    end\n",
    "    \n",
    "end"
   ]
  },
  {
   "cell_type": "code",
   "execution_count": 77,
   "metadata": {},
   "outputs": [
    {
     "name": "stdout",
     "output_type": "stream",
     "text": [
      "(i, x_new) = (1, 500.001)\n",
      "(i, x_new) = (2, 250.00249999599998)\n",
      "(i, x_new) = (3, 125.00524995800045)\n",
      "(i, x_new) = (4, 62.51062464301702)\n",
      "(i, x_new) = (5, 31.27130960206219)\n",
      "(i, x_new) = (6, 15.667632994868365)\n",
      "(i, x_new) = (7, 7.897642347856357)\n",
      "(i, x_new) = (8, 4.075441240519499)\n",
      "(i, x_new) = (9, 2.283092824392554)\n",
      "(i, x_new) = (10, 1.5795487524060154)\n",
      "(i, x_new) = (11, 1.4228665795786684)\n",
      "(i, x_new) = (12, 1.4142398735915307)\n",
      "(i, x_new) = (13, 1.4142135626178485)\n",
      "(i, x_new) = (14, 1.4142135623730951)\n"
     ]
    }
   ],
   "source": [
    "x0 = 1000.0\n",
    "\n",
    "x = x0\n",
    "\n",
    "for i in 1:20\n",
    "    x_new = newton_step(x)\n",
    "    \n",
    "    @show i, x_new\n",
    "    \n",
    "    x = x_new\n",
    "    \n",
    "    if abs(f(x)) < tolerance   # distance of f(x) from 0\n",
    "        break  # jump out of the loop\n",
    "    end\n",
    "    \n",
    "end"
   ]
  },
  {
   "cell_type": "code",
   "execution_count": 79,
   "metadata": {},
   "outputs": [
    {
     "name": "stdout",
     "output_type": "stream",
     "text": [
      "(i, x_new) = (1, 500000.000001)\n",
      "(i, x_new) = (2, 250000.00000250002)\n",
      "(i, x_new) = (3, 125000.00000525001)\n",
      "(i, x_new) = (4, 62500.00001062501)\n",
      "(i, x_new) = (5, 31250.000021312506)\n",
      "(i, x_new) = (6, 15625.000042656253)\n",
      "(i, x_new) = (7, 7812.500085328126)\n",
      "(i, x_new) = (8, 3906.2501706640614)\n",
      "(i, x_new) = (9, 1953.1253413320196)\n",
      "(i, x_new) = (10, 976.5631826659203)\n",
      "(i, x_new) = (11, 488.2826153322443)\n",
      "(i, x_new) = (12, 244.14335566039554)\n",
      "(i, x_new) = (13, 122.0757737843854)\n",
      "(i, x_new) = (14, 61.0460785257085)\n",
      "(i, x_new) = (15, 30.539420331452767)\n",
      "(i, x_new) = (16, 15.302454729609611)\n",
      "(i, x_new) = (17, 7.716576357346835)\n",
      "(i, x_new) = (18, 3.9878793281276588)\n",
      "(i, x_new) = (19, 2.244699508512159)\n",
      "(i, x_new) = (20, 1.5678436817095691)\n",
      "(i, x_new) = (21, 1.4217405288183735)\n",
      "(i, x_new) = (22, 1.4142334869735127)\n",
      "(i, x_new) = (23, 1.41421356251345)\n",
      "(i, x_new) = (24, 1.414213562373095)\n"
     ]
    }
   ],
   "source": [
    "x0 = 1000000.0\n",
    "\n",
    "x = x0\n",
    "\n",
    "for i in 1:10000\n",
    "    x_new = newton_step(x)\n",
    "    \n",
    "    @show i, x_new\n",
    "    \n",
    "    x = x_new\n",
    "    \n",
    "    if abs(f(x)) < tolerance   # distance of f(x) from 0\n",
    "        break  # jump out of the loop\n",
    "    end\n",
    "    \n",
    "end"
   ]
  },
  {
   "cell_type": "code",
   "execution_count": 91,
   "metadata": {},
   "outputs": [
    {
     "data": {
      "text/plain": [
       "newton (generic function with 2 methods)"
      ]
     },
     "execution_count": 91,
     "metadata": {},
     "output_type": "execute_result"
    }
   ],
   "source": [
    "function newton(x0)\n",
    "\n",
    "    x = x0\n",
    "    \n",
    "\n",
    "    for i in 1:10000\n",
    "        x_new = newton_step(x)\n",
    "\n",
    "        # @show i, x_new\n",
    "\n",
    "        x = x_new\n",
    "\n",
    "        if abs(f(x)) < tolerance   # distance of f(x) from 0\n",
    "            break  # jump out of the loop\n",
    "        end\n",
    "\n",
    "    end\n",
    "    \n",
    "    return i, x\n",
    "\n",
    "end"
   ]
  },
  {
   "cell_type": "code",
   "execution_count": 84,
   "metadata": {},
   "outputs": [
    {
     "data": {
      "text/plain": [
       "newton (generic function with 1 method)"
      ]
     },
     "execution_count": 84,
     "metadata": {},
     "output_type": "execute_result"
    }
   ],
   "source": [
    "newton   # without parentheses, Julia gives me info about the function"
   ]
  },
  {
   "cell_type": "code",
   "execution_count": 92,
   "metadata": {},
   "outputs": [
    {
     "ename": "UndefVarError",
     "evalue": "UndefVarError: i not defined",
     "output_type": "error",
     "traceback": [
      "UndefVarError: i not defined",
      "",
      "Stacktrace:",
      " [1] newton(::Int64) at ./In[91]:19",
      " [2] top-level scope at In[92]:1"
     ]
    }
   ],
   "source": [
    "newton(100)   # need parentheses () to *call* the function"
   ]
  },
  {
   "cell_type": "code",
   "execution_count": 94,
   "metadata": {},
   "outputs": [
    {
     "data": {
      "text/plain": [
       "newton (generic function with 2 methods)"
      ]
     },
     "execution_count": 94,
     "metadata": {},
     "output_type": "execute_result"
    }
   ],
   "source": [
    "function newton(x0)\n",
    "\n",
    "    x = x0\n",
    "    \n",
    "    num_steps = 0\n",
    "\n",
    "    for i in 1:10000\n",
    "        x_new = x - f(x) / df(x)   # newton_step(x)\n",
    "\n",
    "        # @show i, x_new\n",
    "\n",
    "        x = x_new\n",
    "\n",
    "        if abs(f(x)) < tolerance   # distance of f(x) from 0\n",
    "            num_steps = i\n",
    "            break  # jump out of the loop\n",
    "        end\n",
    "\n",
    "    end\n",
    "    \n",
    "    return num_steps, x\n",
    "\n",
    "end"
   ]
  },
  {
   "cell_type": "code",
   "execution_count": 95,
   "metadata": {},
   "outputs": [
    {
     "data": {
      "text/plain": [
       "(7, 1.4142135623730954)"
      ]
     },
     "execution_count": 95,
     "metadata": {},
     "output_type": "execute_result"
    }
   ],
   "source": [
    "newton(10.0)"
   ]
  },
  {
   "cell_type": "code",
   "execution_count": 96,
   "metadata": {},
   "outputs": [
    {
     "data": {
      "text/plain": [
       "(10, 1.41421356237384)"
      ]
     },
     "execution_count": 96,
     "metadata": {},
     "output_type": "execute_result"
    }
   ],
   "source": [
    "newton(100.0)"
   ]
  },
  {
   "cell_type": "code",
   "execution_count": null,
   "metadata": {},
   "outputs": [],
   "source": []
  },
  {
   "cell_type": "markdown",
   "metadata": {},
   "source": [
    "What happens if I want to find roots of a different function?"
   ]
  },
  {
   "cell_type": "code",
   "execution_count": 97,
   "metadata": {},
   "outputs": [
    {
     "data": {
      "text/plain": [
       "dg (generic function with 1 method)"
      ]
     },
     "execution_count": 97,
     "metadata": {},
     "output_type": "execute_result"
    }
   ],
   "source": [
    "g(x) = x^3 - 2\n",
    "dg(x) = 3x^2"
   ]
  },
  {
   "cell_type": "code",
   "execution_count": 6,
   "metadata": {},
   "outputs": [
    {
     "data": {
      "text/plain": [
       "newton (generic function with 1 method)"
      ]
     },
     "execution_count": 6,
     "metadata": {},
     "output_type": "execute_result"
    }
   ],
   "source": [
    "function newton(f, df, x0, tolerance)\n",
    "\n",
    "    x = x0\n",
    "    \n",
    "    num_steps = 0\n",
    "\n",
    "    for i in 1:10000\n",
    "        x_new = x - f(x) / df(x)   # newton_step(x)\n",
    "\n",
    "        # @show i, x_new\n",
    "\n",
    "        x = x_new\n",
    "\n",
    "        if abs(f(x)) < tolerance   # distance of f(x) from 0\n",
    "            num_steps = i\n",
    "            break  # jump out of the loop\n",
    "        end\n",
    "\n",
    "    end\n",
    "    \n",
    "    return num_steps, x\n",
    "\n",
    "end"
   ]
  },
  {
   "cell_type": "code",
   "execution_count": 107,
   "metadata": {},
   "outputs": [
    {
     "data": {
      "text/plain": [
       "(5, 1.4142135623731118)"
      ]
     },
     "execution_count": 107,
     "metadata": {},
     "output_type": "execute_result"
    }
   ],
   "source": [
    "newton(f, df, 3.0, 1e-10)"
   ]
  },
  {
   "cell_type": "code",
   "execution_count": 10,
   "metadata": {},
   "outputs": [
    {
     "data": {
      "text/plain": [
       "newton (generic function with 2 methods)"
      ]
     },
     "execution_count": 10,
     "metadata": {},
     "output_type": "execute_result"
    }
   ],
   "source": [
    "function newton(f, df, x0, tolerance=1e-10)  # default value\n",
    "\n",
    "    x = x0\n",
    "    \n",
    "    num_steps = -1  # sentinel value\n",
    "\n",
    "    for i in 1:10000\n",
    "        x_new = x - f(x) / df(x)   # newton_step(x)\n",
    "\n",
    "        # @show i, x_new\n",
    "\n",
    "        x = x_new\n",
    "\n",
    "        if abs(f(x)) < tolerance   # distance of f(x) from 0\n",
    "            num_steps = i\n",
    "            break  # jump out of the loop\n",
    "        end\n",
    "\n",
    "    end\n",
    "    \n",
    "    return num_steps, x\n",
    "\n",
    "end"
   ]
  },
  {
   "cell_type": "code",
   "execution_count": 109,
   "metadata": {},
   "outputs": [
    {
     "data": {
      "text/plain": [
       "(5, 1.4142135623731118)"
      ]
     },
     "execution_count": 109,
     "metadata": {},
     "output_type": "execute_result"
    }
   ],
   "source": [
    "newton(f, df, 3.0)"
   ]
  },
  {
   "cell_type": "code",
   "execution_count": 110,
   "metadata": {},
   "outputs": [
    {
     "data": {
      "text/plain": [
       "newton (generic function with 4 methods)"
      ]
     },
     "execution_count": 110,
     "metadata": {},
     "output_type": "execute_result"
    }
   ],
   "source": [
    "newton"
   ]
  },
  {
   "cell_type": "code",
   "execution_count": 111,
   "metadata": {},
   "outputs": [
    {
     "data": {
      "text/html": [
       "4 methods for generic function <b>newton</b>:<ul><li> newton() in Main at In[80]:3</li> <li> newton(x0) in Main at In[94]:3</li> <li> newton(f, df, x0) in Main at In[108]:3</li> <li> newton(f, df, x0, tolerance) in Main at In[108]:3</li> </ul>"
      ],
      "text/plain": [
       "# 4 methods for generic function \"newton\":\n",
       "[1] newton() in Main at In[80]:3\n",
       "[2] newton(x0) in Main at In[94]:3\n",
       "[3] newton(f, df, x0) in Main at In[108]:3\n",
       "[4] newton(f, df, x0, tolerance) in Main at In[108]:3"
      ]
     },
     "execution_count": 111,
     "metadata": {},
     "output_type": "execute_result"
    }
   ],
   "source": [
    "methods(newton)"
   ]
  },
  {
   "cell_type": "code",
   "execution_count": 112,
   "metadata": {},
   "outputs": [
    {
     "data": {
      "text/plain": [
       "hello (generic function with 4 methods)"
      ]
     },
     "execution_count": 112,
     "metadata": {},
     "output_type": "execute_result"
    }
   ],
   "source": [
    "function hello(x=1, y=2, z=3)\n",
    "    @show x, y, z\n",
    "end"
   ]
  },
  {
   "cell_type": "code",
   "execution_count": 113,
   "metadata": {},
   "outputs": [
    {
     "data": {
      "text/html": [
       "4 methods for generic function <b>hello</b>:<ul><li> hello() in Main at In[112]:2</li> <li> hello(x) in Main at In[112]:2</li> <li> hello(x, y) in Main at In[112]:2</li> <li> hello(x, y, z) in Main at In[112]:2</li> </ul>"
      ],
      "text/plain": [
       "# 4 methods for generic function \"hello\":\n",
       "[1] hello() in Main at In[112]:2\n",
       "[2] hello(x) in Main at In[112]:2\n",
       "[3] hello(x, y) in Main at In[112]:2\n",
       "[4] hello(x, y, z) in Main at In[112]:2"
      ]
     },
     "execution_count": 113,
     "metadata": {},
     "output_type": "execute_result"
    }
   ],
   "source": [
    "methods(hello)"
   ]
  },
  {
   "cell_type": "code",
   "execution_count": 114,
   "metadata": {},
   "outputs": [
    {
     "data": {
      "text/plain": [
       "hello (generic function with 4 methods)"
      ]
     },
     "execution_count": 114,
     "metadata": {},
     "output_type": "execute_result"
    }
   ],
   "source": [
    "function hello(x=1.1)\n",
    "    @show x, x\n",
    "end"
   ]
  },
  {
   "cell_type": "code",
   "execution_count": 115,
   "metadata": {},
   "outputs": [
    {
     "data": {
      "text/html": [
       "4 methods for generic function <b>hello</b>:<ul><li> hello() in Main at In[114]:2</li> <li> hello(x) in Main at In[114]:2</li> <li> hello(x, y) in Main at In[112]:2</li> <li> hello(x, y, z) in Main at In[112]:2</li> </ul>"
      ],
      "text/plain": [
       "# 4 methods for generic function \"hello\":\n",
       "[1] hello() in Main at In[114]:2\n",
       "[2] hello(x) in Main at In[114]:2\n",
       "[3] hello(x, y) in Main at In[112]:2\n",
       "[4] hello(x, y, z) in Main at In[112]:2"
      ]
     },
     "execution_count": 115,
     "metadata": {},
     "output_type": "execute_result"
    }
   ],
   "source": [
    "methods(hello)"
   ]
  },
  {
   "cell_type": "code",
   "execution_count": 102,
   "metadata": {},
   "outputs": [
    {
     "data": {
      "text/plain": [
       "(8, 1.189207115002721)"
      ]
     },
     "execution_count": 102,
     "metadata": {},
     "output_type": "execute_result"
    }
   ],
   "source": [
    "newton(x -> x^4 - 2, x -> 4x^3, 3.0)   # anonymous functions"
   ]
  },
  {
   "cell_type": "code",
   "execution_count": 104,
   "metadata": {},
   "outputs": [
    {
     "data": {
      "text/plain": [
       "1.189207115002721"
      ]
     },
     "execution_count": 104,
     "metadata": {},
     "output_type": "execute_result"
    }
   ],
   "source": [
    "2^(1/4)"
   ]
  },
  {
   "cell_type": "markdown",
   "metadata": {},
   "source": [
    "\"The function that sends x to x^4 - 2\":  `x -> x^4 - 2`"
   ]
  },
  {
   "cell_type": "markdown",
   "metadata": {},
   "source": [
    "In maths: $x \\mapsto x^4 - 2$"
   ]
  },
  {
   "cell_type": "code",
   "execution_count": 105,
   "metadata": {},
   "outputs": [
    {
     "ename": "MethodError",
     "evalue": "MethodError: objects of type Float64 are not callable",
     "output_type": "error",
     "traceback": [
      "MethodError: objects of type Float64 are not callable",
      "",
      "Stacktrace:",
      " [1] newton(::Float64, ::typeof(f), ::Function) at ./In[99]:8",
      " [2] top-level scope at In[105]:1"
     ]
    }
   ],
   "source": [
    "newton(3.0, f, df)"
   ]
  },
  {
   "cell_type": "code",
   "execution_count": 15,
   "metadata": {},
   "outputs": [
    {
     "data": {
      "text/plain": [
       "(1.414213562373095, 10)"
      ]
     },
     "execution_count": 15,
     "metadata": {},
     "output_type": "execute_result"
    }
   ],
   "source": []
  },
  {
   "cell_type": "code",
   "execution_count": 5,
   "metadata": {},
   "outputs": [
    {
     "data": {
      "text/plain": [
       "1.4142135623730951"
      ]
     },
     "execution_count": 5,
     "metadata": {},
     "output_type": "execute_result"
    }
   ],
   "source": [
    "sqrt(2)"
   ]
  },
  {
   "cell_type": "code",
   "execution_count": 116,
   "metadata": {},
   "outputs": [
    {
     "data": {
      "text/plain": [
       "f (generic function with 1 method)"
      ]
     },
     "execution_count": 116,
     "metadata": {},
     "output_type": "execute_result"
    }
   ],
   "source": [
    "f(x) = x^2 - 2"
   ]
  },
  {
   "cell_type": "code",
   "execution_count": 117,
   "metadata": {},
   "outputs": [
    {
     "data": {
      "text/plain": [
       "(7, -1.4142135623730954)"
      ]
     },
     "execution_count": 117,
     "metadata": {},
     "output_type": "execute_result"
    }
   ],
   "source": [
    "newton(f, df, -10.0)"
   ]
  },
  {
   "cell_type": "code",
   "execution_count": 119,
   "metadata": {},
   "outputs": [
    {
     "data": {
      "text/plain": [
       "(8, 0.9999999999999994 - 4.556244651765188e-16im)"
      ]
     },
     "execution_count": 119,
     "metadata": {},
     "output_type": "execute_result"
    }
   ],
   "source": [
    "g(x) = x^3 - 1\n",
    "dg(x) = 3x^2\n",
    "\n",
    "newton(g, dg, 1 + im)"
   ]
  },
  {
   "cell_type": "code",
   "execution_count": 121,
   "metadata": {},
   "outputs": [
    {
     "data": {
      "text/plain": [
       "(5, -0.4999999999999555 + 0.8660254037846933im)"
      ]
     },
     "execution_count": 121,
     "metadata": {},
     "output_type": "execute_result"
    }
   ],
   "source": [
    "newton(g, dg, -1 + im)"
   ]
  },
  {
   "cell_type": "code",
   "execution_count": null,
   "metadata": {},
   "outputs": [],
   "source": [
    "newton(g)"
   ]
  },
  {
   "cell_type": "code",
   "execution_count": null,
   "metadata": {},
   "outputs": [],
   "source": [
    "function roots(f, df)\n",
    "    \n",
    "end"
   ]
  },
  {
   "cell_type": "code",
   "execution_count": 123,
   "metadata": {},
   "outputs": [
    {
     "name": "stdout",
     "output_type": "stream",
     "text": [
      "Body\u001b[36m::Tuple{Int64,Complex{Float64}}\u001b[39m\n",
      "\u001b[90m1 ──\u001b[39m        goto #31 if not true\n",
      "\u001b[90m2 ┄─\u001b[39m %2   = φ (#30 => %172)\u001b[36m::Float64\u001b[39m\n",
      "\u001b[90m│   \u001b[39m %3   = φ (#30 => %173)\u001b[36m::Float64\u001b[39m\n",
      "\u001b[90m│   \u001b[39m %4   = φ (#30 => %174)\u001b[36m::Float64\u001b[39m\n",
      "\u001b[90m│   \u001b[39m %5   = φ (#30 => %175)\u001b[36m::Float64\u001b[39m\n",
      "\u001b[90m│   \u001b[39m %6   = φ (#30 => %176)\u001b[36m::Float64\u001b[39m\n",
      "\u001b[90m│   \u001b[39m %7   = φ (#30 => %177)\u001b[36m::Float64\u001b[39m\n",
      "\u001b[90m│   \u001b[39m %8   = φ (#30 => %178)\u001b[36m::Float64\u001b[39m\n",
      "\u001b[90m│   \u001b[39m %9   = φ (#30 => %179)\u001b[36m::Float64\u001b[39m\n",
      "\u001b[90m│   \u001b[39m %10  = φ (#30 => %180)\u001b[36m::Float64\u001b[39m\n",
      "\u001b[90m│   \u001b[39m %11  = φ (#30 => %181)\u001b[36m::Float64\u001b[39m\n",
      "\u001b[90m│   \u001b[39m %12  = φ (#30 => %182)\u001b[36m::Float64\u001b[39m\n",
      "\u001b[90m│   \u001b[39m %13  = φ (#30 => %183)\u001b[36m::Float64\u001b[39m\n",
      "\u001b[90m│   \u001b[39m %14  = φ (#30 => %184)\u001b[36m::Float64\u001b[39m\n",
      "\u001b[90m│   \u001b[39m %15  = φ (#30 => %185)\u001b[36m::Float64\u001b[39m\n",
      "\u001b[90m│   \u001b[39m %16  = φ (#30 => %186)\u001b[36m::Float64\u001b[39m\n",
      "\u001b[90m│   \u001b[39m %17  = φ (#30 => %187)\u001b[36m::Float64\u001b[39m\n",
      "\u001b[90m│   \u001b[39m %18  = φ (#30 => %188)\u001b[36m::Float64\u001b[39m\n",
      "\u001b[90m│   \u001b[39m %19  = φ (#30 => %189)\u001b[36m::Float64\u001b[39m\n",
      "\u001b[90m│   \u001b[39m %20  = φ (#30 => %190)\u001b[36m::Float64\u001b[39m\n",
      "\u001b[90m│   \u001b[39m %21  = φ (#30 => %191)\u001b[36m::Float64\u001b[39m\n",
      "\u001b[90m│   \u001b[39m %22  = φ (#30 => %192)\u001b[36m::Float64\u001b[39m\n",
      "\u001b[90m│   \u001b[39m %23  = φ (#30 => %193)\u001b[36m::Float64\u001b[39m\n",
      "\u001b[90m│   \u001b[39m %24  = φ (#1 => _4, #30 => %206)\u001b[91m\u001b[1m::Union{Complex{Float64}, Complex{Int64}}\u001b[22m\u001b[39m\n",
      "\u001b[90m│   \u001b[39m %25  = φ (#1 => 1, #30 => %229)\u001b[36m::Int64\u001b[39m\n",
      "\u001b[90m│   \u001b[39m %26  = φ (#1 => 1, #30 => %230)\u001b[36m::Int64\u001b[39m\n",
      "\u001b[90m│   \u001b[39m %27  = (isa)(%24, Complex{Float64})\u001b[36m::Bool\u001b[39m\n",
      "\u001b[90m└───\u001b[39m        goto #4 if not %27\n",
      "\u001b[90m3 ──\u001b[39m %29  = (Base.mul_float)(%2, %3)\u001b[36m::Float64\u001b[39m\n",
      "\u001b[90m│   \u001b[39m %30  = (Base.mul_float)(%4, %5)\u001b[36m::Float64\u001b[39m\n",
      "\u001b[90m│   \u001b[39m %31  = (Base.sub_float)(%29, %30)\u001b[36m::Float64\u001b[39m\n",
      "\u001b[90m│   \u001b[39m %32  = (Base.mul_float)(%6, %7)\u001b[36m::Float64\u001b[39m\n",
      "\u001b[90m│   \u001b[39m %33  = (Base.mul_float)(%8, %9)\u001b[36m::Float64\u001b[39m\n",
      "\u001b[90m│   \u001b[39m %34  = (Base.add_float)(%32, %33)\u001b[36m::Float64\u001b[39m\n",
      "\u001b[90m│   \u001b[39m %35  = (Base.mul_float)(%31, %10)\u001b[36m::Float64\u001b[39m\n",
      "\u001b[90m│   \u001b[39m %36  = (Base.mul_float)(%34, %11)\u001b[36m::Float64\u001b[39m\n",
      "\u001b[90m│   \u001b[39m %37  = (Base.sub_float)(%35, %36)\u001b[36m::Float64\u001b[39m\n",
      "\u001b[90m│   \u001b[39m %38  = (Base.mul_float)(%31, %12)\u001b[36m::Float64\u001b[39m\n",
      "\u001b[90m│   \u001b[39m %39  = (Base.mul_float)(%34, %13)\u001b[36m::Float64\u001b[39m\n",
      "\u001b[90m│   \u001b[39m %40  = (Base.add_float)(%38, %39)\u001b[36m::Float64\u001b[39m\n",
      "\u001b[90m│   \u001b[39m %41  = (Base.sub_float)(%37, 1.0)\u001b[36m::Float64\u001b[39m\n",
      "\u001b[90m│   \u001b[39m %42  = %new(Complex{Float64}, %41, %40)\u001b[36m::Complex{Float64}\u001b[39m\n",
      "\u001b[90m└───\u001b[39m        goto #7\n",
      "\u001b[90m4 ──\u001b[39m %44  = (isa)(%24, Complex{Int64})\u001b[36m::Bool\u001b[39m\n",
      "\u001b[90m└───\u001b[39m        goto #6 if not %44\n",
      "\u001b[90m5 ──\u001b[39m %46  = π (%24, \u001b[36mComplex{Int64}\u001b[39m)\n",
      "\u001b[90m│   \u001b[39m %47  = (Base.getfield)(%46, :re)\u001b[36m::Int64\u001b[39m\n",
      "\u001b[90m│   \u001b[39m %48  = (Base.getfield)(%46, :re)\u001b[36m::Int64\u001b[39m\n",
      "\u001b[90m│   \u001b[39m %49  = (Base.mul_int)(%47, %48)\u001b[36m::Int64\u001b[39m\n",
      "\u001b[90m│   \u001b[39m %50  = (Base.getfield)(%46, :im)\u001b[36m::Int64\u001b[39m\n",
      "\u001b[90m│   \u001b[39m %51  = (Base.getfield)(%46, :im)\u001b[36m::Int64\u001b[39m\n",
      "\u001b[90m│   \u001b[39m %52  = (Base.mul_int)(%50, %51)\u001b[36m::Int64\u001b[39m\n",
      "\u001b[90m│   \u001b[39m %53  = (Base.sub_int)(%49, %52)\u001b[36m::Int64\u001b[39m\n",
      "\u001b[90m│   \u001b[39m %54  = (Base.getfield)(%46, :re)\u001b[36m::Int64\u001b[39m\n",
      "\u001b[90m│   \u001b[39m %55  = (Base.getfield)(%46, :im)\u001b[36m::Int64\u001b[39m\n",
      "\u001b[90m│   \u001b[39m %56  = (Base.mul_int)(%54, %55)\u001b[36m::Int64\u001b[39m\n",
      "\u001b[90m│   \u001b[39m %57  = (Base.getfield)(%46, :im)\u001b[36m::Int64\u001b[39m\n",
      "\u001b[90m│   \u001b[39m %58  = (Base.getfield)(%46, :re)\u001b[36m::Int64\u001b[39m\n",
      "\u001b[90m│   \u001b[39m %59  = (Base.mul_int)(%57, %58)\u001b[36m::Int64\u001b[39m\n",
      "\u001b[90m│   \u001b[39m %60  = (Base.add_int)(%56, %59)\u001b[36m::Int64\u001b[39m\n",
      "\u001b[90m│   \u001b[39m %61  = (Base.getfield)(%46, :re)\u001b[36m::Int64\u001b[39m\n",
      "\u001b[90m│   \u001b[39m %62  = (Base.mul_int)(%53, %61)\u001b[36m::Int64\u001b[39m\n",
      "\u001b[90m│   \u001b[39m %63  = (Base.getfield)(%46, :im)\u001b[36m::Int64\u001b[39m\n",
      "\u001b[90m│   \u001b[39m %64  = (Base.mul_int)(%60, %63)\u001b[36m::Int64\u001b[39m\n",
      "\u001b[90m│   \u001b[39m %65  = (Base.sub_int)(%62, %64)\u001b[36m::Int64\u001b[39m\n",
      "\u001b[90m│   \u001b[39m %66  = (Base.getfield)(%46, :im)\u001b[36m::Int64\u001b[39m\n",
      "\u001b[90m│   \u001b[39m %67  = (Base.mul_int)(%53, %66)\u001b[36m::Int64\u001b[39m\n",
      "\u001b[90m│   \u001b[39m %68  = (Base.getfield)(%46, :re)\u001b[36m::Int64\u001b[39m\n",
      "\u001b[90m│   \u001b[39m %69  = (Base.mul_int)(%60, %68)\u001b[36m::Int64\u001b[39m\n",
      "\u001b[90m│   \u001b[39m %70  = (Base.add_int)(%67, %69)\u001b[36m::Int64\u001b[39m\n",
      "\u001b[90m│   \u001b[39m %71  = (Base.sub_int)(%65, 1)\u001b[36m::Int64\u001b[39m\n",
      "\u001b[90m│   \u001b[39m %72  = %new(Complex{Int64}, %71, %70)\u001b[36m::Complex{Int64}\u001b[39m\n",
      "\u001b[90m└───\u001b[39m        goto #7\n",
      "\u001b[90m6 ──\u001b[39m        (Core.throw)(ErrorException(\"fatal error in type inference (type bound)\"))\n",
      "\u001b[90m└───\u001b[39m        $(Expr(:unreachable))\n",
      "\u001b[90m7 ┄─\u001b[39m %76  = φ (#5 => %71)\u001b[36m::Int64\u001b[39m\n",
      "\u001b[90m│   \u001b[39m %77  = φ (#5 => %70)\u001b[36m::Int64\u001b[39m\n",
      "\u001b[90m│   \u001b[39m %78  = φ (#3 => %42, #5 => %72)\u001b[91m\u001b[1m::Union{Complex{Float64}, Complex{Int64}}\u001b[22m\u001b[39m\n",
      "\u001b[90m│   \u001b[39m %79  = (isa)(%24, Complex{Float64})\u001b[36m::Bool\u001b[39m\n",
      "\u001b[90m└───\u001b[39m        goto #9 if not %79\n",
      "\u001b[90m8 ──\u001b[39m %81  = (Base.mul_float)(%14, %15)\u001b[36m::Float64\u001b[39m\n",
      "\u001b[90m│   \u001b[39m %82  = (Base.mul_float)(%16, %17)\u001b[36m::Float64\u001b[39m\n",
      "\u001b[90m│   \u001b[39m %83  = (Base.sub_float)(%81, %82)\u001b[36m::Float64\u001b[39m\n",
      "\u001b[90m│   \u001b[39m %84  = (Base.mul_float)(%18, %19)\u001b[36m::Float64\u001b[39m\n",
      "\u001b[90m│   \u001b[39m %85  = (Base.mul_float)(%20, %21)\u001b[36m::Float64\u001b[39m\n",
      "\u001b[90m│   \u001b[39m %86  = (Base.add_float)(%84, %85)\u001b[36m::Float64\u001b[39m\n",
      "\u001b[90m│   \u001b[39m %87  = (Base.mul_float)(3.0, %83)\u001b[36m::Float64\u001b[39m\n",
      "\u001b[90m│   \u001b[39m %88  = (Base.mul_float)(3.0, %86)\u001b[36m::Float64\u001b[39m\n",
      "\u001b[90m│   \u001b[39m %89  = %new(Complex{Float64}, %87, %88)\u001b[36m::Complex{Float64}\u001b[39m\n",
      "\u001b[90m└───\u001b[39m        goto #12\n",
      "\u001b[90m9 ──\u001b[39m %91  = (isa)(%24, Complex{Int64})\u001b[36m::Bool\u001b[39m\n",
      "\u001b[90m└───\u001b[39m        goto #11 if not %91\n",
      "\u001b[90m10 ─\u001b[39m %93  = π (%24, \u001b[36mComplex{Int64}\u001b[39m)\n",
      "\u001b[90m│   \u001b[39m %94  = (Base.getfield)(%93, :re)\u001b[36m::Int64\u001b[39m\n",
      "\u001b[90m│   \u001b[39m %95  = (Base.getfield)(%93, :re)\u001b[36m::Int64\u001b[39m\n",
      "\u001b[90m│   \u001b[39m %96  = (Base.mul_int)(%94, %95)\u001b[36m::Int64\u001b[39m\n",
      "\u001b[90m│   \u001b[39m %97  = (Base.getfield)(%93, :im)\u001b[36m::Int64\u001b[39m\n",
      "\u001b[90m│   \u001b[39m %98  = (Base.getfield)(%93, :im)\u001b[36m::Int64\u001b[39m\n",
      "\u001b[90m│   \u001b[39m %99  = (Base.mul_int)(%97, %98)\u001b[36m::Int64\u001b[39m\n",
      "\u001b[90m│   \u001b[39m %100 = (Base.sub_int)(%96, %99)\u001b[36m::Int64\u001b[39m\n",
      "\u001b[90m│   \u001b[39m %101 = (Base.getfield)(%93, :re)\u001b[36m::Int64\u001b[39m\n",
      "\u001b[90m│   \u001b[39m %102 = (Base.getfield)(%93, :im)\u001b[36m::Int64\u001b[39m\n",
      "\u001b[90m│   \u001b[39m %103 = (Base.mul_int)(%101, %102)\u001b[36m::Int64\u001b[39m\n",
      "\u001b[90m│   \u001b[39m %104 = (Base.getfield)(%93, :im)\u001b[36m::Int64\u001b[39m\n",
      "\u001b[90m│   \u001b[39m %105 = (Base.getfield)(%93, :re)\u001b[36m::Int64\u001b[39m\n",
      "\u001b[90m│   \u001b[39m %106 = (Base.mul_int)(%104, %105)\u001b[36m::Int64\u001b[39m\n",
      "\u001b[90m│   \u001b[39m %107 = (Base.add_int)(%103, %106)\u001b[36m::Int64\u001b[39m\n",
      "\u001b[90m│   \u001b[39m %108 = (Base.mul_int)(3, %100)\u001b[36m::Int64\u001b[39m\n",
      "\u001b[90m│   \u001b[39m %109 = (Base.mul_int)(3, %107)\u001b[36m::Int64\u001b[39m\n",
      "\u001b[90m│   \u001b[39m %110 = %new(Complex{Int64}, %108, %109)\u001b[36m::Complex{Int64}\u001b[39m\n",
      "\u001b[90m└───\u001b[39m        goto #12\n",
      "\u001b[90m11 ─\u001b[39m        (Core.throw)(ErrorException(\"fatal error in type inference (type bound)\"))\n",
      "\u001b[90m└───\u001b[39m        $(Expr(:unreachable))\n",
      "\u001b[90m12 ┄\u001b[39m %114 = φ (#10 => %108)\u001b[36m::Int64\u001b[39m\n",
      "\u001b[90m│   \u001b[39m %115 = φ (#10 => %109)\u001b[36m::Int64\u001b[39m\n",
      "\u001b[90m│   \u001b[39m %116 = φ (#8 => %89, #10 => %110)\u001b[91m\u001b[1m::Union{Complex{Float64}, Complex{Int64}}\u001b[22m\u001b[39m\n",
      "\u001b[90m│   \u001b[39m %117 = Main.:/\u001b[36m::Core.Compiler.Const(/, false)\u001b[39m\n",
      "\u001b[90m│   \u001b[39m %118 = (isa)(%78, Complex{Float64})\u001b[36m::Bool\u001b[39m\n",
      "\u001b[90m│   \u001b[39m %119 = (isa)(%116, Complex{Float64})\u001b[36m::Bool\u001b[39m\n",
      "\u001b[90m│   \u001b[39m %120 = (and_int)(%118, %119)\u001b[36m::Bool\u001b[39m\n",
      "\u001b[90m└───\u001b[39m        goto #14 if not %120\n",
      "\u001b[90m13 ─\u001b[39m %122 = π (%78, \u001b[36mComplex{Float64}\u001b[39m)\n",
      "\u001b[90m│   \u001b[39m %123 = π (%116, \u001b[36mComplex{Float64}\u001b[39m)\n",
      "\u001b[90m│   \u001b[39m %124 = invoke %117(%122::Complex{Float64}, %123::Complex{Float64})\u001b[36m::Complex{Float64}\u001b[39m\n",
      "\u001b[90m└───\u001b[39m        goto #19\n",
      "\u001b[90m14 ─\u001b[39m %126 = (isa)(%78, Complex{Int64})\u001b[36m::Bool\u001b[39m\n",
      "\u001b[90m│   \u001b[39m %127 = (isa)(%116, Complex{Float64})\u001b[36m::Bool\u001b[39m\n",
      "\u001b[90m│   \u001b[39m %128 = (and_int)(%126, %127)\u001b[36m::Bool\u001b[39m\n",
      "\u001b[90m└───\u001b[39m        goto #16 if not %128\n",
      "\u001b[90m15 ─\u001b[39m %130 = π (%116, \u001b[36mComplex{Float64}\u001b[39m)\n",
      "\u001b[90m│   \u001b[39m %131 = (Base.sitofp)(Float64, %76)\u001b[36m::Float64\u001b[39m\n",
      "\u001b[90m│   \u001b[39m %132 = (Base.sitofp)(Float64, %77)\u001b[36m::Float64\u001b[39m\n",
      "\u001b[90m│   \u001b[39m %133 = %new(Complex{Float64}, %131, %132)\u001b[36m::Complex{Float64}\u001b[39m\n",
      "\u001b[90m│   \u001b[39m %134 = invoke Base.:/(%133::Complex{Float64}, %130::Complex{Float64})\u001b[36m::Complex{Float64}\u001b[39m\n",
      "\u001b[90m└───\u001b[39m        goto #19\n",
      "\u001b[90m16 ─\u001b[39m %136 = (isa)(%78, Complex{Float64})\u001b[36m::Bool\u001b[39m\n",
      "\u001b[90m│   \u001b[39m %137 = (isa)(%116, Complex{Int64})\u001b[36m::Bool\u001b[39m\n",
      "\u001b[90m│   \u001b[39m %138 = (and_int)(%136, %137)\u001b[36m::Bool\u001b[39m\n",
      "\u001b[90m└───\u001b[39m        goto #18 if not %138\n",
      "\u001b[90m17 ─\u001b[39m %140 = π (%78, \u001b[36mComplex{Float64}\u001b[39m)\n",
      "\u001b[90m│   \u001b[39m %141 = (Base.sitofp)(Float64, %114)\u001b[36m::Float64\u001b[39m\n",
      "\u001b[90m│   \u001b[39m %142 = (Base.sitofp)(Float64, %115)\u001b[36m::Float64\u001b[39m\n",
      "\u001b[90m│   \u001b[39m %143 = %new(Complex{Float64}, %141, %142)\u001b[36m::Complex{Float64}\u001b[39m\n",
      "\u001b[90m│   \u001b[39m %144 = invoke Base.:/(%140::Complex{Float64}, %143::Complex{Float64})\u001b[36m::Complex{Float64}\u001b[39m\n",
      "\u001b[90m└───\u001b[39m        goto #19\n",
      "\u001b[90m18 ─\u001b[39m %146 = (%78 / %116)\u001b[36m::Complex{Float64}\u001b[39m\n",
      "\u001b[90m└───\u001b[39m        goto #19\n",
      "\u001b[90m19 ┄\u001b[39m %148 = φ (#13 => %124, #15 => %134, #17 => %144, #18 => %146)\u001b[36m::Complex{Float64}\u001b[39m\n",
      "\u001b[90m│   \u001b[39m %149 = (isa)(%24, Complex{Float64})\u001b[36m::Bool\u001b[39m\n",
      "\u001b[90m└───\u001b[39m        goto #21 if not %149\n",
      "\u001b[90m20 ─\u001b[39m %151 = (Base.getfield)(%148, :re)\u001b[36m::Float64\u001b[39m\n",
      "\u001b[90m│   \u001b[39m %152 = (Base.sub_float)(%22, %151)\u001b[36m::Float64\u001b[39m\n",
      "\u001b[90m│   \u001b[39m %153 = (Base.getfield)(%148, :im)\u001b[36m::Float64\u001b[39m\n",
      "\u001b[90m│   \u001b[39m %154 = (Base.sub_float)(%23, %153)\u001b[36m::Float64\u001b[39m\n",
      "\u001b[90m│   \u001b[39m %155 = %new(Complex{Float64}, %152, %154)\u001b[36m::Complex{Float64}\u001b[39m\n",
      "\u001b[90m└───\u001b[39m        goto #24\n",
      "\u001b[90m21 ─\u001b[39m %157 = (isa)(%24, Complex{Int64})\u001b[36m::Bool\u001b[39m\n",
      "\u001b[90m└───\u001b[39m        goto #23 if not %157\n",
      "\u001b[90m22 ─\u001b[39m %159 = π (%24, \u001b[36mComplex{Int64}\u001b[39m)\n",
      "\u001b[90m│   \u001b[39m %160 = (Base.getfield)(%159, :re)\u001b[36m::Int64\u001b[39m\n",
      "\u001b[90m│   \u001b[39m %161 = (Base.getfield)(%148, :re)\u001b[36m::Float64\u001b[39m\n",
      "\u001b[90m│   \u001b[39m %162 = (Base.sitofp)(Float64, %160)\u001b[36m::Float64\u001b[39m\n",
      "\u001b[90m│   \u001b[39m %163 = (Base.sub_float)(%162, %161)\u001b[36m::Float64\u001b[39m\n",
      "\u001b[90m│   \u001b[39m %164 = (Base.getfield)(%159, :im)\u001b[36m::Int64\u001b[39m\n",
      "\u001b[90m│   \u001b[39m %165 = (Base.getfield)(%148, :im)\u001b[36m::Float64\u001b[39m\n",
      "\u001b[90m│   \u001b[39m %166 = (Base.sitofp)(Float64, %164)\u001b[36m::Float64\u001b[39m\n",
      "\u001b[90m│   \u001b[39m %167 = (Base.sub_float)(%166, %165)\u001b[36m::Float64\u001b[39m\n",
      "\u001b[90m│   \u001b[39m %168 = %new(Complex{Float64}, %163, %167)\u001b[36m::Complex{Float64}\u001b[39m\n",
      "\u001b[90m└───\u001b[39m        goto #24\n",
      "\u001b[90m23 ─\u001b[39m        (Core.throw)(ErrorException(\"fatal error in type inference (type bound)\"))\n",
      "\u001b[90m└───\u001b[39m        $(Expr(:unreachable))\n",
      "\u001b[90m24 ┄\u001b[39m %172 = φ (#20 => %152, #22 => %163)\u001b[36m::Float64\u001b[39m\n",
      "\u001b[90m│   \u001b[39m %173 = φ (#20 => %152, #22 => %163)\u001b[36m::Float64\u001b[39m\n",
      "\u001b[90m│   \u001b[39m %174 = φ (#20 => %154, #22 => %167)\u001b[36m::Float64\u001b[39m\n",
      "\u001b[90m│   \u001b[39m %175 = φ (#20 => %154, #22 => %167)\u001b[36m::Float64\u001b[39m\n",
      "\u001b[90m│   \u001b[39m %176 = φ (#20 => %152, #22 => %163)\u001b[36m::Float64\u001b[39m\n",
      "\u001b[90m│   \u001b[39m %177 = φ (#20 => %154, #22 => %167)\u001b[36m::Float64\u001b[39m\n",
      "\u001b[90m│   \u001b[39m %178 = φ (#20 => %154, #22 => %167)\u001b[36m::Float64\u001b[39m\n",
      "\u001b[90m│   \u001b[39m %179 = φ (#20 => %152, #22 => %163)\u001b[36m::Float64\u001b[39m\n",
      "\u001b[90m│   \u001b[39m %180 = φ (#20 => %152, #22 => %163)\u001b[36m::Float64\u001b[39m\n",
      "\u001b[90m│   \u001b[39m %181 = φ (#20 => %154, #22 => %167)\u001b[36m::Float64\u001b[39m\n",
      "\u001b[90m│   \u001b[39m %182 = φ (#20 => %154, #22 => %167)\u001b[36m::Float64\u001b[39m\n",
      "\u001b[90m│   \u001b[39m %183 = φ (#20 => %152, #22 => %163)\u001b[36m::Float64\u001b[39m\n",
      "\u001b[90m│   \u001b[39m %184 = φ (#20 => %152, #22 => %163)\u001b[36m::Float64\u001b[39m\n",
      "\u001b[90m│   \u001b[39m %185 = φ (#20 => %152, #22 => %163)\u001b[36m::Float64\u001b[39m\n",
      "\u001b[90m│   \u001b[39m %186 = φ (#20 => %154, #22 => %167)\u001b[36m::Float64\u001b[39m\n",
      "\u001b[90m│   \u001b[39m %187 = φ (#20 => %154, #22 => %167)\u001b[36m::Float64\u001b[39m\n",
      "\u001b[90m│   \u001b[39m %188 = φ (#20 => %152, #22 => %163)\u001b[36m::Float64\u001b[39m\n",
      "\u001b[90m│   \u001b[39m %189 = φ (#20 => %154, #22 => %167)\u001b[36m::Float64\u001b[39m\n",
      "\u001b[90m│   \u001b[39m %190 = φ (#20 => %154, #22 => %167)\u001b[36m::Float64\u001b[39m\n",
      "\u001b[90m│   \u001b[39m %191 = φ (#20 => %152, #22 => %163)\u001b[36m::Float64\u001b[39m\n",
      "\u001b[90m│   \u001b[39m %192 = φ (#20 => %152, #22 => %163)\u001b[36m::Float64\u001b[39m\n",
      "\u001b[90m│   \u001b[39m %193 = φ (#20 => %154, #22 => %167)\u001b[36m::Float64\u001b[39m\n",
      "\u001b[90m│   \u001b[39m %194 = φ (#20 => %152, #22 => %163)\u001b[36m::Float64\u001b[39m\n",
      "\u001b[90m│   \u001b[39m %195 = φ (#20 => %152, #22 => %163)\u001b[36m::Float64\u001b[39m\n"
     ]
    },
    {
     "name": "stdout",
     "output_type": "stream",
     "text": [
      "\u001b[90m│   \u001b[39m %196 = φ (#20 => %154, #22 => %167)\u001b[36m::Float64\u001b[39m\n",
      "\u001b[90m│   \u001b[39m %197 = φ (#20 => %154, #22 => %167)\u001b[36m::Float64\u001b[39m\n",
      "\u001b[90m│   \u001b[39m %198 = φ (#20 => %152, #22 => %163)\u001b[36m::Float64\u001b[39m\n",
      "\u001b[90m│   \u001b[39m %199 = φ (#20 => %154, #22 => %167)\u001b[36m::Float64\u001b[39m\n",
      "\u001b[90m│   \u001b[39m %200 = φ (#20 => %154, #22 => %167)\u001b[36m::Float64\u001b[39m\n",
      "\u001b[90m│   \u001b[39m %201 = φ (#20 => %152, #22 => %163)\u001b[36m::Float64\u001b[39m\n",
      "\u001b[90m│   \u001b[39m %202 = φ (#20 => %152, #22 => %163)\u001b[36m::Float64\u001b[39m\n",
      "\u001b[90m│   \u001b[39m %203 = φ (#20 => %154, #22 => %167)\u001b[36m::Float64\u001b[39m\n",
      "\u001b[90m│   \u001b[39m %204 = φ (#20 => %154, #22 => %167)\u001b[36m::Float64\u001b[39m\n",
      "\u001b[90m│   \u001b[39m %205 = φ (#20 => %152, #22 => %163)\u001b[36m::Float64\u001b[39m\n",
      "\u001b[90m│   \u001b[39m %206 = φ (#20 => %155, #22 => %168)\u001b[36m::Complex{Float64}\u001b[39m\n",
      "\u001b[90m│   \u001b[39m %207 = (Base.mul_float)(%194, %195)\u001b[36m::Float64\u001b[39m\n",
      "\u001b[90m│   \u001b[39m %208 = (Base.mul_float)(%196, %197)\u001b[36m::Float64\u001b[39m\n",
      "\u001b[90m│   \u001b[39m %209 = (Base.sub_float)(%207, %208)\u001b[36m::Float64\u001b[39m\n",
      "\u001b[90m│   \u001b[39m %210 = (Base.mul_float)(%198, %199)\u001b[36m::Float64\u001b[39m\n",
      "\u001b[90m│   \u001b[39m %211 = (Base.mul_float)(%200, %201)\u001b[36m::Float64\u001b[39m\n",
      "\u001b[90m│   \u001b[39m %212 = (Base.add_float)(%210, %211)\u001b[36m::Float64\u001b[39m\n",
      "\u001b[90m│   \u001b[39m %213 = (Base.mul_float)(%209, %202)\u001b[36m::Float64\u001b[39m\n",
      "\u001b[90m│   \u001b[39m %214 = (Base.mul_float)(%212, %203)\u001b[36m::Float64\u001b[39m\n",
      "\u001b[90m│   \u001b[39m %215 = (Base.sub_float)(%213, %214)\u001b[36m::Float64\u001b[39m\n",
      "\u001b[90m│   \u001b[39m %216 = (Base.mul_float)(%209, %204)\u001b[36m::Float64\u001b[39m\n",
      "\u001b[90m│   \u001b[39m %217 = (Base.mul_float)(%212, %205)\u001b[36m::Float64\u001b[39m\n",
      "\u001b[90m│   \u001b[39m %218 = (Base.add_float)(%216, %217)\u001b[36m::Float64\u001b[39m\n",
      "\u001b[90m│   \u001b[39m %219 = (Base.sub_float)(%215, 1.0)\u001b[36m::Float64\u001b[39m\n",
      "\u001b[90m│   \u001b[39m %220 = invoke Base.hypot(%219::Float64, %218::Float64)\u001b[36m::Float64\u001b[39m\n",
      "\u001b[90m│   \u001b[39m %221 = (Base.lt_float)(%220, tolerance)\u001b[36m::Bool\u001b[39m\n",
      "\u001b[90m└───\u001b[39m        goto #26 if not %221\n",
      "\u001b[90m25 ─\u001b[39m        goto #31\n",
      "\u001b[90m26 ─\u001b[39m %224 = (%26 === 10000)\u001b[36m::Bool\u001b[39m\n",
      "\u001b[90m└───\u001b[39m        goto #28 if not %224\n",
      "\u001b[90m27 ─\u001b[39m        goto #29\n",
      "\u001b[90m28 ─\u001b[39m %227 = (Base.add_int)(%26, 1)\u001b[36m::Int64\u001b[39m\n",
      "\u001b[90m└───\u001b[39m        goto #29\n",
      "\u001b[90m29 ┄\u001b[39m %229 = φ (#28 => %227)\u001b[36m::Int64\u001b[39m\n",
      "\u001b[90m│   \u001b[39m %230 = φ (#28 => %227)\u001b[36m::Int64\u001b[39m\n",
      "\u001b[90m│   \u001b[39m %231 = φ (#27 => true, #28 => false)\u001b[36m::Bool\u001b[39m\n",
      "\u001b[90m│   \u001b[39m %232 = (Base.not_int)(%231)\u001b[36m::Bool\u001b[39m\n",
      "\u001b[90m└───\u001b[39m        goto #31 if not %232\n",
      "\u001b[90m30 ─\u001b[39m        goto #2\n",
      "\u001b[90m31 ┄\u001b[39m %235 = φ (#25 => %206, #29 => %206, #1 => _4)\u001b[91m\u001b[1m::Union{Complex{Float64}, Complex{Int64}}\u001b[22m\u001b[39m\n",
      "\u001b[90m│   \u001b[39m %236 = φ (#25 => %25, #29 => 0, #1 => 0)\u001b[36m::Int64\u001b[39m\n",
      "\u001b[90m│   \u001b[39m %237 = π (%235, \u001b[36mComplex{Float64}\u001b[39m)\n",
      "\u001b[90m│   \u001b[39m %238 = (Core.tuple)(%236, %237)\u001b[36m::Tuple{Int64,Complex{Float64}}\u001b[39m\n",
      "\u001b[90m└───\u001b[39m        return %238\n"
     ]
    }
   ],
   "source": [
    "@code_warntype newton(g, dg, 1+im, 1e-10)"
   ]
  },
  {
   "cell_type": "code",
   "execution_count": 124,
   "metadata": {},
   "outputs": [
    {
     "data": {
      "text/plain": [
       "(5, 1.4142135623746899 + 0.0im)"
      ]
     },
     "execution_count": 124,
     "metadata": {},
     "output_type": "execute_result"
    }
   ],
   "source": [
    "newton(f, df, 1+im)"
   ]
  },
  {
   "cell_type": "code",
   "execution_count": 127,
   "metadata": {},
   "outputs": [
    {
     "data": {
      "text/html": [
       "newton(f, df, x0) in Main at In[108]:3"
      ],
      "text/plain": [
       "newton(f, df, x0) in Main at In[108]:3"
      ]
     },
     "execution_count": 127,
     "metadata": {},
     "output_type": "execute_result"
    }
   ],
   "source": [
    "m = @which newton(f, df, 1+im)"
   ]
  },
  {
   "cell_type": "code",
   "execution_count": 128,
   "metadata": {},
   "outputs": [
    {
     "data": {
      "text/plain": [
       "Method"
      ]
     },
     "execution_count": 128,
     "metadata": {},
     "output_type": "execute_result"
    }
   ],
   "source": [
    "typeof(m)"
   ]
  },
  {
   "cell_type": "code",
   "execution_count": 129,
   "metadata": {},
   "outputs": [
    {
     "data": {
      "text/plain": [
       "Core.TypeMapEntry(Core.TypeMapEntry(Core.TypeMapEntry(nothing, Tuple{typeof(newton),Function,Function,Float64}, nothing, svec(), 25606, -1, MethodInstance for newton(::Function, ::Function, ::Float64), false, false, false), Tuple{typeof(newton),Function,Function,Complex{Int64}}, nothing, svec(), 25606, -1, MethodInstance for newton(::Function, ::Function, ::Complex{Int64}), false, false, false), Tuple{typeof(newton),typeof(g),typeof(dg),Complex{Int64}}, nothing, svec(), 25616, -1, MethodInstance for newton(::typeof(g), ::typeof(dg), ::Complex{Int64}), true, true, false)"
      ]
     },
     "execution_count": 129,
     "metadata": {},
     "output_type": "execute_result"
    }
   ],
   "source": [
    "m.specializations"
   ]
  },
  {
   "cell_type": "code",
   "execution_count": 130,
   "metadata": {},
   "outputs": [
    {
     "data": {
      "text/plain": [
       "h (generic function with 1 method)"
      ]
     },
     "execution_count": 130,
     "metadata": {},
     "output_type": "execute_result"
    }
   ],
   "source": [
    "h(x) = x^2 + 1"
   ]
  },
  {
   "cell_type": "code",
   "execution_count": 131,
   "metadata": {},
   "outputs": [
    {
     "data": {
      "text/plain": [
       "dh (generic function with 1 method)"
      ]
     },
     "execution_count": 131,
     "metadata": {},
     "output_type": "execute_result"
    }
   ],
   "source": [
    "dh(x) = 2x"
   ]
  },
  {
   "cell_type": "code",
   "execution_count": 135,
   "metadata": {},
   "outputs": [
    {
     "data": {
      "text/plain": [
       "(-1, 0.47231766033837386)"
      ]
     },
     "execution_count": 135,
     "metadata": {},
     "output_type": "execute_result"
    }
   ],
   "source": [
    "newton(h, dh, 3.0)"
   ]
  },
  {
   "cell_type": "markdown",
   "metadata": {},
   "source": [
    "## Find many roots"
   ]
  },
  {
   "cell_type": "markdown",
   "metadata": {},
   "source": [
    "Idea: Run Newton algorithm from many starting points"
   ]
  },
  {
   "cell_type": "markdown",
   "metadata": {},
   "source": [
    "Real roots: Take many initial values x0 on real line"
   ]
  },
  {
   "cell_type": "code",
   "execution_count": 13,
   "metadata": {},
   "outputs": [
    {
     "data": {
      "text/plain": [
       "-10.0:0.1:10.0"
      ]
     },
     "execution_count": 13,
     "metadata": {},
     "output_type": "execute_result"
    }
   ],
   "source": [
    "initial_values = -10:0.1:10"
   ]
  },
  {
   "cell_type": "code",
   "execution_count": 14,
   "metadata": {},
   "outputs": [
    {
     "data": {
      "text/plain": [
       "201-element Array{Float64,1}:\n",
       " -10.0\n",
       "  -9.9\n",
       "  -9.8\n",
       "  -9.7\n",
       "  -9.6\n",
       "  -9.5\n",
       "  -9.4\n",
       "  -9.3\n",
       "  -9.2\n",
       "  -9.1\n",
       "  -9.0\n",
       "  -8.9\n",
       "  -8.8\n",
       "   ⋮  \n",
       "   8.9\n",
       "   9.0\n",
       "   9.1\n",
       "   9.2\n",
       "   9.3\n",
       "   9.4\n",
       "   9.5\n",
       "   9.6\n",
       "   9.7\n",
       "   9.8\n",
       "   9.9\n",
       "  10.0"
      ]
     },
     "execution_count": 14,
     "metadata": {},
     "output_type": "execute_result"
    }
   ],
   "source": [
    "collect(initial_values)  # turns the range into an array"
   ]
  },
  {
   "cell_type": "code",
   "execution_count": 15,
   "metadata": {},
   "outputs": [
    {
     "data": {
      "text/plain": [
       "StepRangeLen{Float64,Base.TwicePrecision{Float64},Base.TwicePrecision{Float64}}"
      ]
     },
     "execution_count": 15,
     "metadata": {},
     "output_type": "execute_result"
    }
   ],
   "source": [
    "typeof(initial_values)"
   ]
  },
  {
   "cell_type": "code",
   "execution_count": 8,
   "metadata": {},
   "outputs": [
    {
     "data": {
      "text/plain": [
       "df (generic function with 1 method)"
      ]
     },
     "execution_count": 8,
     "metadata": {},
     "output_type": "execute_result"
    }
   ],
   "source": [
    "f(x) = x^2 - 2\n",
    "df(x) = 2x"
   ]
  },
  {
   "cell_type": "code",
   "execution_count": 12,
   "metadata": {},
   "outputs": [
    {
     "data": {
      "text/plain": [
       "NaN"
      ]
     },
     "execution_count": 12,
     "metadata": {},
     "output_type": "execute_result"
    }
   ],
   "source": [
    "0.0 / 0.0"
   ]
  },
  {
   "cell_type": "code",
   "execution_count": 11,
   "metadata": {},
   "outputs": [
    {
     "name": "stdout",
     "output_type": "stream",
     "text": [
      "(x0, result) = (-10.0, (7, -1.4142135623730954))\n",
      "(x0, result) = (-9.9, (7, -1.4142135623730954))\n",
      "(x0, result) = (-9.8, (7, -1.4142135623730951))\n",
      "(x0, result) = (-9.7, (7, -1.4142135623730951))\n",
      "(x0, result) = (-9.6, (7, -1.4142135623730951))\n",
      "(x0, result) = (-9.5, (7, -1.4142135623730951))\n",
      "(x0, result) = (-9.4, (7, -1.4142135623730951))\n",
      "(x0, result) = (-9.3, (7, -1.414213562373095))\n",
      "(x0, result) = (-9.2, (7, -1.4142135623730951))\n",
      "(x0, result) = (-9.1, (7, -1.4142135623730951))\n",
      "(x0, result) = (-9.0, (7, -1.4142135623730951))\n",
      "(x0, result) = (-8.9, (7, -1.4142135623730951))\n",
      "(x0, result) = (-8.8, (7, -1.4142135623730951))\n",
      "(x0, result) = (-8.7, (7, -1.4142135623730951))\n",
      "(x0, result) = (-8.6, (7, -1.4142135623730951))\n",
      "(x0, result) = (-8.5, (7, -1.4142135623730951))\n",
      "(x0, result) = (-8.4, (7, -1.414213562373095))\n",
      "(x0, result) = (-8.3, (7, -1.414213562373095))\n",
      "(x0, result) = (-8.2, (7, -1.414213562373095))\n",
      "(x0, result) = (-8.1, (7, -1.4142135623730951))\n",
      "(x0, result) = (-8.0, (7, -1.4142135623730951))\n",
      "(x0, result) = (-7.9, (7, -1.4142135623730951))\n",
      "(x0, result) = (-7.8, (7, -1.4142135623730951))\n",
      "(x0, result) = (-7.7, (7, -1.4142135623730951))\n",
      "(x0, result) = (-7.6, (7, -1.4142135623730951))\n",
      "(x0, result) = (-7.5, (7, -1.4142135623730951))\n",
      "(x0, result) = (-7.4, (7, -1.414213562373095))\n",
      "(x0, result) = (-7.3, (6, -1.414213562408124))\n",
      "(x0, result) = (-7.2, (6, -1.4142135623975822))\n",
      "(x0, result) = (-7.1, (6, -1.414213562390034))\n",
      "(x0, result) = (-7.0, (6, -1.4142135623846848))\n",
      "(x0, result) = (-6.9, (6, -1.4142135623809344))\n",
      "(x0, result) = (-6.8, (6, -1.4142135623783343))\n",
      "(x0, result) = (-6.7, (6, -1.4142135623765528))\n",
      "(x0, result) = (-6.6, (6, -1.4142135623753471))\n",
      "(x0, result) = (-6.5, (6, -1.4142135623745418))\n",
      "(x0, result) = (-6.4, (6, -1.414213562374011))\n",
      "(x0, result) = (-6.3, (6, -1.4142135623736662))\n",
      "(x0, result) = (-6.2, (6, -1.4142135623734455))\n",
      "(x0, result) = (-6.1, (6, -1.4142135623733065))\n",
      "(x0, result) = (-6.0, (6, -1.4142135623732204))\n",
      "(x0, result) = (-5.9, (6, -1.414213562373168))\n",
      "(x0, result) = (-5.8, (6, -1.4142135623731364))\n",
      "(x0, result) = (-5.7, (6, -1.4142135623731182))\n",
      "(x0, result) = (-5.6, (6, -1.4142135623731076))\n",
      "(x0, result) = (-5.5, (6, -1.4142135623731018))\n",
      "(x0, result) = (-5.4, (6, -1.4142135623730987))\n",
      "(x0, result) = (-5.3, (6, -1.414213562373097))\n",
      "(x0, result) = (-5.2, (6, -1.4142135623730958))\n",
      "(x0, result) = (-5.1, (6, -1.4142135623730954))\n",
      "(x0, result) = (-5.0, (6, -1.4142135623730951))\n",
      "(x0, result) = (-4.9, (6, -1.4142135623730951))\n",
      "(x0, result) = (-4.8, (6, -1.414213562373095))\n",
      "(x0, result) = (-4.7, (6, -1.4142135623730951))\n",
      "(x0, result) = (-4.6, (6, -1.4142135623730951))\n",
      "(x0, result) = (-4.5, (6, -1.4142135623730951))\n",
      "(x0, result) = (-4.4, (6, -1.4142135623730951))\n",
      "(x0, result) = (-4.3, (6, -1.414213562373095))\n",
      "(x0, result) = (-4.2, (6, -1.4142135623730951))\n",
      "(x0, result) = (-4.1, (6, -1.4142135623730951))\n",
      "(x0, result) = (-4.0, (6, -1.4142135623730951))\n",
      "(x0, result) = (-3.9, (6, -1.414213562373095))\n",
      "(x0, result) = (-3.8, (6, -1.4142135623730951))\n",
      "(x0, result) = (-3.7, (5, -1.4142135623912822))\n",
      "(x0, result) = (-3.6, (5, -1.4142135623812702))\n",
      "(x0, result) = (-3.5, (5, -1.4142135623765757))\n",
      "(x0, result) = (-3.4, (5, -1.41421356237449))\n",
      "(x0, result) = (-3.3, (5, -1.4142135623736176))\n",
      "(x0, result) = (-3.2, (5, -1.4142135623732766))\n",
      "(x0, result) = (-3.1, (5, -1.4142135623731529))\n",
      "(x0, result) = (-3.0, (5, -1.4142135623731118))\n",
      "(x0, result) = (-2.9, (5, -1.4142135623730994))\n",
      "(x0, result) = (-2.8, (5, -1.414213562373096))\n",
      "(x0, result) = (-2.7, (5, -1.4142135623730951))\n",
      "(x0, result) = (-2.6, (5, -1.414213562373095))\n",
      "(x0, result) = (-2.5, (5, -1.414213562373095))\n",
      "(x0, result) = (-2.4, (5, -1.414213562373095))\n",
      "(x0, result) = (-2.3, (5, -1.414213562373095))\n",
      "(x0, result) = (-2.2, (5, -1.4142135623730951))\n",
      "(x0, result) = (-2.1, (4, -1.4142135623856067))\n",
      "(x0, result) = (-2.0, (4, -1.4142135623746899))\n",
      "(x0, result) = (-1.9, (4, -1.4142135623732235))\n",
      "(x0, result) = (-1.8, (4, -1.4142135623731005))\n",
      "(x0, result) = (-1.7, (4, -1.4142135623730951))\n",
      "(x0, result) = (-1.6, (4, -1.4142135623730951))\n",
      "(x0, result) = (-1.5, (3, -1.4142135623746899))\n",
      "(x0, result) = (-1.4, (3, -1.4142135623730951))\n",
      "(x0, result) = (-1.3, (3, -1.4142135624009007))\n",
      "(x0, result) = (-1.2, (4, -1.4142135623730951))\n",
      "(x0, result) = (-1.1, (4, -1.4142135623731051))\n",
      "(x0, result) = (-1.0, (4, -1.4142135623746899))\n",
      "(x0, result) = (-0.9, (5, -1.4142135623730951))\n",
      "(x0, result) = (-0.8, (5, -1.414213562373095))\n",
      "(x0, result) = (-0.7, (5, -1.4142135623730974))\n",
      "(x0, result) = (-0.6, (5, -1.414213562373826))\n",
      "(x0, result) = (-0.5, (6, -1.4142135623730951))\n",
      "(x0, result) = (-0.4, (6, -1.4142135623730951))\n",
      "(x0, result) = (-0.3, (6, -1.4142135623760967))\n",
      "(x0, result) = (-0.2, (7, -1.4142135623730954))\n",
      "(x0, result) = (-0.1, (8, -1.4142135623730956))\n",
      "(x0, result) = (0.0, (-1, NaN))\n",
      "(x0, result) = (0.1, (8, 1.4142135623730956))\n",
      "(x0, result) = (0.2, (7, 1.4142135623730954))\n",
      "(x0, result) = (0.3, (6, 1.4142135623760967))\n",
      "(x0, result) = (0.4, (6, 1.4142135623730951))\n",
      "(x0, result) = (0.5, (6, 1.4142135623730951))\n",
      "(x0, result) = (0.6, (5, 1.414213562373826))\n",
      "(x0, result) = (0.7, (5, 1.4142135623730974))\n",
      "(x0, result) = (0.8, (5, 1.414213562373095))\n",
      "(x0, result) = (0.9, (5, 1.4142135623730951))\n",
      "(x0, result) = (1.0, (4, 1.4142135623746899))\n",
      "(x0, result) = (1.1, (4, 1.4142135623731051))\n",
      "(x0, result) = (1.2, (4, 1.4142135623730951))\n",
      "(x0, result) = (1.3, (3, 1.4142135624009007))\n",
      "(x0, result) = (1.4, (3, 1.4142135623730951))\n",
      "(x0, result) = (1.5, (3, 1.4142135623746899))\n",
      "(x0, result) = (1.6, (4, 1.4142135623730951))\n",
      "(x0, result) = (1.7, (4, 1.4142135623730951))\n",
      "(x0, result) = (1.8, (4, 1.4142135623731005))\n",
      "(x0, result) = (1.9, (4, 1.4142135623732235))\n",
      "(x0, result) = (2.0, (4, 1.4142135623746899))\n",
      "(x0, result) = (2.1, (4, 1.4142135623856067))\n",
      "(x0, result) = (2.2, (5, 1.4142135623730951))\n",
      "(x0, result) = (2.3, (5, 1.414213562373095))\n",
      "(x0, result) = (2.4, (5, 1.414213562373095))\n",
      "(x0, result) = (2.5, (5, 1.414213562373095))\n",
      "(x0, result) = (2.6, (5, 1.414213562373095))\n",
      "(x0, result) = (2.7, (5, 1.4142135623730951))\n",
      "(x0, result) = (2.8, (5, 1.414213562373096))\n",
      "(x0, result) = (2.9, (5, 1.4142135623730994))\n",
      "(x0, result) = (3.0, (5, 1.4142135623731118))\n",
      "(x0, result) = (3.1, (5, 1.4142135623731529))\n",
      "(x0, result) = (3.2, (5, 1.4142135623732766))\n",
      "(x0, result) = (3.3, (5, 1.4142135623736176))\n",
      "(x0, result) = (3.4, (5, 1.41421356237449))\n",
      "(x0, result) = (3.5, (5, 1.4142135623765757))\n",
      "(x0, result) = (3.6, (5, 1.4142135623812702))\n",
      "(x0, result) = (3.7, (5, 1.4142135623912822))\n",
      "(x0, result) = (3.8, (6, 1.4142135623730951))\n",
      "(x0, result) = (3.9, (6, 1.414213562373095))\n",
      "(x0, result) = (4.0, (6, 1.4142135623730951))\n",
      "(x0, result) = (4.1, (6, 1.4142135623730951))\n",
      "(x0, result) = (4.2, (6, 1.4142135623730951))\n",
      "(x0, result) = (4.3, (6, 1.414213562373095))\n",
      "(x0, result) = (4.4, (6, 1.4142135623730951))\n",
      "(x0, result) = (4.5, (6, 1.4142135623730951))\n",
      "(x0, result) = (4.6, (6, 1.4142135623730951))\n",
      "(x0, result) = (4.7, (6, 1.4142135623730951))\n",
      "(x0, result) = (4.8, (6, 1.414213562373095))\n",
      "(x0, result) = (4.9, (6, 1.4142135623730951))\n",
      "(x0, result) = (5.0, (6, 1.4142135623730951))\n",
      "(x0, result) = (5.1, (6, 1.4142135623730954))\n",
      "(x0, result) = (5.2, (6, 1.4142135623730958))\n",
      "(x0, result) = (5.3, (6, 1.414213562373097))\n",
      "(x0, result) = (5.4, (6, 1.4142135623730987))\n",
      "(x0, result) = (5.5, (6, 1.4142135623731018))\n",
      "(x0, result) = (5.6, (6, 1.4142135623731076))\n",
      "(x0, result) = (5.7, (6, 1.4142135623731182))\n",
      "(x0, result) = (5.8, (6, 1.4142135623731364))\n",
      "(x0, result) = (5.9, (6, 1.414213562373168))\n",
      "(x0, result) = (6.0, (6, 1.4142135623732204))\n",
      "(x0, result) = (6.1, (6, 1.4142135623733065))\n",
      "(x0, result) = (6.2, (6, 1.4142135623734455))\n",
      "(x0, result) = (6.3, (6, 1.4142135623736662))\n",
      "(x0, result) = (6.4, (6, 1.414213562374011))\n",
      "(x0, result) = (6.5, (6, 1.4142135623745418))\n",
      "(x0, result) = (6.6, (6, 1.4142135623753471))\n",
      "(x0, result) = (6.7, (6, 1.4142135623765528))\n",
      "(x0, result) = (6.8, (6, 1.4142135623783343))\n",
      "(x0, result) = (6.9, (6, 1.4142135623809344))\n",
      "(x0, result) = (7.0, (6, 1.4142135623846848))\n",
      "(x0, result) = (7.1, (6, 1.414213562390034))\n",
      "(x0, result) = (7.2, (6, 1.4142135623975822))\n",
      "(x0, result) = (7.3, (6, 1.414213562408124))\n",
      "(x0, result) = (7.4, (7, 1.414213562373095))\n",
      "(x0, result) = (7.5, (7, 1.4142135623730951))\n",
      "(x0, result) = (7.6, (7, 1.4142135623730951))\n",
      "(x0, result) = (7.7, (7, 1.4142135623730951))\n",
      "(x0, result) = (7.8, (7, 1.4142135623730951))\n",
      "(x0, result) = (7.9, (7, 1.4142135623730951))\n",
      "(x0, result) = (8.0, (7, 1.4142135623730951))\n",
      "(x0, result) = (8.1, (7, 1.4142135623730951))\n",
      "(x0, result) = (8.2, (7, 1.414213562373095))\n",
      "(x0, result) = (8.3, (7, 1.414213562373095))\n",
      "(x0, result) = (8.4, (7, 1.414213562373095))\n",
      "(x0, result) = (8.5, (7, 1.4142135623730951))\n",
      "(x0, result) = (8.6, (7, 1.4142135623730951))\n",
      "(x0, result) = (8.7, (7, 1.4142135623730951))\n",
      "(x0, result) = (8.8, (7, 1.4142135623730951))\n",
      "(x0, result) = (8.9, (7, 1.4142135623730951))\n",
      "(x0, result) = (9.0, (7, 1.4142135623730951))\n",
      "(x0, result) = (9.1, (7, 1.4142135623730951))\n",
      "(x0, result) = (9.2, (7, 1.4142135623730951))\n",
      "(x0, result) = (9.3, (7, 1.414213562373095))\n",
      "(x0, result) = (9.4, (7, 1.4142135623730951))\n",
      "(x0, result) = (9.5, (7, 1.4142135623730951))\n",
      "(x0, result) = (9.6, (7, 1.4142135623730951))\n",
      "(x0, result) = (9.7, (7, 1.4142135623730951))\n",
      "(x0, result) = (9.8, (7, 1.4142135623730951))\n",
      "(x0, result) = (9.9, (7, 1.4142135623730954))\n",
      "(x0, result) = (10.0, (7, 1.4142135623730954))\n"
     ]
    }
   ],
   "source": [
    "for x0 in initial_values    # makes x0 take each value in initial_values, one by one\n",
    "    # \"foreach\" in other languages\n",
    "    result = newton(f, df, x0)\n",
    "    @show x0, result\n",
    "end"
   ]
  },
  {
   "cell_type": "code",
   "execution_count": 16,
   "metadata": {},
   "outputs": [
    {
     "ename": "LoadError",
     "evalue": "syntax: extra token \")\" after end of expression",
     "output_type": "error",
     "traceback": [
      "syntax: extra token \")\" after end of expression",
      ""
     ]
    }
   ],
   "source": [
    "for i in 1:length(initial_values)    # makes x0 take each value in initial_values, one by one\n",
    "    # \"foreach\" in other languages\n",
    "    result = newton(f, df, initial_values[i])\n",
    "    @show initial_values[i], result\n",
    "end)"
   ]
  },
  {
   "cell_type": "code",
   "execution_count": 20,
   "metadata": {
    "scrolled": false
   },
   "outputs": [
    {
     "name": "stdout",
     "output_type": "stream",
     "text": [
      "(x0, result) = (-10.0, (7, -1.4142135623730954))\n",
      "(x0, result) = (-9.9, (7, -1.4142135623730954))\n",
      "(x0, result) = (-9.8, (7, -1.4142135623730951))\n",
      "(x0, result) = (-9.7, (7, -1.4142135623730951))\n",
      "(x0, result) = (-9.6, (7, -1.4142135623730951))\n",
      "(x0, result) = (-9.5, (7, -1.4142135623730951))\n",
      "(x0, result) = (-9.4, (7, -1.4142135623730951))\n",
      "(x0, result) = (-9.3, (7, -1.414213562373095))\n",
      "(x0, result) = (-9.2, (7, -1.4142135623730951))\n",
      "(x0, result) = (-9.1, (7, -1.4142135623730951))\n",
      "(x0, result) = (-9.0, (7, -1.4142135623730951))\n",
      "(x0, result) = (-8.9, (7, -1.4142135623730951))\n",
      "(x0, result) = (-8.8, (7, -1.4142135623730951))\n",
      "(x0, result) = (-8.7, (7, -1.4142135623730951))\n",
      "(x0, result) = (-8.6, (7, -1.4142135623730951))\n",
      "(x0, result) = (-8.5, (7, -1.4142135623730951))\n",
      "(x0, result) = (-8.4, (7, -1.414213562373095))\n",
      "(x0, result) = (-8.3, (7, -1.414213562373095))\n",
      "(x0, result) = (-8.2, (7, -1.414213562373095))\n",
      "(x0, result) = (-8.1, (7, -1.4142135623730951))\n",
      "(x0, result) = (-8.0, (7, -1.4142135623730951))\n",
      "(x0, result) = (-7.9, (7, -1.4142135623730951))\n",
      "(x0, result) = (-7.8, (7, -1.4142135623730951))\n",
      "(x0, result) = (-7.7, (7, -1.4142135623730951))\n",
      "(x0, result) = (-7.6, (7, -1.4142135623730951))\n",
      "(x0, result) = (-7.5, (7, -1.4142135623730951))\n",
      "(x0, result) = (-7.4, (7, -1.414213562373095))\n",
      "(x0, result) = (-7.3, (6, -1.414213562408124))\n",
      "(x0, result) = (-7.2, (6, -1.4142135623975822))\n",
      "(x0, result) = (-7.1, (6, -1.414213562390034))\n",
      "(x0, result) = (-7.0, (6, -1.4142135623846848))\n",
      "(x0, result) = (-6.9, (6, -1.4142135623809344))\n",
      "(x0, result) = (-6.8, (6, -1.4142135623783343))\n",
      "(x0, result) = (-6.7, (6, -1.4142135623765528))\n",
      "(x0, result) = (-6.6, (6, -1.4142135623753471))\n",
      "(x0, result) = (-6.5, (6, -1.4142135623745418))\n",
      "(x0, result) = (-6.4, (6, -1.414213562374011))\n",
      "(x0, result) = (-6.3, (6, -1.4142135623736662))\n",
      "(x0, result) = (-6.2, (6, -1.4142135623734455))\n",
      "(x0, result) = (-6.1, (6, -1.4142135623733065))\n",
      "(x0, result) = (-6.0, (6, -1.4142135623732204))\n",
      "(x0, result) = (-5.9, (6, -1.414213562373168))\n",
      "(x0, result) = (-5.8, (6, -1.4142135623731364))\n",
      "(x0, result) = (-5.7, (6, -1.4142135623731182))\n",
      "(x0, result) = (-5.6, (6, -1.4142135623731076))\n",
      "(x0, result) = (-5.5, (6, -1.4142135623731018))\n",
      "(x0, result) = (-5.4, (6, -1.4142135623730987))\n",
      "(x0, result) = (-5.3, (6, -1.414213562373097))\n",
      "(x0, result) = (-5.2, (6, -1.4142135623730958))\n",
      "(x0, result) = (-5.1, (6, -1.4142135623730954))\n",
      "(x0, result) = (-5.0, (6, -1.4142135623730951))\n",
      "(x0, result) = (-4.9, (6, -1.4142135623730951))\n",
      "(x0, result) = (-4.8, (6, -1.414213562373095))\n",
      "(x0, result) = (-4.7, (6, -1.4142135623730951))\n",
      "(x0, result) = (-4.6, (6, -1.4142135623730951))\n",
      "(x0, result) = (-4.5, (6, -1.4142135623730951))\n",
      "(x0, result) = (-4.4, (6, -1.4142135623730951))\n",
      "(x0, result) = (-4.3, (6, -1.414213562373095))\n",
      "(x0, result) = (-4.2, (6, -1.4142135623730951))\n",
      "(x0, result) = (-4.1, (6, -1.4142135623730951))\n",
      "(x0, result) = (-4.0, (6, -1.4142135623730951))\n",
      "(x0, result) = (-3.9, (6, -1.414213562373095))\n",
      "(x0, result) = (-3.8, (6, -1.4142135623730951))\n",
      "(x0, result) = (-3.7, (5, -1.4142135623912822))\n",
      "(x0, result) = (-3.6, (5, -1.4142135623812702))\n",
      "(x0, result) = (-3.5, (5, -1.4142135623765757))\n",
      "(x0, result) = (-3.4, (5, -1.41421356237449))\n",
      "(x0, result) = (-3.3, (5, -1.4142135623736176))\n",
      "(x0, result) = (-3.2, (5, -1.4142135623732766))\n",
      "(x0, result) = (-3.1, (5, -1.4142135623731529))\n",
      "(x0, result) = (-3.0, (5, -1.4142135623731118))\n",
      "(x0, result) = (-2.9, (5, -1.4142135623730994))\n",
      "(x0, result) = (-2.8, (5, -1.414213562373096))\n",
      "(x0, result) = (-2.7, (5, -1.4142135623730951))\n",
      "(x0, result) = (-2.6, (5, -1.414213562373095))\n",
      "(x0, result) = (-2.5, (5, -1.414213562373095))\n",
      "(x0, result) = (-2.4, (5, -1.414213562373095))\n",
      "(x0, result) = (-2.3, (5, -1.414213562373095))\n",
      "(x0, result) = (-2.2, (5, -1.4142135623730951))\n",
      "(x0, result) = (-2.1, (4, -1.4142135623856067))\n",
      "(x0, result) = (-2.0, (4, -1.4142135623746899))\n",
      "(x0, result) = (-1.9, (4, -1.4142135623732235))\n",
      "(x0, result) = (-1.8, (4, -1.4142135623731005))\n",
      "(x0, result) = (-1.7, (4, -1.4142135623730951))\n",
      "(x0, result) = (-1.6, (4, -1.4142135623730951))\n",
      "(x0, result) = (-1.5, (3, -1.4142135623746899))\n",
      "(x0, result) = (-1.4, (3, -1.4142135623730951))\n",
      "(x0, result) = (-1.3, (3, -1.4142135624009007))\n",
      "(x0, result) = (-1.2, (4, -1.4142135623730951))\n",
      "(x0, result) = (-1.1, (4, -1.4142135623731051))\n",
      "(x0, result) = (-1.0, (4, -1.4142135623746899))\n",
      "(x0, result) = (-0.9, (5, -1.4142135623730951))\n",
      "(x0, result) = (-0.8, (5, -1.414213562373095))\n",
      "(x0, result) = (-0.7, (5, -1.4142135623730974))\n",
      "(x0, result) = (-0.6, (5, -1.414213562373826))\n",
      "(x0, result) = (-0.5, (6, -1.4142135623730951))\n",
      "(x0, result) = (-0.4, (6, -1.4142135623730951))\n",
      "(x0, result) = (-0.3, (6, -1.4142135623760967))\n",
      "(x0, result) = (-0.2, (7, -1.4142135623730954))\n",
      "(x0, result) = (-0.1, (8, -1.4142135623730956))\n",
      "(x0, result) = (0.0, (-1, NaN))\n",
      "(x0, result) = (0.1, (8, 1.4142135623730956))\n",
      "(x0, result) = (0.2, (7, 1.4142135623730954))\n",
      "(x0, result) = (0.3, (6, 1.4142135623760967))\n",
      "(x0, result) = (0.4, (6, 1.4142135623730951))\n",
      "(x0, result) = (0.5, (6, 1.4142135623730951))\n",
      "(x0, result) = (0.6, (5, 1.414213562373826))\n",
      "(x0, result) = (0.7, (5, 1.4142135623730974))\n",
      "(x0, result) = (0.8, (5, 1.414213562373095))\n",
      "(x0, result) = (0.9, (5, 1.4142135623730951))\n",
      "(x0, result) = (1.0, (4, 1.4142135623746899))\n",
      "(x0, result) = (1.1, (4, 1.4142135623731051))\n",
      "(x0, result) = (1.2, (4, 1.4142135623730951))\n",
      "(x0, result) = (1.3, (3, 1.4142135624009007))\n",
      "(x0, result) = (1.4, (3, 1.4142135623730951))\n",
      "(x0, result) = (1.5, (3, 1.4142135623746899))\n",
      "(x0, result) = (1.6, (4, 1.4142135623730951))\n",
      "(x0, result) = (1.7, (4, 1.4142135623730951))\n",
      "(x0, result) = (1.8, (4, 1.4142135623731005))\n",
      "(x0, result) = (1.9, (4, 1.4142135623732235))\n",
      "(x0, result) = (2.0, (4, 1.4142135623746899))\n",
      "(x0, result) = (2.1, (4, 1.4142135623856067))\n",
      "(x0, result) = (2.2, (5, 1.4142135623730951))\n",
      "(x0, result) = (2.3, (5, 1.414213562373095))\n",
      "(x0, result) = (2.4, (5, 1.414213562373095))\n",
      "(x0, result) = (2.5, (5, 1.414213562373095))\n",
      "(x0, result) = (2.6, (5, 1.414213562373095))\n",
      "(x0, result) = (2.7, (5, 1.4142135623730951))\n",
      "(x0, result) = (2.8, (5, 1.414213562373096))\n",
      "(x0, result) = (2.9, (5, 1.4142135623730994))\n",
      "(x0, result) = (3.0, (5, 1.4142135623731118))\n",
      "(x0, result) = (3.1, (5, 1.4142135623731529))\n",
      "(x0, result) = (3.2, (5, 1.4142135623732766))\n",
      "(x0, result) = (3.3, (5, 1.4142135623736176))\n",
      "(x0, result) = (3.4, (5, 1.41421356237449))\n",
      "(x0, result) = (3.5, (5, 1.4142135623765757))\n",
      "(x0, result) = (3.6, (5, 1.4142135623812702))\n",
      "(x0, result) = (3.7, (5, 1.4142135623912822))\n",
      "(x0, result) = (3.8, (6, 1.4142135623730951))\n",
      "(x0, result) = (3.9, (6, 1.414213562373095))\n",
      "(x0, result) = (4.0, (6, 1.4142135623730951))\n",
      "(x0, result) = (4.1, (6, 1.4142135623730951))\n",
      "(x0, result) = (4.2, (6, 1.4142135623730951))\n",
      "(x0, result) = (4.3, (6, 1.414213562373095))\n",
      "(x0, result) = (4.4, (6, 1.4142135623730951))\n",
      "(x0, result) = (4.5, (6, 1.4142135623730951))\n",
      "(x0, result) = (4.6, (6, 1.4142135623730951))\n",
      "(x0, result) = (4.7, (6, 1.4142135623730951))\n",
      "(x0, result) = (4.8, (6, 1.414213562373095))\n",
      "(x0, result) = (4.9, (6, 1.4142135623730951))\n",
      "(x0, result) = (5.0, (6, 1.4142135623730951))\n",
      "(x0, result) = (5.1, (6, 1.4142135623730954))\n",
      "(x0, result) = (5.2, (6, 1.4142135623730958))\n",
      "(x0, result) = (5.3, (6, 1.414213562373097))\n",
      "(x0, result) = (5.4, (6, 1.4142135623730987))\n",
      "(x0, result) = (5.5, (6, 1.4142135623731018))\n",
      "(x0, result) = (5.6, (6, 1.4142135623731076))\n",
      "(x0, result) = (5.7, (6, 1.4142135623731182))\n",
      "(x0, result) = (5.8, (6, 1.4142135623731364))\n",
      "(x0, result) = (5.9, (6, 1.414213562373168))\n",
      "(x0, result) = (6.0, (6, 1.4142135623732204))\n",
      "(x0, result) = (6.1, (6, 1.4142135623733065))\n",
      "(x0, result) = (6.2, (6, 1.4142135623734455))\n",
      "(x0, result) = (6.3, (6, 1.4142135623736662))\n",
      "(x0, result) = (6.4, (6, 1.414213562374011))\n",
      "(x0, result) = (6.5, (6, 1.4142135623745418))\n",
      "(x0, result) = (6.6, (6, 1.4142135623753471))\n",
      "(x0, result) = (6.7, (6, 1.4142135623765528))\n",
      "(x0, result) = (6.8, (6, 1.4142135623783343))\n",
      "(x0, result) = (6.9, (6, 1.4142135623809344))\n",
      "(x0, result) = (7.0, (6, 1.4142135623846848))\n",
      "(x0, result) = (7.1, (6, 1.414213562390034))\n",
      "(x0, result) = (7.2, (6, 1.4142135623975822))\n",
      "(x0, result) = (7.3, (6, 1.414213562408124))\n",
      "(x0, result) = (7.4, (7, 1.414213562373095))\n",
      "(x0, result) = (7.5, (7, 1.4142135623730951))\n",
      "(x0, result) = (7.6, (7, 1.4142135623730951))\n",
      "(x0, result) = (7.7, (7, 1.4142135623730951))\n",
      "(x0, result) = (7.8, (7, 1.4142135623730951))\n",
      "(x0, result) = (7.9, (7, 1.4142135623730951))\n",
      "(x0, result) = (8.0, (7, 1.4142135623730951))\n",
      "(x0, result) = (8.1, (7, 1.4142135623730951))\n",
      "(x0, result) = (8.2, (7, 1.414213562373095))\n",
      "(x0, result) = (8.3, (7, 1.414213562373095))\n",
      "(x0, result) = (8.4, (7, 1.414213562373095))\n",
      "(x0, result) = (8.5, (7, 1.4142135623730951))\n",
      "(x0, result) = (8.6, (7, 1.4142135623730951))\n",
      "(x0, result) = (8.7, (7, 1.4142135623730951))\n",
      "(x0, result) = (8.8, (7, 1.4142135623730951))\n",
      "(x0, result) = (8.9, (7, 1.4142135623730951))\n",
      "(x0, result) = (9.0, (7, 1.4142135623730951))\n",
      "(x0, result) = (9.1, (7, 1.4142135623730951))\n",
      "(x0, result) = (9.2, (7, 1.4142135623730951))\n",
      "(x0, result) = (9.3, (7, 1.414213562373095))\n",
      "(x0, result) = (9.4, (7, 1.4142135623730951))\n",
      "(x0, result) = (9.5, (7, 1.4142135623730951))\n",
      "(x0, result) = (9.6, (7, 1.4142135623730951))\n",
      "(x0, result) = (9.7, (7, 1.4142135623730951))\n",
      "(x0, result) = (9.8, (7, 1.4142135623730951))\n",
      "(x0, result) = (9.9, (7, 1.4142135623730954))\n",
      "(x0, result) = (10.0, (7, 1.4142135623730954))\n"
     ]
    }
   ],
   "source": [
    "for x0 in initial_values    # makes x0 take each value in initial_values, one by one\n",
    "    # \"foreach\" in other languages\n",
    "    result = newton(f, df, x0)\n",
    "    @show x0, result\n",
    "end"
   ]
  },
  {
   "cell_type": "code",
   "execution_count": 21,
   "metadata": {},
   "outputs": [
    {
     "data": {
      "text/plain": [
       "0-element Array{Any,1}"
      ]
     },
     "execution_count": 21,
     "metadata": {},
     "output_type": "execute_result"
    }
   ],
   "source": [
    "roots = [ ]"
   ]
  },
  {
   "cell_type": "code",
   "execution_count": 22,
   "metadata": {},
   "outputs": [
    {
     "data": {
      "text/plain": [
       "0-element Array{Float64,1}"
      ]
     },
     "execution_count": 22,
     "metadata": {},
     "output_type": "execute_result"
    }
   ],
   "source": [
    "roots = Float64[ ]"
   ]
  },
  {
   "cell_type": "code",
   "execution_count": 23,
   "metadata": {},
   "outputs": [
    {
     "data": {
      "text/plain": [
       "1-element Array{Float64,1}:\n",
       " 10.0"
      ]
     },
     "execution_count": 23,
     "metadata": {},
     "output_type": "execute_result"
    }
   ],
   "source": [
    "push!(roots, 10)"
   ]
  },
  {
   "cell_type": "code",
   "execution_count": 24,
   "metadata": {},
   "outputs": [
    {
     "data": {
      "text/plain": [
       "1-element Array{Float64,1}:\n",
       " 10.0"
      ]
     },
     "execution_count": 24,
     "metadata": {},
     "output_type": "execute_result"
    }
   ],
   "source": [
    "roots"
   ]
  },
  {
   "cell_type": "code",
   "execution_count": 25,
   "metadata": {},
   "outputs": [
    {
     "data": {
      "text/plain": [
       "2-element Array{Float64,1}:\n",
       " 10.0\n",
       " 20.0"
      ]
     },
     "execution_count": 25,
     "metadata": {},
     "output_type": "execute_result"
    }
   ],
   "source": [
    "push!(roots, 20)"
   ]
  },
  {
   "cell_type": "code",
   "execution_count": 26,
   "metadata": {},
   "outputs": [
    {
     "data": {
      "text/plain": [
       "(3, 4)"
      ]
     },
     "execution_count": 26,
     "metadata": {},
     "output_type": "execute_result"
    }
   ],
   "source": [
    "p = (3, 4)"
   ]
  },
  {
   "cell_type": "code",
   "execution_count": 27,
   "metadata": {},
   "outputs": [
    {
     "data": {
      "text/plain": [
       "(3, 4)"
      ]
     },
     "execution_count": 27,
     "metadata": {},
     "output_type": "execute_result"
    }
   ],
   "source": [
    "a, b = p"
   ]
  },
  {
   "cell_type": "code",
   "execution_count": 28,
   "metadata": {},
   "outputs": [
    {
     "data": {
      "text/plain": [
       "3"
      ]
     },
     "execution_count": 28,
     "metadata": {},
     "output_type": "execute_result"
    }
   ],
   "source": [
    "a"
   ]
  },
  {
   "cell_type": "code",
   "execution_count": 29,
   "metadata": {},
   "outputs": [
    {
     "data": {
      "text/plain": [
       "4"
      ]
     },
     "execution_count": 29,
     "metadata": {},
     "output_type": "execute_result"
    }
   ],
   "source": [
    "b"
   ]
  },
  {
   "cell_type": "code",
   "execution_count": 30,
   "metadata": {},
   "outputs": [],
   "source": [
    "roots = Float64[ ] \n",
    "\n",
    "for x0 in initial_values    # makes x0 take each value in initial_values, one by one\n",
    "    # \"foreach\" in other languages\n",
    "    (status, result) = newton(f, df, x0)   # newton returns a pair\n",
    "    \n",
    "#     if status != -1   # exclude non-roots   # != means \"not equal\"\n",
    "#         push!(roots, result)\n",
    "#     end\n",
    "    \n",
    "    if status == -1   # to check equality, use two equals signs\n",
    "        # nothing\n",
    "    else\n",
    "        push!(roots, result)\n",
    "    end\n",
    "    \n",
    "end"
   ]
  },
  {
   "cell_type": "code",
   "execution_count": 46,
   "metadata": {},
   "outputs": [
    {
     "data": {
      "text/plain": [
       "NaN"
      ]
     },
     "execution_count": 46,
     "metadata": {},
     "output_type": "execute_result"
    }
   ],
   "source": [
    "x = NaN"
   ]
  },
  {
   "cell_type": "code",
   "execution_count": 47,
   "metadata": {},
   "outputs": [
    {
     "data": {
      "text/plain": [
       "Float64"
      ]
     },
     "execution_count": 47,
     "metadata": {},
     "output_type": "execute_result"
    }
   ],
   "source": [
    "typeof(x)"
   ]
  },
  {
   "cell_type": "code",
   "execution_count": 48,
   "metadata": {},
   "outputs": [
    {
     "data": {
      "text/plain": [
       "NaN"
      ]
     },
     "execution_count": 48,
     "metadata": {},
     "output_type": "execute_result"
    }
   ],
   "source": [
    "Inf - Inf"
   ]
  },
  {
   "cell_type": "code",
   "execution_count": 49,
   "metadata": {},
   "outputs": [
    {
     "data": {
      "text/plain": [
       "NaN"
      ]
     },
     "execution_count": 49,
     "metadata": {},
     "output_type": "execute_result"
    }
   ],
   "source": [
    "x = NaN"
   ]
  },
  {
   "cell_type": "code",
   "execution_count": 50,
   "metadata": {},
   "outputs": [
    {
     "data": {
      "text/plain": [
       "false"
      ]
     },
     "execution_count": 50,
     "metadata": {},
     "output_type": "execute_result"
    }
   ],
   "source": [
    "x == NaN"
   ]
  },
  {
   "cell_type": "code",
   "execution_count": 51,
   "metadata": {},
   "outputs": [
    {
     "data": {
      "text/plain": [
       "true"
      ]
     },
     "execution_count": 51,
     "metadata": {},
     "output_type": "execute_result"
    }
   ],
   "source": [
    "isnan(x)"
   ]
  },
  {
   "cell_type": "code",
   "execution_count": 52,
   "metadata": {},
   "outputs": [
    {
     "data": {
      "text/plain": [
       "false"
      ]
     },
     "execution_count": 52,
     "metadata": {},
     "output_type": "execute_result"
    }
   ],
   "source": [
    "!isnan(x)"
   ]
  },
  {
   "cell_type": "code",
   "execution_count": 53,
   "metadata": {},
   "outputs": [
    {
     "data": {
      "text/plain": [
       "\"/Users/dpsanders\""
      ]
     },
     "execution_count": 53,
     "metadata": {},
     "output_type": "execute_result"
    }
   ],
   "source": [
    "pwd()"
   ]
  },
  {
   "cell_type": "markdown",
   "metadata": {},
   "source": [
    "roots"
   ]
  },
  {
   "cell_type": "code",
   "execution_count": 32,
   "metadata": {},
   "outputs": [
    {
     "data": {
      "text/plain": [
       "90-element Array{Float64,1}:\n",
       " -1.4142135623730954\n",
       " -1.4142135623730951\n",
       " -1.414213562373095 \n",
       " -1.414213562408124 \n",
       " -1.4142135623975822\n",
       " -1.414213562390034 \n",
       " -1.4142135623846848\n",
       " -1.4142135623809344\n",
       " -1.4142135623783343\n",
       " -1.4142135623765528\n",
       " -1.4142135623753471\n",
       " -1.4142135623745418\n",
       " -1.414213562374011 \n",
       "  ⋮                 \n",
       "  1.4142135623734455\n",
       "  1.4142135623736662\n",
       "  1.414213562374011 \n",
       "  1.4142135623745418\n",
       "  1.4142135623753471\n",
       "  1.4142135623765528\n",
       "  1.4142135623783343\n",
       "  1.4142135623809344\n",
       "  1.4142135623846848\n",
       "  1.414213562390034 \n",
       "  1.4142135623975822\n",
       "  1.414213562408124 "
      ]
     },
     "execution_count": 32,
     "metadata": {},
     "output_type": "execute_result"
    }
   ],
   "source": [
    "unique(roots)"
   ]
  },
  {
   "cell_type": "code",
   "execution_count": 35,
   "metadata": {},
   "outputs": [
    {
     "data": {
      "text/plain": [
       "-1.4142135623730954"
      ]
     },
     "execution_count": 35,
     "metadata": {},
     "output_type": "execute_result"
    }
   ],
   "source": [
    "r = roots[1]  # 1st element in the array"
   ]
  },
  {
   "cell_type": "code",
   "execution_count": 37,
   "metadata": {},
   "outputs": [
    {
     "data": {
      "text/plain": [
       "-1.4142135624"
      ]
     },
     "execution_count": 37,
     "metadata": {},
     "output_type": "execute_result"
    }
   ],
   "source": [
    "round(r, digits=10)   # keyword"
   ]
  },
  {
   "cell_type": "code",
   "execution_count": 38,
   "metadata": {},
   "outputs": [
    {
     "data": {
      "text/plain": [
       "200-element Array{Float64,1}:\n",
       " -1.4142135623730954\n",
       " -1.4142135623730954\n",
       " -1.4142135623730951\n",
       " -1.4142135623730951\n",
       " -1.4142135623730951\n",
       " -1.4142135623730951\n",
       " -1.4142135623730951\n",
       " -1.414213562373095 \n",
       " -1.4142135623730951\n",
       " -1.4142135623730951\n",
       " -1.4142135623730951\n",
       " -1.4142135623730951\n",
       " -1.4142135623730951\n",
       "  ⋮                 \n",
       "  1.4142135623730951\n",
       "  1.4142135623730951\n",
       "  1.4142135623730951\n",
       "  1.4142135623730951\n",
       "  1.414213562373095 \n",
       "  1.4142135623730951\n",
       "  1.4142135623730951\n",
       "  1.4142135623730951\n",
       "  1.4142135623730951\n",
       "  1.4142135623730951\n",
       "  1.4142135623730954\n",
       "  1.4142135623730954"
      ]
     },
     "execution_count": 38,
     "metadata": {},
     "output_type": "execute_result"
    }
   ],
   "source": [
    "roots"
   ]
  },
  {
   "cell_type": "markdown",
   "metadata": {},
   "source": [
    "How can we round all the elements in the array?"
   ]
  },
  {
   "cell_type": "code",
   "execution_count": 39,
   "metadata": {},
   "outputs": [],
   "source": [
    "rounded = Float64[ ] \n",
    "\n",
    "for root in roots\n",
    "    push!(rounded, round(root, digits=10) )\n",
    "end"
   ]
  },
  {
   "cell_type": "code",
   "execution_count": 40,
   "metadata": {},
   "outputs": [
    {
     "data": {
      "text/plain": [
       "200-element Array{Float64,1}:\n",
       " -1.4142135624\n",
       " -1.4142135624\n",
       " -1.4142135624\n",
       " -1.4142135624\n",
       " -1.4142135624\n",
       " -1.4142135624\n",
       " -1.4142135624\n",
       " -1.4142135624\n",
       " -1.4142135624\n",
       " -1.4142135624\n",
       " -1.4142135624\n",
       " -1.4142135624\n",
       " -1.4142135624\n",
       "  ⋮           \n",
       "  1.4142135624\n",
       "  1.4142135624\n",
       "  1.4142135624\n",
       "  1.4142135624\n",
       "  1.4142135624\n",
       "  1.4142135624\n",
       "  1.4142135624\n",
       "  1.4142135624\n",
       "  1.4142135624\n",
       "  1.4142135624\n",
       "  1.4142135624\n",
       "  1.4142135624"
      ]
     },
     "execution_count": 40,
     "metadata": {},
     "output_type": "execute_result"
    }
   ],
   "source": [
    "rounded"
   ]
  },
  {
   "cell_type": "code",
   "execution_count": 41,
   "metadata": {},
   "outputs": [
    {
     "data": {
      "text/plain": [
       "2-element Array{Float64,1}:\n",
       " -1.4142135624\n",
       "  1.4142135624"
      ]
     },
     "execution_count": 41,
     "metadata": {},
     "output_type": "execute_result"
    }
   ],
   "source": [
    "unique(rounded)"
   ]
  },
  {
   "cell_type": "markdown",
   "metadata": {},
   "source": [
    "Can we write less code to apply the `round` function to each element of the array?"
   ]
  },
  {
   "cell_type": "code",
   "execution_count": 42,
   "metadata": {},
   "outputs": [
    {
     "data": {
      "text/plain": [
       "200-element Array{Float64,1}:\n",
       " -1.4142135624\n",
       " -1.4142135624\n",
       " -1.4142135624\n",
       " -1.4142135624\n",
       " -1.4142135624\n",
       " -1.4142135624\n",
       " -1.4142135624\n",
       " -1.4142135624\n",
       " -1.4142135624\n",
       " -1.4142135624\n",
       " -1.4142135624\n",
       " -1.4142135624\n",
       " -1.4142135624\n",
       "  ⋮           \n",
       "  1.4142135624\n",
       "  1.4142135624\n",
       "  1.4142135624\n",
       "  1.4142135624\n",
       "  1.4142135624\n",
       "  1.4142135624\n",
       "  1.4142135624\n",
       "  1.4142135624\n",
       "  1.4142135624\n",
       "  1.4142135624\n",
       "  1.4142135624\n",
       "  1.4142135624"
      ]
     },
     "execution_count": 42,
     "metadata": {},
     "output_type": "execute_result"
    }
   ],
   "source": [
    "[ round(x, digits=10) for x in roots ]  # array comprehension"
   ]
  },
  {
   "cell_type": "markdown",
   "metadata": {},
   "source": [
    "Even shorter syntax: using broadcasting, `.`"
   ]
  },
  {
   "cell_type": "code",
   "execution_count": 43,
   "metadata": {},
   "outputs": [
    {
     "ename": "MethodError",
     "evalue": "MethodError: no method matching round(::Array{Float64,1}; digits=10)\nClosest candidates are:\n  round(!Matched::Type{BigInt}, !Matched::BigFloat) at mpfr.jl:315 got unsupported keyword argument \"digits\"\n  round(!Matched::Float64, !Matched::RoundingMode{:Nearest}) at float.jl:370 got unsupported keyword argument \"digits\"\n  round(!Matched::Float64, !Matched::RoundingMode{:Up}) at float.jl:368 got unsupported keyword argument \"digits\"\n  ...",
     "output_type": "error",
     "traceback": [
      "MethodError: no method matching round(::Array{Float64,1}; digits=10)\nClosest candidates are:\n  round(!Matched::Type{BigInt}, !Matched::BigFloat) at mpfr.jl:315 got unsupported keyword argument \"digits\"\n  round(!Matched::Float64, !Matched::RoundingMode{:Nearest}) at float.jl:370 got unsupported keyword argument \"digits\"\n  round(!Matched::Float64, !Matched::RoundingMode{:Up}) at float.jl:368 got unsupported keyword argument \"digits\"\n  ...",
      "",
      "Stacktrace:",
      " [1] top-level scope at In[43]:1"
     ]
    }
   ],
   "source": [
    "round(roots, digits=10)"
   ]
  },
  {
   "cell_type": "code",
   "execution_count": 44,
   "metadata": {},
   "outputs": [
    {
     "data": {
      "text/plain": [
       "200-element Array{Float64,1}:\n",
       " -1.4142135624\n",
       " -1.4142135624\n",
       " -1.4142135624\n",
       " -1.4142135624\n",
       " -1.4142135624\n",
       " -1.4142135624\n",
       " -1.4142135624\n",
       " -1.4142135624\n",
       " -1.4142135624\n",
       " -1.4142135624\n",
       " -1.4142135624\n",
       " -1.4142135624\n",
       " -1.4142135624\n",
       "  ⋮           \n",
       "  1.4142135624\n",
       "  1.4142135624\n",
       "  1.4142135624\n",
       "  1.4142135624\n",
       "  1.4142135624\n",
       "  1.4142135624\n",
       "  1.4142135624\n",
       "  1.4142135624\n",
       "  1.4142135624\n",
       "  1.4142135624\n",
       "  1.4142135624\n",
       "  1.4142135624"
      ]
     },
     "execution_count": 44,
     "metadata": {},
     "output_type": "execute_result"
    }
   ],
   "source": [
    "round.(roots, digits=10)"
   ]
  },
  {
   "cell_type": "markdown",
   "metadata": {},
   "source": [
    "Exercise: Write a function that finds many roots of a given function."
   ]
  },
  {
   "cell_type": "code",
   "execution_count": 45,
   "metadata": {},
   "outputs": [
    {
     "ename": "MethodError",
     "evalue": "MethodError: objects of type Array{Float64,1} are not callable\nUse square brackets [] for indexing an Array.",
     "output_type": "error",
     "traceback": [
      "MethodError: objects of type Array{Float64,1} are not callable\nUse square brackets [] for indexing an Array.",
      "",
      "Stacktrace:",
      " [1] top-level scope at In[45]:1"
     ]
    }
   ],
   "source": [
    "roots(f, df)"
   ]
  },
  {
   "cell_type": "markdown",
   "metadata": {},
   "source": [
    "## Calculating derivatives"
   ]
  },
  {
   "cell_type": "markdown",
   "metadata": {},
   "source": [
    "The Newton algorithm requires us to specify the derivative of a function. If $f$ is a complicated function, we certainly don't want to do that by hand.\n",
    "\n",
    "One standard solution is to use a *finite-difference approximation*:\n",
    "\n",
    "$$f'(a) \\simeq \\frac{f(a + h) - f(a - h)}{2h}.$$"
   ]
  },
  {
   "cell_type": "markdown",
   "metadata": {},
   "source": [
    "#### Exercise 2"
   ]
  },
  {
   "cell_type": "markdown",
   "metadata": {},
   "source": [
    "1. Implement a function `finite_difference` with a default value $h = 0.001$ to calculate $f'(a)$ at a given point $a$.\n",
    "\n",
    "\n",
    "2. Use an anonymous function to make a method of `finite_difference` that calculates the *function* $f'$, i.e. the function that takes $a$ to $f'(a)$.\n",
    "\n",
    "\n",
    "3. Implement a version of `newton` that does not take the derivative as argument, i.e. `newton(f, x0)`, and uses `finite_difference` to calculate the derivative. This version of `newton` should **re-use** the previous version by defining the function `df` and calling that version."
   ]
  },
  {
   "cell_type": "code",
   "execution_count": null,
   "metadata": {},
   "outputs": [],
   "source": []
  },
  {
   "cell_type": "markdown",
   "metadata": {},
   "source": [
    "### Algorithmic differentiation"
   ]
  },
  {
   "cell_type": "markdown",
   "metadata": {},
   "source": [
    "An alternative way to calculate derivatives is by using [**algorithmic differentiation**](https://en.wikipedia.org/wiki/Automatic_differentiation) (also called **automatic differentiation** or **computational differentiation**). This gives exact results (up to rounding error).\n",
    "\n",
    "\n",
    "We will implement this algorithm in the next notebook, but for now let's just use the implementation in the excellent [`ForwardDiff.jl` package](https://github.com/JuliaDiff/ForwardDiff.jl).\n"
   ]
  },
  {
   "cell_type": "markdown",
   "metadata": {},
   "source": [
    "#### Exercise 3"
   ]
  },
  {
   "cell_type": "markdown",
   "metadata": {},
   "source": [
    "1. Install `ForwardDiff.jl` if necessary.\n",
    "\n",
    "\n",
    "2. Import it.\n",
    "\n",
    "\n",
    "3. Define a function `forwarddiff` that uses the `ForwardDiff.derivative` function to calculate a derivative."
   ]
  },
  {
   "cell_type": "markdown",
   "metadata": {},
   "source": [
    "### Choosing between algorithms"
   ]
  },
  {
   "cell_type": "markdown",
   "metadata": {},
   "source": [
    "We now have two different algorithms available to calculate derivatives. This kind of situation is common in scientific computing; for example, the [`DifferentialEquations.jl`](http://docs.juliadiffeq.org/latest/) ecosystem has some 300 algorithms for solving differential equations. One of the techniques we will learn is how to easily be able to specify different algorithms."
   ]
  },
  {
   "cell_type": "markdown",
   "metadata": {},
   "source": [
    "#### Exercise 4"
   ]
  },
  {
   "cell_type": "markdown",
   "metadata": {},
   "source": [
    "1. Make a version of the Newton algorithm that takes an argument which is the method (algorithm) to use to calculate the derivative, given as a function. \n",
    "The new method should have the signature `newton(f, df, x0, n, derivative)`.\n",
    "(The **signature** of a function means the collection of arguments that it takes.)"
   ]
  },
  {
   "cell_type": "markdown",
   "metadata": {},
   "source": [
    "## A first taste of multiple dispatch"
   ]
  },
  {
   "cell_type": "markdown",
   "metadata": {},
   "source": [
    "In the above, we ended up with a complicated signature. Maybe we would like something simpler, such as \n",
    "```\n",
    "newton(f, x0, derivative)\n",
    "```\n",
    "where `derivative` is the derivative method to use (finite differencing or `forwarddiff`).\n",
    "\n",
    "The problem is that we already have a method for `newton` that takes three arguments, namely `newton(f, df, x0)`. If we define this new method, we will *overwrite* (destroy) that method, since Julia cannot distinguish between the signature `(f, x0, derivative)` and `(f, df, x0)` -- they are both simply three arguments with different names."
   ]
  },
  {
   "cell_type": "markdown",
   "metadata": {},
   "source": [
    "There is a way to distinguish them, however: we (as humans) know intuitively that the first method, `(f, df, x0)`, should take arguments of types `(function, function, number)`, whereas `(f, x0, derivative)` should take `(function, number, function)`. So far, however, we have not told Julia this, since although we recognise by eye that `f` is a function and `x0` is a number, for Julia it is quite possible for `f` to be a number and `x0` to be a function!"
   ]
  },
  {
   "cell_type": "markdown",
   "metadata": {},
   "source": [
    "So what we need is a mechanism to *specify* to Julia which *type* of arguments each version of `newton` takes, in which order."
   ]
  },
  {
   "cell_type": "markdown",
   "metadata": {},
   "source": [
    "### Type annotations"
   ]
  },
  {
   "cell_type": "markdown",
   "metadata": {},
   "source": [
    "When we need to specify types in Julia, we use a *type annotation*, written `::T`, where `T` is the type.\n",
    "\n",
    "For example, let's define a function `rounded_square` of one argument, `x`, that calculates a rounded-down square. If `x` is an integer then it should just return `x^2`; but if `x` is a float, it should do a more complicated operation. We can write two *methods* for `rounded_square` as follows:"
   ]
  },
  {
   "cell_type": "code",
   "execution_count": 5,
   "metadata": {},
   "outputs": [
    {
     "data": {
      "text/plain": [
       "rounded_square (generic function with 2 methods)"
      ]
     },
     "execution_count": 5,
     "metadata": {},
     "output_type": "execute_result"
    }
   ],
   "source": [
    "rounded_square(x::Int) = x^2\n",
    "\n",
    "rounded_square(x::Float64) = floor(x^2)"
   ]
  },
  {
   "cell_type": "code",
   "execution_count": 4,
   "metadata": {},
   "outputs": [
    {
     "data": {
      "text/plain": [
       "9"
      ]
     },
     "execution_count": 4,
     "metadata": {},
     "output_type": "execute_result"
    }
   ],
   "source": [
    "rounded_square(3)"
   ]
  },
  {
   "cell_type": "code",
   "execution_count": 6,
   "metadata": {},
   "outputs": [
    {
     "data": {
      "text/plain": [
       "9.0"
      ]
     },
     "execution_count": 6,
     "metadata": {},
     "output_type": "execute_result"
    }
   ],
   "source": [
    "rounded_square(3.1)"
   ]
  },
  {
   "cell_type": "markdown",
   "metadata": {},
   "source": [
    "But:"
   ]
  },
  {
   "cell_type": "code",
   "execution_count": 9,
   "metadata": {},
   "outputs": [
    {
     "data": {
      "text/plain": [
       "9.0"
      ]
     },
     "execution_count": 9,
     "metadata": {},
     "output_type": "execute_result"
    }
   ],
   "source": [
    "rounded_square(big\"3.1\")"
   ]
  },
  {
   "cell_type": "markdown",
   "metadata": {},
   "source": [
    "We see that we restricted the second method too much: really we would like to allow any real number:"
   ]
  },
  {
   "cell_type": "code",
   "execution_count": 8,
   "metadata": {},
   "outputs": [
    {
     "data": {
      "text/plain": [
       "rounded_square (generic function with 3 methods)"
      ]
     },
     "execution_count": 8,
     "metadata": {},
     "output_type": "execute_result"
    }
   ],
   "source": [
    "rounded_square(x::Real) = floor(x^2)"
   ]
  },
  {
   "cell_type": "code",
   "execution_count": 10,
   "metadata": {},
   "outputs": [
    {
     "data": {
      "text/plain": [
       "9.0"
      ]
     },
     "execution_count": 10,
     "metadata": {},
     "output_type": "execute_result"
    }
   ],
   "source": [
    "rounded_square(big\"3.1\")"
   ]
  },
  {
   "cell_type": "code",
   "execution_count": 11,
   "metadata": {},
   "outputs": [
    {
     "data": {
      "text/plain": [
       "9.0"
      ]
     },
     "execution_count": 11,
     "metadata": {},
     "output_type": "execute_result"
    }
   ],
   "source": [
    "rounded_square(π)"
   ]
  },
  {
   "cell_type": "markdown",
   "metadata": {},
   "source": [
    "If we later discover other cases that we would like to be covered, we can *add new methods* to the function, even for new kinds of types that we define (although if they are subtypes of `Real` then they *are already covered*!)"
   ]
  },
  {
   "cell_type": "markdown",
   "metadata": {},
   "source": [
    "### Multiple dispatch"
   ]
  },
  {
   "cell_type": "markdown",
   "metadata": {},
   "source": [
    "Julia checks the types of *all arguments of a function* and chooses a method that matches all of them simultaneously. This is known as **multiple dispatch**. (\"Dispatch\" is the act of choosing which version of a function to call.)\n",
    "\n",
    "Although this does not necessarily sound like a complicated idea, it is one of the key things that differentiates Julia from most other programming languages, and it has led to many interesting developments; I highly recommend [Stefan Karpinski's talk from JuliaCon 2019](https://www.youtube.com/watch?v=kc9HwsxE1OY)."
   ]
  },
  {
   "cell_type": "markdown",
   "metadata": {},
   "source": [
    "Let's return to the `newton` example. "
   ]
  },
  {
   "cell_type": "markdown",
   "metadata": {},
   "source": [
    "#### Exercise 5\n",
    "\n",
    "1. Write a method for `newton` that takes as arguments `f`, `x0` and a `derivative` method by annotating the `derivative` method as being of type `Function`. \n",
    "\n",
    "\n",
    "2. Alternatively, annotate the method which takes `f`, `df` and `x0` by annotating `x0` as being `Real`."
   ]
  }
 ],
 "metadata": {
  "kernelspec": {
   "display_name": "Julia 1.1.0",
   "language": "julia",
   "name": "julia-1.1"
  },
  "language_info": {
   "file_extension": ".jl",
   "mimetype": "application/julia",
   "name": "julia",
   "version": "1.1.0"
  }
 },
 "nbformat": 4,
 "nbformat_minor": 2
}
