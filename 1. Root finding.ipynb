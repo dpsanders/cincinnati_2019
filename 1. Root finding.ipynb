{
 "cells": [
  {
   "cell_type": "markdown",
   "metadata": {},
   "source": [
    "# Intermediate Julia for scientific computing"
   ]
  },
  {
   "cell_type": "markdown",
   "metadata": {},
   "source": [
    "This workshop is designed to introduce two fundamental concepts in Julia: **types** and **metaprogramming**.\n",
    "\n",
    "In order to cover various key uses of types in Julia, we have chosen to frame the discussion around a concrete topic in scientific computing, namely **root-finding**. \n",
    "The goal is *not* to learn algorithms for root finding *per se*, but rather to have a (pseudo-)real context in which to explore various concepts centered around types and how they arise naturally in real applications of Julia, in particular applications of **multiple dispatch**, which is one of the core choices in Julia that differentiate it from other common languages.\n",
    "\n",
    "We will implement a couple of root-finding algorithms just to have something to work with. These will just be toy implementations that are far away from the best implementations. \n",
    "\n",
    "Instead we should use one of the high-quality packages that are available in Julia for this purpose. The large number of them shows the importance of root finding. The ones that I am aware of are the following (in alphabetical order):"
   ]
  },
  {
   "cell_type": "markdown",
   "metadata": {},
   "source": [
    "- Single root of a nonlinear function:\n",
    "    - [`NLsolve.jl`](https://github.com/JuliaNLSolvers/NLsolve.jl)\n",
    "    - [`Roots.jl`](https://github.com/JuliaMath/Roots.jl)\n",
    "\n",
    "- All roots of polynomial:\n",
    "    - [`HomotopyContinuation.jl`](https://www.juliahomotopycontinuation.org)\n",
    "    - [`PolynomialRoots.jl`](https://github.com/giordano/PolynomialRoots.jl)\n",
    "    - [`Polynomials.jl`](https://github.com/JuliaMath/Polynomials.jl)\n",
    "    \n",
    "- All roots of a nonlinear function:\n",
    "    - [`ApproxFun.jl`](https://github.com/JuliaApproximation/ApproxFun.jl)\n",
    "    - [`IntervalRootFinding.jl`](https://github.com/JuliaIntervals/IntervalRootFinding.jl)\n",
    "    - [`MDBM.jl`](https://github.com/bachrathyd/MDBM.jl)\n",
    "    - [`Roots.jl`](https://github.com/JuliaMath/Roots.jl)"
   ]
  },
  {
   "cell_type": "markdown",
   "metadata": {},
   "source": [
    "Each of these uses different techniques, with different advantages and disadvantages."
   ]
  },
  {
   "cell_type": "markdown",
   "metadata": {},
   "source": [
    "The challenge exercise for the workshop is: develop a package which integrates all of these disparate packages into a coherent whole!"
   ]
  },
  {
   "cell_type": "markdown",
   "metadata": {},
   "source": [
    "### Logistics of the workshop"
   ]
  },
  {
   "cell_type": "markdown",
   "metadata": {},
   "source": [
    "The workshop is based around a series of exercises to be done during the workshop. We will pause to work on the exercises and then I will discuss possible solutions during the workshop."
   ]
  },
  {
   "cell_type": "markdown",
   "metadata": {},
   "source": [
    "These techniques are useful for both users and developers; indeed, in Julia the distinction between users and developers is not useful, since it's much easier than in other languages to join the two categories together."
   ]
  },
  {
   "cell_type": "markdown",
   "metadata": {},
   "source": [
    "### Outline"
   ]
  },
  {
   "cell_type": "markdown",
   "metadata": {},
   "source": [
    "We will start by quickly reviewing roots of functions and quickly reviewing one of the standard algorithms, **Newton's algorithm**. We will restrict to finding roots of 1D functions for simplicity.\n",
    "\n",
    "Newton's algorithm requires the calculation of derivatives, for which several choices of algorithm are available. We will see how to encode the choice of algorithm using dispatch.\n",
    "\n",
    "Then we will define types which will contain all information about a root-finding problem."
   ]
  },
  {
   "cell_type": "markdown",
   "metadata": {},
   "source": [
    "## Roots"
   ]
  },
  {
   "cell_type": "markdown",
   "metadata": {},
   "source": [
    "Given a function $f: \\mathbb{R} \\to \\mathbb{R}$ (i.e. that accepts a single real number as argument and returns another real number), recall that a **root** or **zero** of the function is a number $x^*$ such that\n",
    "\n",
    "$$ f(x^*) = 0, $$\n",
    "\n",
    "i.e. it is a solution of the equation $f(x) = 0$.\n",
    "\n",
    "In general it is impossible to solve this equation exactly for $x^*$, so we use iterative numerical algorithms instead."
   ]
  },
  {
   "cell_type": "markdown",
   "metadata": {},
   "source": [
    "#### Example"
   ]
  },
  {
   "cell_type": "markdown",
   "metadata": {},
   "source": [
    "Recall that the function $f$ given by $f(x) := x^2 - 2$ has exactly two roots, at $x^*_1 = +\\sqrt{2}$ and $x^*_2 = -\\sqrt{2}$. Note that it is impossible to represent these values exactly using floating-point arithmetic."
   ]
  },
  {
   "cell_type": "markdown",
   "metadata": {},
   "source": [
    "## Newton algorithm"
   ]
  },
  {
   "cell_type": "markdown",
   "metadata": {},
   "source": [
    "The Newton algorithm for (possibly) finding a root of a nonlinear function $f(x)$ in 1D is the following iteration:"
   ]
  },
  {
   "cell_type": "markdown",
   "metadata": {},
   "source": [
    "$$x_{n+1} = x_n - \\frac{f(x_n)}{f'(x_n)},$$\n",
    "\n",
    "where $f'$ is the derivative of $f$. We start from an initial guess $x_0$ that can be almost anything (except points for which $f'(x_0) = 0$)."
   ]
  },
  {
   "cell_type": "markdown",
   "metadata": {},
   "source": [
    "#### Exercise 1"
   ]
  },
  {
   "cell_type": "markdown",
   "metadata": {},
   "source": [
    "1. Implement the Newton algorithm for a fixed number $n$ of steps in a function `newton`, starting from a given starting point $x_0$.  \n",
    "\n",
    "    Hint: Which information does the function require?\n",
    "\n",
    "\n",
    "2. Does your function work with other number types, such as `BigFloat`? What do you need in order to run it with those types? Use it to calculate $\\sqrt{2}$. How many decimal places are correct with the standard precision of `BigFloat`?"
   ]
  },
  {
   "cell_type": "code",
   "execution_count": 15,
   "metadata": {},
   "outputs": [
    {
     "data": {
      "text/plain": [
       "(1.414213562373095, 10)"
      ]
     },
     "execution_count": 15,
     "metadata": {},
     "output_type": "execute_result"
    }
   ],
   "source": [
    "newton(f, df, 3.0)"
   ]
  },
  {
   "cell_type": "code",
   "execution_count": 5,
   "metadata": {},
   "outputs": [
    {
     "data": {
      "text/plain": [
       "1.4142135623730951"
      ]
     },
     "execution_count": 5,
     "metadata": {},
     "output_type": "execute_result"
    }
   ],
   "source": [
    "sqrt(2)"
   ]
  },
  {
   "cell_type": "markdown",
   "metadata": {},
   "source": [
    "## Calculating derivatives"
   ]
  },
  {
   "cell_type": "markdown",
   "metadata": {},
   "source": [
    "The Newton algorithm requires us to specify the derivative of a function. If $f$ is a complicated function, we certainly don't want to do that by hand.\n",
    "\n",
    "One standard solution is to use a *finite-difference approximation*:\n",
    "\n",
    "$$f'(a) \\simeq \\frac{f(a + h) - f(a - h)}{2h}.$$"
   ]
  },
  {
   "cell_type": "markdown",
   "metadata": {},
   "source": [
    "#### Exercise 2"
   ]
  },
  {
   "cell_type": "markdown",
   "metadata": {},
   "source": [
    "1. Implement a function `finite_difference` with a default value $h = 0.001$ to calculate $f'(a)$ at a given point $a$.\n",
    "\n",
    "\n",
    "2. Use an anonymous function to make a method of `finite_difference` that calculates the *function* $f'$.\n",
    "\n",
    "\n",
    "3. Implement a version of `newton` that does not take the derivative as argument and uses `finite_difference` to calculate the derivative. This version of `newton` should **re-use** the previous version by defining the function `fp` and calling that version."
   ]
  },
  {
   "cell_type": "markdown",
   "metadata": {},
   "source": [
    "`newton` is a **generic function**"
   ]
  },
  {
   "cell_type": "code",
   "execution_count": 27,
   "metadata": {},
   "outputs": [
    {
     "data": {
      "text/html": [
       "3 methods for generic function <b>newton</b>:<ul><li> newton(f, x0) in Main at In[24]:3</li> <li> newton(f, df, x0) in Main at In[12]:5</li> <li> newton(f, df, x0, n) in Main at In[12]:5</li> </ul>"
      ],
      "text/plain": [
       "# 3 methods for generic function \"newton\":\n",
       "[1] newton(f, x0) in Main at In[24]:3\n",
       "[2] newton(f, df, x0) in Main at In[12]:5\n",
       "[3] newton(f, df, x0, n) in Main at In[12]:5"
      ]
     },
     "execution_count": 27,
     "metadata": {},
     "output_type": "execute_result"
    }
   ],
   "source": [
    "methods(newton)"
   ]
  },
  {
   "cell_type": "markdown",
   "metadata": {},
   "source": [
    "### Algorithmic differentiation"
   ]
  },
  {
   "cell_type": "markdown",
   "metadata": {},
   "source": [
    "An alternative way to calculate derivatives is by using [**algorithmic differentiation**](https://en.wikipedia.org/wiki/Automatic_differentiation) (also called **automatic differentiation** or **computational differentiation**). This gives exact results (up to rounding error).\n",
    "\n",
    "\n",
    "We will implement this algorithm in the next notebook, but for now let's just use the implementation in the excellent [`ForwardDiff.jl` package](https://github.com/JuliaDiff/ForwardDiff.jl).\n"
   ]
  },
  {
   "cell_type": "markdown",
   "metadata": {},
   "source": [
    "#### Exercise 3"
   ]
  },
  {
   "cell_type": "markdown",
   "metadata": {},
   "source": [
    "1. Install `ForwardDiff.jl` if necessary.\n",
    "\n",
    "\n",
    "2. Import it.\n",
    "\n",
    "\n",
    "3. Define a function `forwarddiff` that uses the `ForwardDiff.derivative` function to calculate a derivative."
   ]
  },
  {
   "cell_type": "markdown",
   "metadata": {},
   "source": [
    "### Choosing between algorithms"
   ]
  },
  {
   "cell_type": "markdown",
   "metadata": {},
   "source": [
    "We now have two different algorithms available to calculate derivatives. This kind of situation is common in scientific computing; for example, the [`DifferentialEquations.jl`](http://docs.juliadiffeq.org/latest/) ecosystem has some 300 algorithms for solving differential equations. One of the techniques we will learn is how to easily be able to specify different algorithms."
   ]
  },
  {
   "cell_type": "markdown",
   "metadata": {},
   "source": [
    "#### Exercise 4"
   ]
  },
  {
   "cell_type": "markdown",
   "metadata": {},
   "source": [
    "1. Make a version of the Newton algorithm that takes an argument which is the method (algorithm) to use to calculate the derivative, given as a function. \n",
    "The new method should have the signature `newton(f, df, x0, n, derivative)`.\n",
    "(The **signature** of a function means the collection of arguments that it takes.)"
   ]
  },
  {
   "cell_type": "markdown",
   "metadata": {},
   "source": [
    "## A first taste of multiple dispatch"
   ]
  },
  {
   "cell_type": "markdown",
   "metadata": {},
   "source": [
    "In the above, we ended up with a complicated signature. Maybe we would like something simpler, such as \n",
    "```\n",
    "newton(f, x0, derivative)\n",
    "```\n",
    "where `derivative` is the derivative method to use (finite differencing or `forwarddiff`).\n",
    "\n",
    "The problem is that we already have a method for `newton` that takes three arguments, namely `newton(f, df, x0)`. If we define this new method, we will *overwrite* (destroy) that method, since Julia cannot distinguish between the signature `(f, x0, derivative)` and `(f, df, x0)` -- they are both simply three arguments with different names."
   ]
  },
  {
   "cell_type": "markdown",
   "metadata": {},
   "source": [
    "There is a way to distinguish them, however: we (as humans) know intuitively that the first method, `(f, df, x0)`, should take arguments of types `(function, function, number)`, whereas `(f, x0, derivative)` should take `(function, number, function)`. So far, however, we have not told Julia this, since although we recognise by eye that `f` is a function and `x0` is a number, for Julia it is quite possible for `f` to be a number and `x0` to be a function!"
   ]
  },
  {
   "cell_type": "markdown",
   "metadata": {},
   "source": [
    "So what we need is a mechanism to *specify* to Julia which *type* of arguments each version of `newton` takes, in which order."
   ]
  },
  {
   "cell_type": "markdown",
   "metadata": {},
   "source": [
    "### Type annotations"
   ]
  },
  {
   "cell_type": "markdown",
   "metadata": {},
   "source": [
    "When we need to specify types in Julia, we use a *type annotation*, written `::T`, where `T` is the type.\n",
    "\n",
    "For example, let's define a function `rounded_square` of one argument, `x`, that calculates a rounded-down square. If `x` is an integer then it should just return `x^2`; but if `x` is a float, it should do a more complicated operation. We can write two *methods* for `rounded_square` as follows:"
   ]
  },
  {
   "cell_type": "code",
   "execution_count": 5,
   "metadata": {},
   "outputs": [
    {
     "data": {
      "text/plain": [
       "rounded_square (generic function with 2 methods)"
      ]
     },
     "execution_count": 5,
     "metadata": {},
     "output_type": "execute_result"
    }
   ],
   "source": [
    "rounded_square(x::Int) = x^2\n",
    "\n",
    "rounded_square(x::Float64) = floor(x^2)"
   ]
  },
  {
   "cell_type": "code",
   "execution_count": 4,
   "metadata": {},
   "outputs": [
    {
     "data": {
      "text/plain": [
       "9"
      ]
     },
     "execution_count": 4,
     "metadata": {},
     "output_type": "execute_result"
    }
   ],
   "source": [
    "rounded_square(3)"
   ]
  },
  {
   "cell_type": "code",
   "execution_count": 6,
   "metadata": {},
   "outputs": [
    {
     "data": {
      "text/plain": [
       "9.0"
      ]
     },
     "execution_count": 6,
     "metadata": {},
     "output_type": "execute_result"
    }
   ],
   "source": [
    "rounded_square(3.1)"
   ]
  },
  {
   "cell_type": "markdown",
   "metadata": {},
   "source": [
    "But:"
   ]
  },
  {
   "cell_type": "code",
   "execution_count": 9,
   "metadata": {},
   "outputs": [
    {
     "data": {
      "text/plain": [
       "9.0"
      ]
     },
     "execution_count": 9,
     "metadata": {},
     "output_type": "execute_result"
    }
   ],
   "source": [
    "rounded_square(big\"3.1\")"
   ]
  },
  {
   "cell_type": "markdown",
   "metadata": {},
   "source": [
    "We see that we restricted the second method too much: really we would like to allow any real number:"
   ]
  },
  {
   "cell_type": "code",
   "execution_count": 8,
   "metadata": {},
   "outputs": [
    {
     "data": {
      "text/plain": [
       "rounded_square (generic function with 3 methods)"
      ]
     },
     "execution_count": 8,
     "metadata": {},
     "output_type": "execute_result"
    }
   ],
   "source": [
    "rounded_square(x::Real) = floor(x^2)"
   ]
  },
  {
   "cell_type": "code",
   "execution_count": 10,
   "metadata": {},
   "outputs": [
    {
     "data": {
      "text/plain": [
       "9.0"
      ]
     },
     "execution_count": 10,
     "metadata": {},
     "output_type": "execute_result"
    }
   ],
   "source": [
    "rounded_square(big\"3.1\")"
   ]
  },
  {
   "cell_type": "code",
   "execution_count": 11,
   "metadata": {},
   "outputs": [
    {
     "data": {
      "text/plain": [
       "9.0"
      ]
     },
     "execution_count": 11,
     "metadata": {},
     "output_type": "execute_result"
    }
   ],
   "source": [
    "rounded_square(π)"
   ]
  },
  {
   "cell_type": "markdown",
   "metadata": {},
   "source": [
    "If we later discover other cases that we would like to be covered, we can *add new methods* to the function, even for new kinds of types that we define (although if they are subtypes of `Real` then they *are already covered*!)"
   ]
  },
  {
   "cell_type": "markdown",
   "metadata": {},
   "source": [
    "### Multiple dispatch"
   ]
  },
  {
   "cell_type": "markdown",
   "metadata": {},
   "source": [
    "Julia checks the types of *all arguments of a function* and chooses a method that matches all of them simultaneously. This is known as **multiple dispatch**. (\"Dispatch\" is the act of choosing which version of a function to call.)\n",
    "\n",
    "Although this does not necessarily sound like a complicated idea, it is one of the key things that differentiates Julia from most other programming languages, and it has led to many interesting developments; I highly recommend [Stefan Karpinski's talk from JuliaCon 2019](https://www.youtube.com/watch?v=kc9HwsxE1OY)."
   ]
  },
  {
   "cell_type": "markdown",
   "metadata": {},
   "source": [
    "Let's return to the `newton` example. "
   ]
  },
  {
   "cell_type": "markdown",
   "metadata": {},
   "source": [
    "#### Exercise 5\n",
    "\n",
    "1. Write a method for `newton` that takes as arguments `f`, `x0` and a `derivative` method by annotating the `derivative` method as being of type `Function`. \n",
    "\n",
    "\n",
    "2. Alternatively, annotate the method which takes `f`, `df` and `x0` by annotating `x0` as being `Real`."
   ]
  }
 ],
 "metadata": {
  "kernelspec": {
   "display_name": "Julia 1.1.0",
   "language": "julia",
   "name": "julia-1.1"
  },
  "language_info": {
   "file_extension": ".jl",
   "mimetype": "application/julia",
   "name": "julia",
   "version": "1.1.0"
  }
 },
 "nbformat": 4,
 "nbformat_minor": 2
}
