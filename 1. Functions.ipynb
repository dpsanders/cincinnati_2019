{
 "cells": [
  {
   "cell_type": "markdown",
   "metadata": {},
   "source": [
    "# Functions in Julia"
   ]
  },
  {
   "cell_type": "markdown",
   "metadata": {},
   "source": [
    "Functions play a crucial role in any programming language, since they allow us to turn a piece of special code into a general, reusable tool.\n",
    "\n",
    "We will have a short hands-on workshop on functions to cover some of the following tricky topics:"
   ]
  },
  {
   "cell_type": "markdown",
   "metadata": {},
   "source": [
    "1. Global vs local variables\n",
    "\n",
    "\n",
    "2. Anonymous functions\n",
    "\n",
    "\n",
    "3. Keyword arguments and overwriting of methods"
   ]
  }
 ],
 "metadata": {
  "kernelspec": {
   "display_name": "Julia 1.1.0",
   "language": "julia",
   "name": "julia-1.1"
  },
  "language_info": {
   "file_extension": ".jl",
   "mimetype": "application/julia",
   "name": "julia",
   "version": "1.1.0"
  }
 },
 "nbformat": 4,
 "nbformat_minor": 2
}
