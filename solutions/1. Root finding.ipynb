{
 "cells": [
  {
   "cell_type": "markdown",
   "metadata": {},
   "source": [
    "# Intermediate Julia for scientific computing"
   ]
  },
  {
   "cell_type": "markdown",
   "metadata": {},
   "source": [
    "This workshop is designed to introduce two fundamental concepts in Julia: **types** and **metaprogramming**.\n",
    "\n",
    "In order to cover various key uses of types in Julia, we have chosen to frame the discussion around a concrete topic in scientific computing, namely **root-finding**. \n",
    "The goal is *not* to learn algorithms for root finding *per se*, but rather to have a (pseudo-)real context in which to explore various concepts centered around types and how they arise naturally in real applications of Julia, in particular applications of **multiple dispatch**, which is one of the core choices in Julia that differentiate it from other common languages.\n",
    "\n",
    "We will implement a couple of root-finding algorithms just to have something to work with. These will just be toy implementations that are far away from the best implementations. \n",
    "\n",
    "Instead we should use one of the high-quality packages that are available in Julia for this purpose; the large number of them shows the importance of root finding. I am aware of the following (in alphabetical order):"
   ]
  },
  {
   "cell_type": "markdown",
   "metadata": {},
   "source": [
    "- Single root of a nonlinear function:\n",
    "    - [`NLsolve.jl`](https://github.com/JuliaNLSolvers/NLsolve.jl)\n",
    "    - [`Roots.jl`](https://github.com/JuliaMath/Roots.jl)\n",
    "\n",
    "- All roots of a polynomial:\n",
    "    - [`HomotopyContinuation.jl`](https://www.juliahomotopycontinuation.org)\n",
    "    - [`PolynomialRoots.jl`](https://github.com/giordano/PolynomialRoots.jl)\n",
    "    - [`Polynomials.jl`](https://github.com/JuliaMath/Polynomials.jl)\n",
    "    \n",
    "- All roots of a nonlinear function:\n",
    "    - [`ApproxFun.jl`](https://github.com/JuliaApproximation/ApproxFun.jl)\n",
    "    - [`IntervalRootFinding.jl`](https://github.com/JuliaIntervals/IntervalRootFinding.jl)\n",
    "    - [`MDBM.jl`](https://github.com/bachrathyd/MDBM.jl)\n",
    "    - [`Roots.jl`](https://github.com/JuliaMath/Roots.jl)"
   ]
  },
  {
   "cell_type": "markdown",
   "metadata": {},
   "source": [
    "Each of these uses different techniques, with different advantages and disadvantages."
   ]
  },
  {
   "cell_type": "markdown",
   "metadata": {},
   "source": [
    "The challenge exercise for the workshop is: develop a package which integrates all of these disparate packages into a coherent whole!"
   ]
  },
  {
   "cell_type": "markdown",
   "metadata": {},
   "source": [
    "### Logistics of the workshop"
   ]
  },
  {
   "cell_type": "markdown",
   "metadata": {},
   "source": [
    "The workshop is based around a series of exercises to be done during the workshop. We will pause to work on the exercises and then I will discuss possible solutions during the workshop."
   ]
  },
  {
   "cell_type": "markdown",
   "metadata": {},
   "source": [
    "These techniques are useful for both users and developers; indeed, in Julia the distinction between users and developers is not useful, since it's much easier than in other languages to join the two categories together."
   ]
  },
  {
   "cell_type": "markdown",
   "metadata": {},
   "source": [
    "### Outline"
   ]
  },
  {
   "cell_type": "markdown",
   "metadata": {},
   "source": [
    "We will start by quickly reviewing roots of functions and quickly reviewing one of the standard algorithms, **Newton's algorithm**. We will restrict to finding roots of 1D functions for simplicity.\n",
    "\n",
    "Newton's algorithm requires the calculation of derivatives, for which several choices of algorithm are available. We will see how to encode the choice of algorithm using dispatch.\n",
    "\n",
    "Then we will define types which will contain all information about a root-finding problem."
   ]
  },
  {
   "cell_type": "markdown",
   "metadata": {},
   "source": [
    "## Roots"
   ]
  },
  {
   "cell_type": "markdown",
   "metadata": {},
   "source": [
    "Given a function $f: \\mathbb{R} \\to \\mathbb{R}$ (i.e. that accepts a single real number as argument and returns another real number), recall that a **root** or **zero** of the function is a number $x^*$ such that\n",
    "\n",
    "$$ f(x^*) = 0, $$\n",
    "\n",
    "i.e. it is a solution of the equation $f(x) = 0$.\n",
    "\n",
    "In general it is impossible to solve this equation exactly for $x^*$, so we use iterative numerical algorithms instead."
   ]
  },
  {
   "cell_type": "markdown",
   "metadata": {},
   "source": [
    "#### Example"
   ]
  },
  {
   "cell_type": "markdown",
   "metadata": {},
   "source": [
    "Recall that the function $f$ given by $f(x) := x^2 - 2$ has exactly two roots, at $x^*_1 = +\\sqrt{2}$ and $x^*_2 = -\\sqrt{2}$. Note that it is impossible to represent these values exactly using floating-point arithmetic."
   ]
  },
  {
   "cell_type": "markdown",
   "metadata": {},
   "source": [
    "## Newton algorithm"
   ]
  },
  {
   "cell_type": "markdown",
   "metadata": {},
   "source": [
    "The Newton algorithm for (possibly) finding a root of a nonlinear function $f(x)$ in 1D is the following iteration:"
   ]
  },
  {
   "cell_type": "markdown",
   "metadata": {},
   "source": [
    "$$x_{n+1} = x_n - \\frac{f(x_n)}{f'(x_n)},$$\n",
    "\n",
    "where $f'$ is the derivative of $f$. We start from an initial guess $x_0$ that can be almost anything (except points for which $f'(x_0) = 0$)."
   ]
  },
  {
   "cell_type": "markdown",
   "metadata": {},
   "source": [
    "#### Exercise 1"
   ]
  },
  {
   "cell_type": "markdown",
   "metadata": {},
   "source": [
    "1. Implement the Newton algorithm for a fixed number $n$ of steps in a function `newton`, starting from a given starting point $x_0$.  \n",
    "\n",
    "    Hint: Which information does the function require?\n",
    "\n",
    "\n",
    "2. Does your function work with other number types, such as `BigFloat`? What do you need in order to run it with those types? Use it to calculate $\\sqrt{2}$. How many decimal places are correct with the standard precision of `BigFloat`?"
   ]
  },
  {
   "cell_type": "markdown",
   "metadata": {},
   "source": [
    "#### Solution 1"
   ]
  },
  {
   "cell_type": "markdown",
   "metadata": {},
   "source": [
    "1. The `newton` function needs the function `f` whose root we wish to find, its derivative `df`, an initial condition `x0`, and a number of iterations `n`:"
   ]
  },
  {
   "cell_type": "code",
   "execution_count": 1,
   "metadata": {},
   "outputs": [
    {
     "data": {
      "text/plain": [
       "newton (generic function with 2 methods)"
      ]
     },
     "execution_count": 1,
     "metadata": {},
     "output_type": "execute_result"
    }
   ],
   "source": [
    "function newton(f, df, x0, n=10)   # n=10 specifies a default value\n",
    "    x = x0  # initialise\n",
    "    \n",
    "    for i in 1:n\n",
    "        x_new = x - f(x) / df(x)\n",
    "        \n",
    "        x = x_new  # update for next step\n",
    "    end\n",
    "    \n",
    "    return x\n",
    "end"
   ]
  },
  {
   "cell_type": "markdown",
   "metadata": {},
   "source": [
    "Define a function `g` whose root we wish to find, together with its derivative `dg` specified \"by hand\":"
   ]
  },
  {
   "cell_type": "code",
   "execution_count": 2,
   "metadata": {},
   "outputs": [
    {
     "data": {
      "text/plain": [
       "dg (generic function with 1 method)"
      ]
     },
     "execution_count": 2,
     "metadata": {},
     "output_type": "execute_result"
    }
   ],
   "source": [
    "g(x) = x^2 - 2\n",
    "dg(x) = 2x"
   ]
  },
  {
   "cell_type": "markdown",
   "metadata": {},
   "source": [
    "Run `newton` with these functions and a starting point `y0`:"
   ]
  },
  {
   "cell_type": "code",
   "execution_count": 3,
   "metadata": {},
   "outputs": [
    {
     "data": {
      "text/plain": [
       "1.414213562373095"
      ]
     },
     "execution_count": 3,
     "metadata": {},
     "output_type": "execute_result"
    }
   ],
   "source": [
    "y0 = 3.0\n",
    "\n",
    "newton(g, dg, y0)  # we did not need to specify a number of iterations; the default value is used"
   ]
  },
  {
   "cell_type": "markdown",
   "metadata": {},
   "source": [
    "Note that it is very easy to pass functions as arguments to other functions, by specifying the name of the function. This is also efficient."
   ]
  },
  {
   "cell_type": "code",
   "execution_count": 4,
   "metadata": {},
   "outputs": [
    {
     "name": "stdout",
     "output_type": "stream",
     "text": [
      "Body\u001b[36m::Float64\u001b[39m\n",
      "\u001b[90m1 ──\u001b[39m %1  = (Base.sle_int)(1, n)\u001b[36m::Bool\u001b[39m\n",
      "\u001b[90m│   \u001b[39m %2  = (Base.ifelse)(%1, n, 0)\u001b[36m::Int64\u001b[39m\n",
      "\u001b[90m│   \u001b[39m %3  = (Base.slt_int)(%2, 1)\u001b[36m::Bool\u001b[39m\n",
      "\u001b[90m└───\u001b[39m       goto #3 if not %3\n",
      "\u001b[90m2 ──\u001b[39m       goto #4\n",
      "\u001b[90m3 ──\u001b[39m       goto #4\n",
      "\u001b[90m4 ┄─\u001b[39m %7  = φ (#2 => true, #3 => false)\u001b[36m::Bool\u001b[39m\n",
      "\u001b[90m│   \u001b[39m %8  = φ (#3 => 1)\u001b[36m::Int64\u001b[39m\n",
      "\u001b[90m│   \u001b[39m %9  = (Base.not_int)(%7)\u001b[36m::Bool\u001b[39m\n",
      "\u001b[90m└───\u001b[39m       goto #10 if not %9\n",
      "\u001b[90m5 ┄─\u001b[39m %11 = φ (#4 => _4, #9 => %17)\u001b[36m::Float64\u001b[39m\n",
      "\u001b[90m│   \u001b[39m %12 = φ (#4 => %8, #9 => %23)\u001b[36m::Int64\u001b[39m\n",
      "\u001b[90m│   \u001b[39m %13 = (Base.mul_float)(%11, %11)\u001b[36m::Float64\u001b[39m\n",
      "\u001b[90m│   \u001b[39m %14 = (Base.sub_float)(%13, 2.0)\u001b[36m::Float64\u001b[39m\n",
      "\u001b[90m│   \u001b[39m %15 = (Base.mul_float)(2.0, %11)\u001b[36m::Float64\u001b[39m\n",
      "\u001b[90m│   \u001b[39m %16 = (Base.div_float)(%14, %15)\u001b[36m::Float64\u001b[39m\n",
      "\u001b[90m│   \u001b[39m %17 = (Base.sub_float)(%11, %16)\u001b[36m::Float64\u001b[39m\n",
      "\u001b[90m│   \u001b[39m %18 = (%12 === %2)\u001b[36m::Bool\u001b[39m\n",
      "\u001b[90m└───\u001b[39m       goto #7 if not %18\n",
      "\u001b[90m6 ──\u001b[39m       goto #8\n",
      "\u001b[90m7 ──\u001b[39m %21 = (Base.add_int)(%12, 1)\u001b[36m::Int64\u001b[39m\n",
      "\u001b[90m└───\u001b[39m       goto #8\n",
      "\u001b[90m8 ┄─\u001b[39m %23 = φ (#7 => %21)\u001b[36m::Int64\u001b[39m\n",
      "\u001b[90m│   \u001b[39m %24 = φ (#6 => true, #7 => false)\u001b[36m::Bool\u001b[39m\n",
      "\u001b[90m│   \u001b[39m %25 = (Base.not_int)(%24)\u001b[36m::Bool\u001b[39m\n",
      "\u001b[90m└───\u001b[39m       goto #10 if not %25\n",
      "\u001b[90m9 ──\u001b[39m       goto #5\n",
      "\u001b[90m10 ┄\u001b[39m %28 = φ (#8 => %17, #4 => _4)\u001b[36m::Float64\u001b[39m\n",
      "\u001b[90m└───\u001b[39m       return %28\n"
     ]
    }
   ],
   "source": [
    "@code_warntype newton(g, dg, 0.1, 10)"
   ]
  },
  {
   "cell_type": "markdown",
   "metadata": {},
   "source": [
    "Note that the functions `f` and `df` were *inlined*: there is no longer a call to the functions, but rather the code for those functions is inserted into the code for the Newton method. Whether this inlining is performed or not is governed by a heuristic based on the code complexity."
   ]
  },
  {
   "cell_type": "markdown",
   "metadata": {},
   "source": [
    "Compare with the analytical solution:"
   ]
  },
  {
   "cell_type": "code",
   "execution_count": 5,
   "metadata": {},
   "outputs": [
    {
     "data": {
      "text/plain": [
       "1.4142135623730951"
      ]
     },
     "execution_count": 5,
     "metadata": {},
     "output_type": "execute_result"
    }
   ],
   "source": [
    "sqrt(2)"
   ]
  },
  {
   "cell_type": "markdown",
   "metadata": {},
   "source": [
    "2. Run the function starting from a `BigFloat` initial condition:"
   ]
  },
  {
   "cell_type": "code",
   "execution_count": 6,
   "metadata": {},
   "outputs": [
    {
     "data": {
      "text/plain": [
       "2.0"
      ]
     },
     "execution_count": 6,
     "metadata": {},
     "output_type": "execute_result"
    }
   ],
   "source": [
    "y0 = big(2.0)"
   ]
  },
  {
   "cell_type": "code",
   "execution_count": 7,
   "metadata": {},
   "outputs": [
    {
     "data": {
      "text/plain": [
       "1.414213562373095048801689623502530243614981925776197428498289498623195824228933"
      ]
     },
     "execution_count": 7,
     "metadata": {},
     "output_type": "execute_result"
    }
   ],
   "source": [
    "newton(g, dg, y0, 5)"
   ]
  },
  {
   "cell_type": "code",
   "execution_count": 8,
   "metadata": {},
   "outputs": [
    {
     "data": {
      "text/plain": [
       "1.414213562373095048801689623502530243614981925776197428498289498623195824228933"
      ]
     },
     "execution_count": 8,
     "metadata": {},
     "output_type": "execute_result"
    }
   ],
   "source": [
    "result = newton(g, dg, y0, 5)"
   ]
  },
  {
   "cell_type": "markdown",
   "metadata": {},
   "source": [
    "How far is it from the true square root?"
   ]
  },
  {
   "cell_type": "code",
   "execution_count": 9,
   "metadata": {},
   "outputs": [
    {
     "data": {
      "text/plain": [
       "8.992928321650453100503992493553216097606324633457668310222718673825519970228542e-25"
      ]
     },
     "execution_count": 9,
     "metadata": {},
     "output_type": "execute_result"
    }
   ],
   "source": [
    "result - sqrt(y0)"
   ]
  },
  {
   "cell_type": "code",
   "execution_count": 10,
   "metadata": {},
   "outputs": [
    {
     "name": "stdout",
     "output_type": "stream",
     "text": [
      "0.08578643762690495119831127579030192143032812462305192682332026200926752153789802\n",
      "0.00245310429357161786497794245696858809699479128971859348998692867593418820455893\n",
      "2.123901414755119879903241282313587190869721091142509594771813189090165348662204e-06\n",
      "1.594861824606854680436831546887746738795971408225281209321893373282554461870123e-12\n",
      "8.992928321650453100503992493553216097606324633457668310222718673825519970228542e-25\n",
      "2.859283843333951225327771682478558595433666338812917695204101993287842530821706e-49\n",
      "0.0\n",
      "0.0\n",
      "0.0\n",
      "0.0\n"
     ]
    }
   ],
   "source": [
    "for n in 1:10\n",
    "    result = newton(g, dg, y0, n)\n",
    "    println(abs(result - sqrt(y0)))\n",
    "end"
   ]
  },
  {
   "cell_type": "markdown",
   "metadata": {},
   "source": [
    "## Calculating derivatives"
   ]
  },
  {
   "cell_type": "markdown",
   "metadata": {},
   "source": [
    "The Newton algorithm requires us to specify the derivative of a function. If $f$ is a complicated function, we certainly don't want to do that by hand.\n",
    "\n",
    "One standard solution is to use a *finite-difference approximation*:\n",
    "\n",
    "$$f'(a) \\simeq \\frac{f(a + h) - f(a - h)}{2h}.$$"
   ]
  },
  {
   "cell_type": "markdown",
   "metadata": {},
   "source": [
    "#### Exercise 2"
   ]
  },
  {
   "cell_type": "code",
   "execution_count": 11,
   "metadata": {},
   "outputs": [
    {
     "ename": "LoadError",
     "evalue": "syntax: extra token \"found\" after end of expression",
     "output_type": "error",
     "traceback": [
      "syntax: extra token \"found\" after end of expression",
      ""
     ]
    }
   ],
   "source": [
    "We found the exact"
   ]
  },
  {
   "cell_type": "markdown",
   "metadata": {},
   "source": [
    "1. Implement a function `finite_difference` with a default value $h = 0.001$.\n",
    "\n",
    "\n",
    "2. Use an anonymous function to make a method of `finite_difference` that calculates the *function* $f'$.\n",
    "\n",
    "\n",
    "3. Implement a version of `newton` that does not take the derivative as argument and uses `finite_difference` to calculate the derivative. This version of `newton` should **re-use** the previous version by defining the function `fp` and calling that version."
   ]
  },
  {
   "cell_type": "markdown",
   "metadata": {},
   "source": [
    "### Solution 2"
   ]
  },
  {
   "cell_type": "markdown",
   "metadata": {},
   "source": [
    "1. We copy the mathematical definition. We need the function `f`, the value `a` and the step size `h`, which has a default value:"
   ]
  },
  {
   "cell_type": "code",
   "execution_count": 12,
   "metadata": {},
   "outputs": [
    {
     "data": {
      "text/plain": [
       "finite_difference (generic function with 2 methods)"
      ]
     },
     "execution_count": 12,
     "metadata": {},
     "output_type": "execute_result"
    }
   ],
   "source": [
    "function finite_difference(f, a, h=0.001)\n",
    "    return ( f(a + h) - f(a - h) ) / (2h)\n",
    "end"
   ]
  },
  {
   "cell_type": "markdown",
   "metadata": {},
   "source": [
    "We specify the function and the exact derivatie:"
   ]
  },
  {
   "cell_type": "code",
   "execution_count": 13,
   "metadata": {},
   "outputs": [
    {
     "data": {
      "text/plain": [
       "dg (generic function with 1 method)"
      ]
     },
     "execution_count": 13,
     "metadata": {},
     "output_type": "execute_result"
    }
   ],
   "source": [
    "g(x) = x^3 - 2\n",
    "dg(x) = 3x^2"
   ]
  },
  {
   "cell_type": "code",
   "execution_count": 14,
   "metadata": {},
   "outputs": [
    {
     "data": {
      "text/plain": [
       "27.000000999995777"
      ]
     },
     "execution_count": 14,
     "metadata": {},
     "output_type": "execute_result"
    }
   ],
   "source": [
    "a = 3.0\n",
    "\n",
    "finite_difference(g, a)"
   ]
  },
  {
   "cell_type": "code",
   "execution_count": 15,
   "metadata": {},
   "outputs": [
    {
     "data": {
      "text/plain": [
       "27.0"
      ]
     },
     "execution_count": 15,
     "metadata": {},
     "output_type": "execute_result"
    }
   ],
   "source": [
    "dg(a)"
   ]
  },
  {
   "cell_type": "markdown",
   "metadata": {},
   "source": [
    "How good is the approximation?"
   ]
  },
  {
   "cell_type": "code",
   "execution_count": 16,
   "metadata": {},
   "outputs": [
    {
     "data": {
      "text/plain": [
       "-9.999957768513923e-7"
      ]
     },
     "execution_count": 16,
     "metadata": {},
     "output_type": "execute_result"
    }
   ],
   "source": [
    "dg(a) - finite_difference(g, a)"
   ]
  },
  {
   "cell_type": "code",
   "execution_count": 17,
   "metadata": {},
   "outputs": [
    {
     "data": {
      "text/plain": [
       "-0.01000000000002288"
      ]
     },
     "execution_count": 17,
     "metadata": {},
     "output_type": "execute_result"
    }
   ],
   "source": [
    "dg(a) - finite_difference(g, a, 0.1)"
   ]
  },
  {
   "cell_type": "markdown",
   "metadata": {},
   "source": [
    "2. Now we want to make a new method of `finite_difference` that takes just the function `f` and returns its derivative. Note that its derivative is *itself a function*, so this will be a function that accepts a function and returns another function:"
   ]
  },
  {
   "cell_type": "code",
   "execution_count": 18,
   "metadata": {},
   "outputs": [
    {
     "data": {
      "text/plain": [
       "finite_difference (generic function with 3 methods)"
      ]
     },
     "execution_count": 18,
     "metadata": {},
     "output_type": "execute_result"
    }
   ],
   "source": [
    "finite_difference(f) = x -> finite_difference(f, x)"
   ]
  },
  {
   "cell_type": "markdown",
   "metadata": {},
   "source": [
    "Mathematically we can write this as $x \\mapsto f\\prime(x)$, which we read as \"the function that maps any value $x$ to the result of $f'(x)$\"."
   ]
  },
  {
   "cell_type": "markdown",
   "metadata": {},
   "source": [
    "Let's try it out:"
   ]
  },
  {
   "cell_type": "code",
   "execution_count": 19,
   "metadata": {},
   "outputs": [
    {
     "data": {
      "text/plain": [
       "5.999999999999339"
      ]
     },
     "execution_count": 19,
     "metadata": {},
     "output_type": "execute_result"
    }
   ],
   "source": [
    "dg2 = finite_difference(x->x^2)\n",
    "dg2(3.0)"
   ]
  },
  {
   "cell_type": "markdown",
   "metadata": {},
   "source": [
    "2. We want to write a \"version\" (*method*) of the function `newton`, in which we no longer need to specify the derivative by hand, but rather use a finite difference.\n",
    "\n",
    "Since we already have a version of the `newton` function written which contains the main code for the method, we should try to *re-use* it. (This is the \"Don't Repeat Yourself\", or DRY, principle.)"
   ]
  },
  {
   "cell_type": "code",
   "execution_count": 20,
   "metadata": {},
   "outputs": [
    {
     "data": {
      "text/plain": [
       "newton (generic function with 3 methods)"
      ]
     },
     "execution_count": 20,
     "metadata": {},
     "output_type": "execute_result"
    }
   ],
   "source": [
    "function newton(f, x0, n=10)\n",
    "\n",
    "    # calculate the derivative *function*\n",
    "    df = finite_difference(f)\n",
    "    \n",
    "    # pass it to the previously-defined method of `newton`:\n",
    "    result = newton(f, df, x0, n)   \n",
    "    \n",
    "    return result\n",
    "end"
   ]
  },
  {
   "cell_type": "code",
   "execution_count": 21,
   "metadata": {},
   "outputs": [
    {
     "data": {
      "text/plain": [
       "1.2599210498948732"
      ]
     },
     "execution_count": 21,
     "metadata": {},
     "output_type": "execute_result"
    }
   ],
   "source": [
    "newton(g, 3.0)"
   ]
  },
  {
   "cell_type": "code",
   "execution_count": 22,
   "metadata": {},
   "outputs": [
    {
     "data": {
      "text/plain": [
       "1.2599210498948732"
      ]
     },
     "execution_count": 22,
     "metadata": {},
     "output_type": "execute_result"
    }
   ],
   "source": [
    "cbrt(2)"
   ]
  },
  {
   "cell_type": "markdown",
   "metadata": {},
   "source": [
    "`newton` is a **generic function**:"
   ]
  },
  {
   "cell_type": "code",
   "execution_count": 23,
   "metadata": {},
   "outputs": [
    {
     "data": {
      "text/html": [
       "newton(f, x0) in Main at In[20]:4"
      ],
      "text/plain": [
       "newton(f, x0) in Main at In[20]:4"
      ]
     },
     "execution_count": 23,
     "metadata": {},
     "output_type": "execute_result"
    }
   ],
   "source": [
    "@which newton(g, 3.0)"
   ]
  },
  {
   "cell_type": "code",
   "execution_count": 24,
   "metadata": {},
   "outputs": [
    {
     "data": {
      "text/html": [
       "3 methods for generic function <b>newton</b>:<ul><li> newton(f, x0) in Main at In[20]:4</li> <li> newton(f, x0, n) in Main at In[20]:4</li> <li> newton(f, df, x0, n) in Main at In[1]:2</li> </ul>"
      ],
      "text/plain": [
       "# 3 methods for generic function \"newton\":\n",
       "[1] newton(f, x0) in Main at In[20]:4\n",
       "[2] newton(f, x0, n) in Main at In[20]:4\n",
       "[3] newton(f, df, x0, n) in Main at In[1]:2"
      ]
     },
     "execution_count": 24,
     "metadata": {},
     "output_type": "execute_result"
    }
   ],
   "source": [
    "methods(newton)"
   ]
  },
  {
   "cell_type": "markdown",
   "metadata": {},
   "source": [
    "Note that default arguments have the effect of creating additional methods."
   ]
  },
  {
   "cell_type": "markdown",
   "metadata": {},
   "source": [
    "Things already seem to be getting a bit complicated, since we are building up layers of functions on top of each other. Is this a good idea in terms of performance?"
   ]
  },
  {
   "cell_type": "code",
   "execution_count": 25,
   "metadata": {},
   "outputs": [
    {
     "name": "stdout",
     "output_type": "stream",
     "text": [
      "Body\u001b[36m::Float64\u001b[39m\n",
      "\u001b[90m1 ──\u001b[39m %1  = (Base.sle_int)(1, n)\u001b[36m::Bool\u001b[39m\n",
      "\u001b[90m│   \u001b[39m %2  = (Base.ifelse)(%1, n, 0)\u001b[36m::Int64\u001b[39m\n",
      "\u001b[90m│   \u001b[39m %3  = (Base.slt_int)(%2, 1)\u001b[36m::Bool\u001b[39m\n",
      "\u001b[90m└───\u001b[39m       goto #3 if not %3\n",
      "\u001b[90m2 ──\u001b[39m       goto #4\n",
      "\u001b[90m3 ──\u001b[39m       goto #4\n",
      "\u001b[90m4 ┄─\u001b[39m %7  = φ (#2 => true, #3 => false)\u001b[36m::Bool\u001b[39m\n",
      "\u001b[90m│   \u001b[39m %8  = φ (#3 => 1)\u001b[36m::Int64\u001b[39m\n",
      "\u001b[90m│   \u001b[39m %9  = (Base.not_int)(%7)\u001b[36m::Bool\u001b[39m\n",
      "\u001b[90m└───\u001b[39m       goto #10 if not %9\n",
      "\u001b[90m5 ┄─\u001b[39m %11 = φ (#4 => _4, #9 => %27)\u001b[36m::Float64\u001b[39m\n",
      "\u001b[90m│   \u001b[39m %12 = φ (#4 => %8, #9 => %33)\u001b[36m::Int64\u001b[39m\n",
      "\u001b[90m│   \u001b[39m %13 = (Base.mul_float)(%11, %11)\u001b[36m::Float64\u001b[39m\n",
      "\u001b[90m│   \u001b[39m %14 = (Base.mul_float)(%13, %11)\u001b[36m::Float64\u001b[39m\n",
      "\u001b[90m│   \u001b[39m %15 = (Base.sub_float)(%14, 2.0)\u001b[36m::Float64\u001b[39m\n",
      "\u001b[90m│   \u001b[39m %16 = (Base.add_float)(%11, 0.001)\u001b[36m::Float64\u001b[39m\n",
      "\u001b[90m│   \u001b[39m %17 = (Base.mul_float)(%16, %16)\u001b[36m::Float64\u001b[39m\n",
      "\u001b[90m│   \u001b[39m %18 = (Base.mul_float)(%17, %16)\u001b[36m::Float64\u001b[39m\n",
      "\u001b[90m│   \u001b[39m %19 = (Base.sub_float)(%18, 2.0)\u001b[36m::Float64\u001b[39m\n",
      "\u001b[90m│   \u001b[39m %20 = (Base.sub_float)(%11, 0.001)\u001b[36m::Float64\u001b[39m\n",
      "\u001b[90m│   \u001b[39m %21 = (Base.mul_float)(%20, %20)\u001b[36m::Float64\u001b[39m\n",
      "\u001b[90m│   \u001b[39m %22 = (Base.mul_float)(%21, %20)\u001b[36m::Float64\u001b[39m\n",
      "\u001b[90m│   \u001b[39m %23 = (Base.sub_float)(%22, 2.0)\u001b[36m::Float64\u001b[39m\n",
      "\u001b[90m│   \u001b[39m %24 = (Base.sub_float)(%19, %23)\u001b[36m::Float64\u001b[39m\n",
      "\u001b[90m│   \u001b[39m %25 = (Base.div_float)(%24, 0.002)\u001b[36m::Float64\u001b[39m\n",
      "\u001b[90m│   \u001b[39m %26 = (Base.div_float)(%15, %25)\u001b[36m::Float64\u001b[39m\n",
      "\u001b[90m│   \u001b[39m %27 = (Base.sub_float)(%11, %26)\u001b[36m::Float64\u001b[39m\n",
      "\u001b[90m│   \u001b[39m %28 = (%12 === %2)\u001b[36m::Bool\u001b[39m\n",
      "\u001b[90m└───\u001b[39m       goto #7 if not %28\n",
      "\u001b[90m6 ──\u001b[39m       goto #8\n",
      "\u001b[90m7 ──\u001b[39m %31 = (Base.add_int)(%12, 1)\u001b[36m::Int64\u001b[39m\n",
      "\u001b[90m└───\u001b[39m       goto #8\n",
      "\u001b[90m8 ┄─\u001b[39m %33 = φ (#7 => %31)\u001b[36m::Int64\u001b[39m\n",
      "\u001b[90m│   \u001b[39m %34 = φ (#6 => true, #7 => false)\u001b[36m::Bool\u001b[39m\n",
      "\u001b[90m│   \u001b[39m %35 = (Base.not_int)(%34)\u001b[36m::Bool\u001b[39m\n",
      "\u001b[90m└───\u001b[39m       goto #10 if not %35\n",
      "\u001b[90m9 ──\u001b[39m       goto #5\n",
      "\u001b[90m10 ┄\u001b[39m %38 = φ (#8 => %27, #4 => _4)\u001b[36m::Float64\u001b[39m\n",
      "\u001b[90m└───\u001b[39m       return %38\n"
     ]
    }
   ],
   "source": [
    "@code_warntype newton(g, finite_difference(g), 3.0, 10)"
   ]
  },
  {
   "cell_type": "markdown",
   "metadata": {},
   "source": [
    "Again everything has got inlined and will be performant!\n",
    "\n",
    "However, note that a specialised version of `newton` will be compiled for each function that you pass in as we have written it."
   ]
  },
  {
   "cell_type": "code",
   "execution_count": 26,
   "metadata": {},
   "outputs": [
    {
     "data": {
      "text/plain": [
       "0.0"
      ]
     },
     "execution_count": 26,
     "metadata": {},
     "output_type": "execute_result"
    }
   ],
   "source": [
    "newton(x->2x, 3.0)"
   ]
  },
  {
   "cell_type": "markdown",
   "metadata": {},
   "source": []
  },
  {
   "cell_type": "markdown",
   "metadata": {},
   "source": [
    "### Algorithmic differentiation"
   ]
  },
  {
   "cell_type": "markdown",
   "metadata": {},
   "source": [
    "An alternative way to calculate derivatives is by using [**algorithmic differentiation**](https://en.wikipedia.org/wiki/Automatic_differentiation) (also called **automatic differentiation** or **computational differentiation**). This gives exact results (up to rounding error).\n",
    "\n",
    "\n",
    "We will implement this algorithm in the next notebook, but for now let's just use the implementation in the excellent [`ForwardDiff.jl` package](https://github.com/JuliaDiff/ForwardDiff.jl).  A Julia **package** contains Julia code, written as functions, that provides additional functionality that you may use in your code by calling those functions.\n"
   ]
  },
  {
   "cell_type": "markdown",
   "metadata": {},
   "source": [
    "#### Exercise 3"
   ]
  },
  {
   "cell_type": "markdown",
   "metadata": {},
   "source": [
    "1. Install `ForwardDiff.jl` if necessary.\n",
    "\n",
    "\n",
    "2. Import it.\n",
    "\n",
    "\n",
    "3. Define a function `forwarddiff` that uses the `ForwardDiff.derivative` function to calculate a derivative."
   ]
  },
  {
   "cell_type": "markdown",
   "metadata": {},
   "source": [
    "#### Solution 3"
   ]
  },
  {
   "cell_type": "markdown",
   "metadata": {},
   "source": [
    "We install the package using the excellent built-in package manager in Julia. If the package is a registered package then Julia automatically knows where to find it and downloads it into a standard location in your local system.  Installing a package is only necessary once in a given installation of Julia."
   ]
  },
  {
   "cell_type": "code",
   "execution_count": 27,
   "metadata": {},
   "outputs": [],
   "source": [
    "# using Pkg\n",
    "\n",
    "# Pkg.add(\"ForwardDiff\")"
   ]
  },
  {
   "cell_type": "markdown",
   "metadata": {},
   "source": [
    "Alternative:"
   ]
  },
  {
   "cell_type": "code",
   "execution_count": 28,
   "metadata": {},
   "outputs": [],
   "source": [
    "# ]add ForwardDiff"
   ]
  },
  {
   "cell_type": "markdown",
   "metadata": {},
   "source": [
    "In order to use the package we must load it. There are two different ways to load a package: `using`, which makes available the functions that the package author has chosen to export by pulling them into your global namespace, and `import`, which does not do so.\n",
    "\n",
    "In the case of `ForwardDiff`, the functions provided in the package are in any case not exported:"
   ]
  },
  {
   "cell_type": "code",
   "execution_count": 29,
   "metadata": {},
   "outputs": [],
   "source": [
    "using ForwardDiff   # load the package"
   ]
  },
  {
   "cell_type": "markdown",
   "metadata": {},
   "source": [
    "We may choose to define our own function to access the relevant function of the package for simplicity:"
   ]
  },
  {
   "cell_type": "code",
   "execution_count": 30,
   "metadata": {},
   "outputs": [
    {
     "data": {
      "text/plain": [
       "forwarddiff (generic function with 1 method)"
      ]
     },
     "execution_count": 30,
     "metadata": {},
     "output_type": "execute_result"
    }
   ],
   "source": [
    "forwarddiff(f, x) = ForwardDiff.derivative(f, x)"
   ]
  },
  {
   "cell_type": "markdown",
   "metadata": {},
   "source": [
    "Note that the syntax `ForwardDiff.derivative` refers to the function called `derivative` that comes from the `ForwardDiff` package."
   ]
  },
  {
   "cell_type": "code",
   "execution_count": 31,
   "metadata": {},
   "outputs": [
    {
     "data": {
      "text/plain": [
       "derivative (generic function with 4 methods)"
      ]
     },
     "execution_count": 31,
     "metadata": {},
     "output_type": "execute_result"
    }
   ],
   "source": [
    "ForwardDiff.derivative"
   ]
  },
  {
   "cell_type": "code",
   "execution_count": 32,
   "metadata": {},
   "outputs": [
    {
     "data": {
      "text/plain": [
       "27.0"
      ]
     },
     "execution_count": 32,
     "metadata": {},
     "output_type": "execute_result"
    }
   ],
   "source": [
    "forwarddiff(g, a)"
   ]
  },
  {
   "cell_type": "markdown",
   "metadata": {},
   "source": [
    "### Choosing between algorithms"
   ]
  },
  {
   "cell_type": "markdown",
   "metadata": {},
   "source": [
    "We now have two different algorithms available to calculate derivatives. This kind of situation is common in scientific computing; for example, the [`DifferentialEquations.jl`](http://docs.juliadiffeq.org/latest/) ecosystem has some 300 algorithms for solving differential equations. One of the techniques we need to learn is how to specify which algorithm to use."
   ]
  },
  {
   "cell_type": "markdown",
   "metadata": {},
   "source": [
    "One possible solution is just by specifying the *function* to use as an argument to another function:"
   ]
  },
  {
   "cell_type": "markdown",
   "metadata": {},
   "source": [
    "#### Exercise 4"
   ]
  },
  {
   "cell_type": "markdown",
   "metadata": {},
   "source": [
    "1. Make a version of the Newton algorithm that takes an argument which is the method (algorithm) to use to calculate the derivative, given as a function. \n",
    "The new method should have the signature `newton(f, df, x0, n, derivative)`."
   ]
  },
  {
   "cell_type": "markdown",
   "metadata": {},
   "source": [
    "#### Solution 4"
   ]
  },
  {
   "cell_type": "code",
   "execution_count": 33,
   "metadata": {},
   "outputs": [
    {
     "data": {
      "text/html": [
       "3 methods for generic function <b>newton</b>:<ul><li> newton(f, x0) in Main at In[20]:4</li> <li> newton(f, x0, n) in Main at In[20]:4</li> <li> newton(f, df, x0, n) in Main at In[1]:2</li> </ul>"
      ],
      "text/plain": [
       "# 3 methods for generic function \"newton\":\n",
       "[1] newton(f, x0) in Main at In[20]:4\n",
       "[2] newton(f, x0, n) in Main at In[20]:4\n",
       "[3] newton(f, df, x0, n) in Main at In[1]:2"
      ]
     },
     "execution_count": 33,
     "metadata": {},
     "output_type": "execute_result"
    }
   ],
   "source": [
    "methods(newton)"
   ]
  },
  {
   "cell_type": "code",
   "execution_count": 34,
   "metadata": {},
   "outputs": [
    {
     "data": {
      "text/plain": [
       "newton (generic function with 4 methods)"
      ]
     },
     "execution_count": 34,
     "metadata": {},
     "output_type": "execute_result"
    }
   ],
   "source": [
    "function newton(f, df, x0, n, derivative)\n",
    "    df = x -> derivative(f, x)\n",
    "    \n",
    "    return newton(f, df, x0, n)\n",
    "end"
   ]
  },
  {
   "cell_type": "code",
   "execution_count": 35,
   "metadata": {},
   "outputs": [
    {
     "data": {
      "text/plain": [
       "1.2599210498948732"
      ]
     },
     "execution_count": 35,
     "metadata": {},
     "output_type": "execute_result"
    }
   ],
   "source": [
    "newton(g, dg, a, 10, finite_difference)"
   ]
  },
  {
   "cell_type": "code",
   "execution_count": 36,
   "metadata": {},
   "outputs": [
    {
     "data": {
      "text/plain": [
       "1.2599210498948732"
      ]
     },
     "execution_count": 36,
     "metadata": {},
     "output_type": "execute_result"
    }
   ],
   "source": [
    "newton(g, dg, a, 10, forwarddiff)"
   ]
  },
  {
   "cell_type": "code",
   "execution_count": 37,
   "metadata": {},
   "outputs": [
    {
     "data": {
      "text/html": [
       "4 methods for generic function <b>newton</b>:<ul><li> newton(f, x0) in Main at In[20]:4</li> <li> newton(f, x0, n) in Main at In[20]:4</li> <li> newton(f, df, x0, n) in Main at In[1]:2</li> <li> newton(f, df, x0, n, derivative) in Main at In[34]:2</li> </ul>"
      ],
      "text/plain": [
       "# 4 methods for generic function \"newton\":\n",
       "[1] newton(f, x0) in Main at In[20]:4\n",
       "[2] newton(f, x0, n) in Main at In[20]:4\n",
       "[3] newton(f, df, x0, n) in Main at In[1]:2\n",
       "[4] newton(f, df, x0, n, derivative) in Main at In[34]:2"
      ]
     },
     "execution_count": 37,
     "metadata": {},
     "output_type": "execute_result"
    }
   ],
   "source": [
    "methods(newton)"
   ]
  },
  {
   "cell_type": "markdown",
   "metadata": {},
   "source": [
    "We see that the `newton` function API (interface) is getting clumsy: it is difficult to remember which order and what each of the arguments represents. In future notebooks we will see how to improve this."
   ]
  }
 ],
 "metadata": {
  "@webio": {
   "lastCommId": null,
   "lastKernelId": null
  },
  "kernelspec": {
   "display_name": "Julia 1.1.0",
   "language": "julia",
   "name": "julia-1.1"
  },
  "language_info": {
   "file_extension": ".jl",
   "mimetype": "application/julia",
   "name": "julia",
   "version": "1.1.0"
  }
 },
 "nbformat": 4,
 "nbformat_minor": 2
}
